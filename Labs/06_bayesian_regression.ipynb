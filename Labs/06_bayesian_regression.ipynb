{
  "cells": [
    {
      "cell_type": "markdown",
      "metadata": {
        "id": "f36def74"
      },
      "source": [
        "<a href=\"https://colab.research.google.com/github/r-doz/PML2025/blob/main/./06_bayesian_regression.ipynb\" target=\"_parent\"><img src=\"https://colab.research.google.com/assets/colab-badge.svg\" alt=\"Open In Colab\"/></a>"
      ]
    },
    {
      "cell_type": "markdown",
      "metadata": {
        "id": "iB3FE6fL5uDc"
      },
      "source": [
        "# Notebook 6: Bayesian Linear Regression & Classification\n",
        "\n",
        "Probabilistic Machine Learning -- Spring 2025, UniTS\n"
      ]
    },
    {
      "cell_type": "markdown",
      "metadata": {
        "id": "F35taZkr5uDe"
      },
      "source": [
        "In this notebook, we explore linear regression and classification from a Bayesian point of view. In both cases, we start implementing the classical formulation and then we switch to the Bayesian version. We can then compare the methods on a simple example."
      ]
    },
    {
      "cell_type": "code",
      "execution_count": 1,
      "metadata": {
        "id": "ccGOP4Xl5uDg"
      },
      "outputs": [],
      "source": [
        "import pandas as pd\n",
        "import numpy as np\n",
        "import matplotlib.pyplot as plt"
      ]
    },
    {
      "cell_type": "markdown",
      "metadata": {
        "id": "xk2ad-0j5uDk"
      },
      "source": [
        "## Linear Regression\n",
        "\n",
        "The first model that we implement is the well known linear regression model and we use the \"linear algebra view\" that we studied during the lessons.\n",
        "\n",
        "As a case study, we use the [Kaggle dataset](https://www.kaggle.com/datasets/budincsevity/szeged-weather/data) about Weather in Szeged (Hungary) between 2006 and 2016 and we try to predict the apparent temperature given some predictors.\n",
        "\n"
      ]
    },
    {
      "cell_type": "code",
      "execution_count": 2,
      "metadata": {
        "colab": {
          "base_uri": "https://localhost:8080/",
          "height": 216
        },
        "id": "NCphppuc5uDm",
        "outputId": "2d282784-4c64-42c1-81e8-ec924f2a5e8f"
      },
      "outputs": [
        {
          "output_type": "execute_result",
          "data": {
            "text/plain": [
              "                  Formatted Date        Summary Precip Type  Temperature (C)  \\\n",
              "0  2006-04-01 00:00:00.000 +0200  Partly Cloudy        rain         9.472222   \n",
              "1  2006-04-01 01:00:00.000 +0200  Partly Cloudy        rain         9.355556   \n",
              "\n",
              "   Apparent Temperature (C)  Humidity  Wind Speed (km/h)  \\\n",
              "0                  7.388889      0.89            14.1197   \n",
              "1                  7.227778      0.86            14.2646   \n",
              "\n",
              "   Wind Bearing (degrees)  Visibility (km)  Loud Cover  Pressure (millibars)  \\\n",
              "0                   251.0          15.8263         0.0               1015.13   \n",
              "1                   259.0          15.8263         0.0               1015.63   \n",
              "\n",
              "                       Daily Summary  \n",
              "0  Partly cloudy throughout the day.  \n",
              "1  Partly cloudy throughout the day.  "
            ],
            "text/html": [
              "\n",
              "  <div id=\"df-1940fa0e-cf7a-4e04-8946-0425d67b7472\" class=\"colab-df-container\">\n",
              "    <div>\n",
              "<style scoped>\n",
              "    .dataframe tbody tr th:only-of-type {\n",
              "        vertical-align: middle;\n",
              "    }\n",
              "\n",
              "    .dataframe tbody tr th {\n",
              "        vertical-align: top;\n",
              "    }\n",
              "\n",
              "    .dataframe thead th {\n",
              "        text-align: right;\n",
              "    }\n",
              "</style>\n",
              "<table border=\"1\" class=\"dataframe\">\n",
              "  <thead>\n",
              "    <tr style=\"text-align: right;\">\n",
              "      <th></th>\n",
              "      <th>Formatted Date</th>\n",
              "      <th>Summary</th>\n",
              "      <th>Precip Type</th>\n",
              "      <th>Temperature (C)</th>\n",
              "      <th>Apparent Temperature (C)</th>\n",
              "      <th>Humidity</th>\n",
              "      <th>Wind Speed (km/h)</th>\n",
              "      <th>Wind Bearing (degrees)</th>\n",
              "      <th>Visibility (km)</th>\n",
              "      <th>Loud Cover</th>\n",
              "      <th>Pressure (millibars)</th>\n",
              "      <th>Daily Summary</th>\n",
              "    </tr>\n",
              "  </thead>\n",
              "  <tbody>\n",
              "    <tr>\n",
              "      <th>0</th>\n",
              "      <td>2006-04-01 00:00:00.000 +0200</td>\n",
              "      <td>Partly Cloudy</td>\n",
              "      <td>rain</td>\n",
              "      <td>9.472222</td>\n",
              "      <td>7.388889</td>\n",
              "      <td>0.89</td>\n",
              "      <td>14.1197</td>\n",
              "      <td>251.0</td>\n",
              "      <td>15.8263</td>\n",
              "      <td>0.0</td>\n",
              "      <td>1015.13</td>\n",
              "      <td>Partly cloudy throughout the day.</td>\n",
              "    </tr>\n",
              "    <tr>\n",
              "      <th>1</th>\n",
              "      <td>2006-04-01 01:00:00.000 +0200</td>\n",
              "      <td>Partly Cloudy</td>\n",
              "      <td>rain</td>\n",
              "      <td>9.355556</td>\n",
              "      <td>7.227778</td>\n",
              "      <td>0.86</td>\n",
              "      <td>14.2646</td>\n",
              "      <td>259.0</td>\n",
              "      <td>15.8263</td>\n",
              "      <td>0.0</td>\n",
              "      <td>1015.63</td>\n",
              "      <td>Partly cloudy throughout the day.</td>\n",
              "    </tr>\n",
              "  </tbody>\n",
              "</table>\n",
              "</div>\n",
              "    <div class=\"colab-df-buttons\">\n",
              "\n",
              "  <div class=\"colab-df-container\">\n",
              "    <button class=\"colab-df-convert\" onclick=\"convertToInteractive('df-1940fa0e-cf7a-4e04-8946-0425d67b7472')\"\n",
              "            title=\"Convert this dataframe to an interactive table.\"\n",
              "            style=\"display:none;\">\n",
              "\n",
              "  <svg xmlns=\"http://www.w3.org/2000/svg\" height=\"24px\" viewBox=\"0 -960 960 960\">\n",
              "    <path d=\"M120-120v-720h720v720H120Zm60-500h600v-160H180v160Zm220 220h160v-160H400v160Zm0 220h160v-160H400v160ZM180-400h160v-160H180v160Zm440 0h160v-160H620v160ZM180-180h160v-160H180v160Zm440 0h160v-160H620v160Z\"/>\n",
              "  </svg>\n",
              "    </button>\n",
              "\n",
              "  <style>\n",
              "    .colab-df-container {\n",
              "      display:flex;\n",
              "      gap: 12px;\n",
              "    }\n",
              "\n",
              "    .colab-df-convert {\n",
              "      background-color: #E8F0FE;\n",
              "      border: none;\n",
              "      border-radius: 50%;\n",
              "      cursor: pointer;\n",
              "      display: none;\n",
              "      fill: #1967D2;\n",
              "      height: 32px;\n",
              "      padding: 0 0 0 0;\n",
              "      width: 32px;\n",
              "    }\n",
              "\n",
              "    .colab-df-convert:hover {\n",
              "      background-color: #E2EBFA;\n",
              "      box-shadow: 0px 1px 2px rgba(60, 64, 67, 0.3), 0px 1px 3px 1px rgba(60, 64, 67, 0.15);\n",
              "      fill: #174EA6;\n",
              "    }\n",
              "\n",
              "    .colab-df-buttons div {\n",
              "      margin-bottom: 4px;\n",
              "    }\n",
              "\n",
              "    [theme=dark] .colab-df-convert {\n",
              "      background-color: #3B4455;\n",
              "      fill: #D2E3FC;\n",
              "    }\n",
              "\n",
              "    [theme=dark] .colab-df-convert:hover {\n",
              "      background-color: #434B5C;\n",
              "      box-shadow: 0px 1px 3px 1px rgba(0, 0, 0, 0.15);\n",
              "      filter: drop-shadow(0px 1px 2px rgba(0, 0, 0, 0.3));\n",
              "      fill: #FFFFFF;\n",
              "    }\n",
              "  </style>\n",
              "\n",
              "    <script>\n",
              "      const buttonEl =\n",
              "        document.querySelector('#df-1940fa0e-cf7a-4e04-8946-0425d67b7472 button.colab-df-convert');\n",
              "      buttonEl.style.display =\n",
              "        google.colab.kernel.accessAllowed ? 'block' : 'none';\n",
              "\n",
              "      async function convertToInteractive(key) {\n",
              "        const element = document.querySelector('#df-1940fa0e-cf7a-4e04-8946-0425d67b7472');\n",
              "        const dataTable =\n",
              "          await google.colab.kernel.invokeFunction('convertToInteractive',\n",
              "                                                    [key], {});\n",
              "        if (!dataTable) return;\n",
              "\n",
              "        const docLinkHtml = 'Like what you see? Visit the ' +\n",
              "          '<a target=\"_blank\" href=https://colab.research.google.com/notebooks/data_table.ipynb>data table notebook</a>'\n",
              "          + ' to learn more about interactive tables.';\n",
              "        element.innerHTML = '';\n",
              "        dataTable['output_type'] = 'display_data';\n",
              "        await google.colab.output.renderOutput(dataTable, element);\n",
              "        const docLink = document.createElement('div');\n",
              "        docLink.innerHTML = docLinkHtml;\n",
              "        element.appendChild(docLink);\n",
              "      }\n",
              "    </script>\n",
              "  </div>\n",
              "\n",
              "\n",
              "<div id=\"df-58b02d6f-8bcf-4e89-a7eb-8efcd55b60cd\">\n",
              "  <button class=\"colab-df-quickchart\" onclick=\"quickchart('df-58b02d6f-8bcf-4e89-a7eb-8efcd55b60cd')\"\n",
              "            title=\"Suggest charts\"\n",
              "            style=\"display:none;\">\n",
              "\n",
              "<svg xmlns=\"http://www.w3.org/2000/svg\" height=\"24px\"viewBox=\"0 0 24 24\"\n",
              "     width=\"24px\">\n",
              "    <g>\n",
              "        <path d=\"M19 3H5c-1.1 0-2 .9-2 2v14c0 1.1.9 2 2 2h14c1.1 0 2-.9 2-2V5c0-1.1-.9-2-2-2zM9 17H7v-7h2v7zm4 0h-2V7h2v10zm4 0h-2v-4h2v4z\"/>\n",
              "    </g>\n",
              "</svg>\n",
              "  </button>\n",
              "\n",
              "<style>\n",
              "  .colab-df-quickchart {\n",
              "      --bg-color: #E8F0FE;\n",
              "      --fill-color: #1967D2;\n",
              "      --hover-bg-color: #E2EBFA;\n",
              "      --hover-fill-color: #174EA6;\n",
              "      --disabled-fill-color: #AAA;\n",
              "      --disabled-bg-color: #DDD;\n",
              "  }\n",
              "\n",
              "  [theme=dark] .colab-df-quickchart {\n",
              "      --bg-color: #3B4455;\n",
              "      --fill-color: #D2E3FC;\n",
              "      --hover-bg-color: #434B5C;\n",
              "      --hover-fill-color: #FFFFFF;\n",
              "      --disabled-bg-color: #3B4455;\n",
              "      --disabled-fill-color: #666;\n",
              "  }\n",
              "\n",
              "  .colab-df-quickchart {\n",
              "    background-color: var(--bg-color);\n",
              "    border: none;\n",
              "    border-radius: 50%;\n",
              "    cursor: pointer;\n",
              "    display: none;\n",
              "    fill: var(--fill-color);\n",
              "    height: 32px;\n",
              "    padding: 0;\n",
              "    width: 32px;\n",
              "  }\n",
              "\n",
              "  .colab-df-quickchart:hover {\n",
              "    background-color: var(--hover-bg-color);\n",
              "    box-shadow: 0 1px 2px rgba(60, 64, 67, 0.3), 0 1px 3px 1px rgba(60, 64, 67, 0.15);\n",
              "    fill: var(--button-hover-fill-color);\n",
              "  }\n",
              "\n",
              "  .colab-df-quickchart-complete:disabled,\n",
              "  .colab-df-quickchart-complete:disabled:hover {\n",
              "    background-color: var(--disabled-bg-color);\n",
              "    fill: var(--disabled-fill-color);\n",
              "    box-shadow: none;\n",
              "  }\n",
              "\n",
              "  .colab-df-spinner {\n",
              "    border: 2px solid var(--fill-color);\n",
              "    border-color: transparent;\n",
              "    border-bottom-color: var(--fill-color);\n",
              "    animation:\n",
              "      spin 1s steps(1) infinite;\n",
              "  }\n",
              "\n",
              "  @keyframes spin {\n",
              "    0% {\n",
              "      border-color: transparent;\n",
              "      border-bottom-color: var(--fill-color);\n",
              "      border-left-color: var(--fill-color);\n",
              "    }\n",
              "    20% {\n",
              "      border-color: transparent;\n",
              "      border-left-color: var(--fill-color);\n",
              "      border-top-color: var(--fill-color);\n",
              "    }\n",
              "    30% {\n",
              "      border-color: transparent;\n",
              "      border-left-color: var(--fill-color);\n",
              "      border-top-color: var(--fill-color);\n",
              "      border-right-color: var(--fill-color);\n",
              "    }\n",
              "    40% {\n",
              "      border-color: transparent;\n",
              "      border-right-color: var(--fill-color);\n",
              "      border-top-color: var(--fill-color);\n",
              "    }\n",
              "    60% {\n",
              "      border-color: transparent;\n",
              "      border-right-color: var(--fill-color);\n",
              "    }\n",
              "    80% {\n",
              "      border-color: transparent;\n",
              "      border-right-color: var(--fill-color);\n",
              "      border-bottom-color: var(--fill-color);\n",
              "    }\n",
              "    90% {\n",
              "      border-color: transparent;\n",
              "      border-bottom-color: var(--fill-color);\n",
              "    }\n",
              "  }\n",
              "</style>\n",
              "\n",
              "  <script>\n",
              "    async function quickchart(key) {\n",
              "      const quickchartButtonEl =\n",
              "        document.querySelector('#' + key + ' button');\n",
              "      quickchartButtonEl.disabled = true;  // To prevent multiple clicks.\n",
              "      quickchartButtonEl.classList.add('colab-df-spinner');\n",
              "      try {\n",
              "        const charts = await google.colab.kernel.invokeFunction(\n",
              "            'suggestCharts', [key], {});\n",
              "      } catch (error) {\n",
              "        console.error('Error during call to suggestCharts:', error);\n",
              "      }\n",
              "      quickchartButtonEl.classList.remove('colab-df-spinner');\n",
              "      quickchartButtonEl.classList.add('colab-df-quickchart-complete');\n",
              "    }\n",
              "    (() => {\n",
              "      let quickchartButtonEl =\n",
              "        document.querySelector('#df-58b02d6f-8bcf-4e89-a7eb-8efcd55b60cd button');\n",
              "      quickchartButtonEl.style.display =\n",
              "        google.colab.kernel.accessAllowed ? 'block' : 'none';\n",
              "    })();\n",
              "  </script>\n",
              "</div>\n",
              "\n",
              "    </div>\n",
              "  </div>\n"
            ],
            "application/vnd.google.colaboratory.intrinsic+json": {
              "type": "dataframe",
              "variable_name": "weatherHistory",
              "summary": "{\n  \"name\": \"weatherHistory\",\n  \"rows\": 96453,\n  \"fields\": [\n    {\n      \"column\": \"Formatted Date\",\n      \"properties\": {\n        \"dtype\": \"object\",\n        \"num_unique_values\": 96429,\n        \"samples\": [\n          \"2008-10-17 17:00:00.000 +0200\",\n          \"2014-11-02 03:00:00.000 +0100\",\n          \"2008-06-18 01:00:00.000 +0200\"\n        ],\n        \"semantic_type\": \"\",\n        \"description\": \"\"\n      }\n    },\n    {\n      \"column\": \"Summary\",\n      \"properties\": {\n        \"dtype\": \"category\",\n        \"num_unique_values\": 27,\n        \"samples\": [\n          \"Humid and Mostly Cloudy\",\n          \"Windy and Partly Cloudy\",\n          \"Humid and Partly Cloudy\"\n        ],\n        \"semantic_type\": \"\",\n        \"description\": \"\"\n      }\n    },\n    {\n      \"column\": \"Precip Type\",\n      \"properties\": {\n        \"dtype\": \"category\",\n        \"num_unique_values\": 2,\n        \"samples\": [\n          \"snow\",\n          \"rain\"\n        ],\n        \"semantic_type\": \"\",\n        \"description\": \"\"\n      }\n    },\n    {\n      \"column\": \"Temperature (C)\",\n      \"properties\": {\n        \"dtype\": \"number\",\n        \"std\": 9.551546320656923,\n        \"min\": -21.822222222222223,\n        \"max\": 39.90555555555555,\n        \"num_unique_values\": 7574,\n        \"samples\": [\n          34.8111111111111,\n          14.955555555555556\n        ],\n        \"semantic_type\": \"\",\n        \"description\": \"\"\n      }\n    },\n    {\n      \"column\": \"Apparent Temperature (C)\",\n      \"properties\": {\n        \"dtype\": \"number\",\n        \"std\": 10.696847392119263,\n        \"min\": -27.716666666666665,\n        \"max\": 39.34444444444444,\n        \"num_unique_values\": 8984,\n        \"samples\": [\n          32.01111111111111,\n          3.1611111111111097\n        ],\n        \"semantic_type\": \"\",\n        \"description\": \"\"\n      }\n    },\n    {\n      \"column\": \"Humidity\",\n      \"properties\": {\n        \"dtype\": \"number\",\n        \"std\": 0.19547273906722662,\n        \"min\": 0.0,\n        \"max\": 1.0,\n        \"num_unique_values\": 90,\n        \"samples\": [\n          0.81,\n          0.8\n        ],\n        \"semantic_type\": \"\",\n        \"description\": \"\"\n      }\n    },\n    {\n      \"column\": \"Wind Speed (km/h)\",\n      \"properties\": {\n        \"dtype\": \"number\",\n        \"std\": 6.9135710125921515,\n        \"min\": 0.0,\n        \"max\": 63.8526,\n        \"num_unique_values\": 2484,\n        \"samples\": [\n          23.3611,\n          33.1016\n        ],\n        \"semantic_type\": \"\",\n        \"description\": \"\"\n      }\n    },\n    {\n      \"column\": \"Wind Bearing (degrees)\",\n      \"properties\": {\n        \"dtype\": \"number\",\n        \"std\": 107.38342838070538,\n        \"min\": 0.0,\n        \"max\": 359.0,\n        \"num_unique_values\": 360,\n        \"samples\": [\n          128.0,\n          15.0\n        ],\n        \"semantic_type\": \"\",\n        \"description\": \"\"\n      }\n    },\n    {\n      \"column\": \"Visibility (km)\",\n      \"properties\": {\n        \"dtype\": \"number\",\n        \"std\": 4.192123191422925,\n        \"min\": 0.0,\n        \"max\": 16.1,\n        \"num_unique_values\": 949,\n        \"samples\": [\n          4.395300000000001,\n          6.6332\n        ],\n        \"semantic_type\": \"\",\n        \"description\": \"\"\n      }\n    },\n    {\n      \"column\": \"Loud Cover\",\n      \"properties\": {\n        \"dtype\": \"number\",\n        \"std\": 0.0,\n        \"min\": 0.0,\n        \"max\": 0.0,\n        \"num_unique_values\": 1,\n        \"samples\": [\n          0.0\n        ],\n        \"semantic_type\": \"\",\n        \"description\": \"\"\n      }\n    },\n    {\n      \"column\": \"Pressure (millibars)\",\n      \"properties\": {\n        \"dtype\": \"number\",\n        \"std\": 116.96990568258147,\n        \"min\": 0.0,\n        \"max\": 1046.38,\n        \"num_unique_values\": 4979,\n        \"samples\": [\n          987.38\n        ],\n        \"semantic_type\": \"\",\n        \"description\": \"\"\n      }\n    },\n    {\n      \"column\": \"Daily Summary\",\n      \"properties\": {\n        \"dtype\": \"category\",\n        \"num_unique_values\": 214,\n        \"samples\": [\n          \"Partly cloudy until evening.\"\n        ],\n        \"semantic_type\": \"\",\n        \"description\": \"\"\n      }\n    }\n  ]\n}"
            }
          },
          "metadata": {},
          "execution_count": 2
        }
      ],
      "source": [
        "weatherHistory = pd.read_csv('https://raw.githubusercontent.com/DavideScassola/PML2024/main/Notebooks/data/weatherHistory.csv')\n",
        "weatherHistory.head(2)"
      ]
    },
    {
      "cell_type": "code",
      "execution_count": 3,
      "metadata": {
        "colab": {
          "base_uri": "https://localhost:8080/"
        },
        "id": "Otsl7MZF5uDp",
        "outputId": "061b2b87-ae04-4d3f-b303-729cac55a618"
      },
      "outputs": [
        {
          "output_type": "stream",
          "name": "stdout",
          "text": [
            "<class 'pandas.core.frame.DataFrame'>\n",
            "RangeIndex: 96453 entries, 0 to 96452\n",
            "Data columns (total 12 columns):\n",
            " #   Column                    Non-Null Count  Dtype  \n",
            "---  ------                    --------------  -----  \n",
            " 0   Formatted Date            96453 non-null  object \n",
            " 1   Summary                   96453 non-null  object \n",
            " 2   Precip Type               95936 non-null  object \n",
            " 3   Temperature (C)           96453 non-null  float64\n",
            " 4   Apparent Temperature (C)  96453 non-null  float64\n",
            " 5   Humidity                  96453 non-null  float64\n",
            " 6   Wind Speed (km/h)         96453 non-null  float64\n",
            " 7   Wind Bearing (degrees)    96453 non-null  float64\n",
            " 8   Visibility (km)           96453 non-null  float64\n",
            " 9   Loud Cover                96453 non-null  float64\n",
            " 10  Pressure (millibars)      96453 non-null  float64\n",
            " 11  Daily Summary             96453 non-null  object \n",
            "dtypes: float64(8), object(4)\n",
            "memory usage: 8.8+ MB\n"
          ]
        }
      ],
      "source": [
        "weatherHistory.info()"
      ]
    },
    {
      "cell_type": "code",
      "execution_count": 4,
      "metadata": {
        "colab": {
          "base_uri": "https://localhost:8080/"
        },
        "id": "ZSQ7Ii1H5uDr",
        "outputId": "78e9b473-c996-4007-aca7-3ebdca5d5293"
      },
      "outputs": [
        {
          "output_type": "stream",
          "name": "stdout",
          "text": [
            "<class 'pandas.core.frame.DataFrame'>\n",
            "RangeIndex: 30 entries, 0 to 29\n",
            "Data columns (total 12 columns):\n",
            " #   Column                    Non-Null Count  Dtype              \n",
            "---  ------                    --------------  -----              \n",
            " 0   Formatted Date            30 non-null     datetime64[ns, UTC]\n",
            " 1   Summary                   30 non-null     object             \n",
            " 2   Precip Type               30 non-null     object             \n",
            " 3   Temperature (C)           30 non-null     float64            \n",
            " 4   Apparent Temperature (C)  30 non-null     float64            \n",
            " 5   Humidity                  30 non-null     float64            \n",
            " 6   Wind Speed (km/h)         30 non-null     float64            \n",
            " 7   Wind Bearing (degrees)    30 non-null     float64            \n",
            " 8   Visibility (km)           30 non-null     float64            \n",
            " 9   Loud Cover                30 non-null     float64            \n",
            " 10  Pressure (millibars)      30 non-null     float64            \n",
            " 11  Daily Summary             30 non-null     object             \n",
            "dtypes: datetime64[ns, UTC](1), float64(8), object(3)\n",
            "memory usage: 2.9+ KB\n"
          ]
        }
      ],
      "source": [
        "#Let's reduce the size of the dataset by considering one row for each day (corresponding to 16:00), only in 2015\n",
        "#Training: April, Test: May\n",
        "weatherHistory['Formatted Date'] = pd.to_datetime(weatherHistory['Formatted Date'], utc=True)\n",
        "data = weatherHistory[((weatherHistory['Formatted Date'].dt.hour == 16) & (weatherHistory['Formatted Date'].dt.year == 2014) & (weatherHistory['Formatted Date'].dt.month == 4))].reset_index(drop=True)\n",
        "data.info()\n",
        "data_test = weatherHistory[((weatherHistory['Formatted Date'].dt.hour == 16) & (weatherHistory['Formatted Date'].dt.year == 2014) & (weatherHistory['Formatted Date'].dt.month == 5))].reset_index(drop=True)\n"
      ]
    },
    {
      "cell_type": "code",
      "execution_count": 5,
      "metadata": {
        "colab": {
          "base_uri": "https://localhost:8080/",
          "height": 490
        },
        "id": "FkatnCXd5uDt",
        "outputId": "c67ae557-f049-4a29-9f91-0d9dcd332198"
      },
      "outputs": [
        {
          "output_type": "execute_result",
          "data": {
            "text/plain": [
              "Text(0.5, 1.0, 'Humidity vs Apparent Temperature ')"
            ]
          },
          "metadata": {},
          "execution_count": 5
        },
        {
          "output_type": "display_data",
          "data": {
            "text/plain": [
              "<Figure size 640x480 with 1 Axes>"
            ],
            "image/png": "[encoded data removed]"
          },
          "metadata": {}
        }
      ],
      "source": [
        "plt.scatter(data[\"Apparent Temperature (C)\"], data[\"Humidity\"], label = \"train\")\n",
        "plt.scatter(data_test[\"Apparent Temperature (C)\"], data_test[\"Humidity\"], label = \"test\")\n",
        "\n",
        "plt.xlabel(\"Humidity\")\n",
        "plt.ylabel(\"Apparent Temperature (C)\")\n",
        "plt.title(\"Humidity vs Apparent Temperature \")"
      ]
    },
    {
      "cell_type": "markdown",
      "metadata": {
        "id": "RxLjMvlC5uDu"
      },
      "source": [
        "In order to perform the linear regression, we follow the maximum likelihood approach:\n",
        "$$\\theta_{ML} = \\text{argmax } p(\\underline{y} | \\underline{x}, \\theta)$$\n",
        "\n",
        "and we define our parametric model as:\n",
        "$$p(y|x, \\theta) = \\mathcal{N}(y|f(x,w), \\beta^{-1})$$\n",
        "\n",
        "where\n",
        "\n",
        "$$f(x,w) = w_0 \\phi_0(x) + \\ldots + w_{M-1}\\phi_{M-1}(x)$$\n",
        "\n",
        "with $\\phi$ basis functions.\n",
        "\n",
        "The weighs can be computed by:\n",
        "\n",
        "$$w_M = \\left( \\Phi^T \\Phi \\right)^{-1} \\Phi^T \\underline{y}$$\n",
        "\n",
        "where $\\Phi$ is the design matrix."
      ]
    },
    {
      "cell_type": "code",
      "execution_count": 8,
      "metadata": {
        "id": "mFGaIKjO5uDu"
      },
      "outputs": [],
      "source": [
        "def linear_basis(x):\n",
        "    return x\n",
        "\n",
        "def linear_regression(x,y,basis_function):\n",
        "    N = len(y)\n",
        "    train_features = basis_function(x)\n",
        "    #your code here\n",
        "    # Add a column of ones to the features for the bias term\n",
        "    PHI = np.hstack((np.ones((N, 1)), train_features))\n",
        "    # Calculate the weights using the formula: w = (PHI^T * PHI)^-1 * PHI^T * y\n",
        "    w = np.linalg.solve(PHI.T @ PHI, PHI.T @ y)\n",
        "    # Calculate predictions: y_pred = PHI * w\n",
        "    y_pred = PHI @ w\n",
        "    return y_pred, w\n",
        "\n",
        "def predict_linear_regression(x,N,w,basis_function):\n",
        "    train_features = basis_function(x)\n",
        "    #your code here\n",
        "    # Add a column of ones for the bias term\n",
        "    PHI = np.hstack((np.ones((N, 1)), train_features))\n",
        "    # Calculate predictions: y_pred = PHI * w\n",
        "    y_pred = PHI @ w\n",
        "    return y_pred"
      ]
    },
    {
      "cell_type": "markdown",
      "metadata": {
        "id": "G3sVE-vj5uDv"
      },
      "source": [
        "We can perform the linear regression on the dataset and compute:\n",
        "\n",
        "- Mean Squared Error (MSE): $$\\text{MSE} = \\frac{1}{N} \\sum_{i=1}^N (y_i - \\hat{y}_i)^2$$\n",
        "- Log Likelihood: $$\\sum_i -\\frac{1}{2} \\log(2\\pi\\sigma_i^2) - \\frac{(y_i - \\mu_i)^2}{2\\sigma_i^2}$$\n"
      ]
    },
    {
      "cell_type": "code",
      "execution_count": 9,
      "metadata": {
        "colab": {
          "base_uri": "https://localhost:8080/",
          "height": 563
        },
        "id": "rTn06r9w5uDv",
        "outputId": "eae2f1be-f624-477e-ac4d-59508533b6f2"
      },
      "outputs": [
        {
          "output_type": "stream",
          "name": "stdout",
          "text": [
            "10.0\n"
          ]
        },
        {
          "output_type": "display_data",
          "data": {
            "text/plain": [
              "<Figure size 640x480 with 1 Axes>"
            ],
            "image/png": "[encoded data removed]"
          },
          "metadata": {}
        },
        {
          "output_type": "stream",
          "name": "stdout",
          "text": [
            "MSE:\n",
            "15.003278972671406\n",
            "Log Likelihood:\n",
            "-164.1604641629829\n"
          ]
        }
      ],
      "source": [
        "#in this case x and y are row vectors, so we need to convert them to column vectors\n",
        "x = data[\"Humidity\"].to_numpy().reshape(-1,1)\n",
        "y = data[\"Apparent Temperature (C)\"].to_numpy().reshape(-1,1)\n",
        "\n",
        "beta = 0.01\n",
        "print(np.sqrt(1/beta))\n",
        "\n",
        "y_pred_linear, w = linear_regression(x,y,linear_basis)\n",
        "\n",
        "plt.scatter(data[\"Humidity\"], data[\"Apparent Temperature (C)\"], label = 'Data')\n",
        "plt.scatter(data[\"Humidity\"].to_numpy(), y_pred_linear, label = 'Predictions')\n",
        "plt.xlabel(\"Humidity\")\n",
        "plt.ylabel(\"Apparent Temperature (C)\")\n",
        "plt.title(\"Linear Regression\")\n",
        "plt.legend()\n",
        "plt.show()\n",
        "\n",
        "print(\"MSE:\")\n",
        "print(np.mean((y_pred_linear.T-y)**2))\n",
        "print(\"Log Likelihood:\")\n",
        "print(-len(y)/2*np.log(2*np.pi)-len(y)/2*np.log(1/beta) - 1/2*beta*np.sum((y_pred_linear.T-y)**2))"
      ]
    },
    {
      "cell_type": "code",
      "execution_count": 10,
      "metadata": {
        "colab": {
          "base_uri": "https://localhost:8080/",
          "height": 545
        },
        "id": "_VfGkYzb5uDw",
        "outputId": "2351ace4-eec9-4c86-a470-f9eeb3bd80e3"
      },
      "outputs": [
        {
          "output_type": "display_data",
          "data": {
            "text/plain": [
              "<Figure size 640x480 with 1 Axes>"
            ],
            "image/png": "[encoded data removed]"
          },
          "metadata": {}
        },
        {
          "output_type": "stream",
          "name": "stdout",
          "text": [
            "MSE:\n",
            "31.098261165291383\n",
            "Log Likelihood:\n",
            "-249.2943773113854\n"
          ]
        }
      ],
      "source": [
        "#Let's see now on the test set\n",
        "\n",
        "x_test = data_test[\"Humidity\"].to_numpy().reshape(-1,1)\n",
        "y_test = data_test[\"Apparent Temperature (C)\"].to_numpy().reshape(-1,1)\n",
        "\n",
        "y_test_pred= predict_linear_regression(x_test,len(x_test),w,linear_basis)\n",
        "\n",
        "plt.scatter(data_test[\"Humidity\"], data_test[\"Apparent Temperature (C)\"], label = 'Data')\n",
        "plt.scatter(data_test[\"Humidity\"].to_numpy(), y_test_pred, label = 'Predictions')\n",
        "plt.xlabel(\"Humidity\")\n",
        "plt.ylabel(\"Apparent Temperature (C)\")\n",
        "plt.title(\"Linear Regression (test data)\")\n",
        "plt.legend()\n",
        "plt.show()\n",
        "\n",
        "print(\"MSE:\")\n",
        "print(np.mean((y_test_pred.T-y_test)**2))\n",
        "print(\"Log Likelihood:\")\n",
        "print(-len(y_test)/2*np.log(2*np.pi*1/beta) - 1/2*np.sum((y_test_pred.T-y_test)**2*beta))\n"
      ]
    },
    {
      "cell_type": "code",
      "execution_count": 11,
      "metadata": {
        "colab": {
          "base_uri": "https://localhost:8080/",
          "height": 545
        },
        "id": "dmSR99lo5uDx",
        "outputId": "2f704d33-be55-48a5-b356-d9908592dad5"
      },
      "outputs": [
        {
          "output_type": "display_data",
          "data": {
            "text/plain": [
              "<Figure size 640x480 with 1 Axes>"
            ],
            "image/png": "[encoded data removed]"
          },
          "metadata": {}
        },
        {
          "output_type": "stream",
          "name": "stdout",
          "text": [
            "MSE:\n",
            "14.78712615835382\n",
            "Log Likelihood:\n",
            "-163.18777649855375\n"
          ]
        }
      ],
      "source": [
        "#Let's try to change the basis function\n",
        "\n",
        "def square_basis(x):\n",
        "    return  x**2\n",
        "\n",
        "y_pred, w = linear_regression(x,y,square_basis)\n",
        "\n",
        "plt.scatter(data[\"Humidity\"], data[\"Apparent Temperature (C)\"], label = 'Data')\n",
        "plt.scatter(data[\"Humidity\"].to_numpy(), y_pred, label = 'Predictions')\n",
        "plt.xlabel(\"Humidity\")\n",
        "plt.ylabel(\"Apparent Temperature (C)\")\n",
        "plt.title(\"Linear Regression\")\n",
        "plt.legend()\n",
        "plt.show()\n",
        "\n",
        "print(\"MSE:\")\n",
        "print(np.mean((y_pred.T-y)**2))\n",
        "print(\"Log Likelihood:\")\n",
        "print(-len(y)/2*np.log(2*np.pi)-len(y)/2*np.log(1/beta) - 1/2*beta*np.sum((y_pred.T-y)**2))"
      ]
    },
    {
      "cell_type": "code",
      "execution_count": 12,
      "metadata": {
        "colab": {
          "base_uri": "https://localhost:8080/",
          "height": 636
        },
        "id": "P3bO0R-b5uDx",
        "outputId": "df80593c-4c8b-4411-f84f-c4e9df16f334"
      },
      "outputs": [
        {
          "output_type": "display_data",
          "data": {
            "text/plain": [
              "<Figure size 640x480 with 1 Axes>"
            ],
            "image/png": "[encoded data removed]"
          },
          "metadata": {}
        },
        {
          "output_type": "stream",
          "name": "stdout",
          "text": [
            "MSE:\n",
            "26.4082027947018\n",
            "Log Likelihood:\n",
            "-215.48262136211966\n",
            "Weights:\n",
            "[[-1.00729886]\n",
            " [ 1.05330159]\n",
            " [ 0.02107207]\n",
            " [ 0.00365833]]\n"
          ]
        }
      ],
      "source": [
        "#We can also consider more predictors\n",
        "\n",
        "x = data[[\"Temperature (C)\", \"Humidity\", \"Wind Speed (km/h)\"]].to_numpy()\n",
        "y = data[\"Apparent Temperature (C)\"].to_numpy().reshape(-1,1)\n",
        "\n",
        "y_pred, w = linear_regression(x,y,linear_basis)\n",
        "\n",
        "fig, ax = plt.subplots()\n",
        "scatter = ax.scatter(data[\"Temperature (C)\"], data[\"Humidity\"], s = data[\"Wind Speed (km/h)\"]*2, c = y_pred)\n",
        "legend1 = ax.legend(*scatter.legend_elements(), loc = 'upper right', title=\"Predicted App. Temp.\")\n",
        "ax.add_artist(legend1)\n",
        "handles, labels = scatter.legend_elements(prop=\"sizes\", alpha=0.6)\n",
        "legend2 = ax.legend(handles, labels, loc = 'lower left', title=\"Wind Speed\")\n",
        "\n",
        "plt.title(\"Linear Regression with more predictors\")\n",
        "plt.ylabel(\"Humidity\")\n",
        "plt.xlabel(\"Temperature (C)\")\n",
        "plt.show()\n",
        "\n",
        "print(\"MSE:\")\n",
        "print(np.mean((y_pred.T-y)**2))\n",
        "print(\"Log Likelihood:\")\n",
        "print(-len(y)/2*np.log(2*np.pi)-len(y)/2*np.log(1/beta) - 1/2*beta*np.sum((y_pred.T-y)**2))\n",
        "print(\"Weights:\")\n",
        "print(w)"
      ]
    },
    {
      "cell_type": "markdown",
      "metadata": {
        "id": "O3m1D6hS5uDy"
      },
      "source": [
        "## Bayesian Linear Regression\n",
        "\n",
        "We now consider a prior distribution on the weights, which in this case is:\n",
        "\n",
        "$$p(w|\\alpha) = \\mathcal{N}(w| 0, \\alpha^{-1} I)$$\n",
        "\n",
        "So, we can use Bayes theorem to compute the posterior:\n",
        "\n",
        "$$    p(w| \\underline{x}, \\underline{y}, \\alpha, \\beta) = \\frac{p(\\underline{y}| \\underline{x}, w, \\beta) p(w|\\alpha)}{p(\\underline{y}| \\underline{x}, \\alpha, \\beta)}$$\n",
        "\n",
        "and notice that it is a Gaussian distribution:\n",
        "\n",
        "$$p(w|\\underline{x}, \\underline{y}, \\alpha, \\beta) = \\mathcal{N} (w | m_N, S_N)$$\n",
        "\n",
        "where\n",
        "\n",
        "$$m_N = \\beta S_N \\Phi^T \\underline{y}$$\n",
        "$$S_N^{-1} = \\alpha I + \\beta \\Phi^T \\Phi$$\n",
        "\n",
        "Once we have the posterior distribution, we can calculate the predictive distribution as:\n",
        "\n",
        "$$p(y|x, \\underline{x} , \\underline{y}, \\alpha, \\beta)  = \\mathcal{N} \\left(y| m_N^T \\phi(x), \\sigma_N^2(x) \\right)$$\n",
        "\n",
        "where\n",
        "\n",
        "$$\\sigma_N^2(x) = \\frac{1}{\\beta} + \\phi^T(x) S_N \\phi(x)$$\n",
        "\n",
        "For simplicity and for visualizing the result, we test on a single predictor."
      ]
    },
    {
      "cell_type": "code",
      "execution_count": 17,
      "metadata": {
        "id": "ncu4eu1z5uDz"
      },
      "outputs": [],
      "source": [
        "#Bayesian Regression with alpha and beta fixed and a gaussian prior\n",
        "\n",
        "def bayesian_linear_regression(x,y,basis_function, alpha, beta):\n",
        "    N = len(y)\n",
        "    train_features = basis_function(x)\n",
        "    PHI = np.hstack((np.ones((N,1)), train_features))\n",
        "    #YOUR CODE HERE\n",
        "    # Calculate S_N: S_N^-1 = alpha*I + beta*PHI^T*PHI\n",
        "    SN = np.linalg.inv(alpha * np.eye(PHI.shape[1]) + beta * PHI.T @ PHI)\n",
        "    # Calculate m_N: m_N = beta*S_N*PHI^T*y\n",
        "    mN = beta * SN @ PHI.T @ y\n",
        "    # Calculate the predictive mean: y_pred = PHI*m_N\n",
        "    y_pred = PHI @ mN\n",
        "    # Calculate the predictive variance: sigma_N^2(x) = 1/beta + PHI*S_N*PHI^T (diagonal elements)\n",
        "    sigma_pred = np.sqrt(1/beta + np.diag(PHI @ SN @ PHI.T))\n",
        "\n",
        "    return y_pred, sigma_pred, mN, SN\n",
        "\n",
        "def predict_bayesian_linear_regression(mN, SN, N, x, basis_function, beta):\n",
        "    train_features = basis_function(x)\n",
        "    PHI = np.hstack((np.ones((N,1)), train_features))\n",
        "    #YOUR CODE HERE\n",
        "    # Calculate the predictive mean: mean = m_N^T * PHI^T\n",
        "    mean = (PHI @ mN).flatten()\n",
        "    # Calculate the predictive variance: sigma^2 = 1/beta + PHI*S_N*PHI^T (diagonal elements)\n",
        "    sigma = np.sqrt(1/beta + np.diag(PHI @ SN @ PHI.T))\n",
        "    return mean, sigma\n",
        "\n",
        "def plot_bayesian_LR(mN, SN, N, x, basis_function, beta):\n",
        "    mean, sigma = predict_bayesian_linear_regression(mN, SN, N, x, basis_function, beta)\n",
        "    plt.plot(x.T[0],mean)\n",
        "    plt.fill_between(x.T[0], mean-sigma, mean+sigma, alpha=0.2)\n"
      ]
    },
    {
      "cell_type": "code",
      "execution_count": 18,
      "metadata": {
        "colab": {
          "base_uri": "https://localhost:8080/",
          "height": 618
        },
        "id": "NdJ_9StK5uDz",
        "outputId": "3ecf1072-134e-4ff8-a76e-683f6e08808d"
      },
      "outputs": [
        {
          "output_type": "stream",
          "name": "stdout",
          "text": [
            "MSE (training set):\n",
            "11.936816696524678\n",
            "Log Likelihood (training set):\n",
            "-148.27139295651733\n",
            "MSE (test set):\n",
            "30.75887862951196\n",
            "Log Likelihood (test set):\n",
            "-239.63578395398656\n"
          ]
        },
        {
          "output_type": "display_data",
          "data": {
            "text/plain": [
              "<Figure size 640x480 with 1 Axes>"
            ],
            "image/png": "[encoded data removed]"
          },
          "metadata": {}
        }
      ],
      "source": [
        "x = data[\"Humidity\"].to_numpy().reshape(-1,1)\n",
        "y = data[\"Apparent Temperature (C)\"].to_numpy().reshape(-1,1)\n",
        "\n",
        "x_test = data_test[\"Humidity\"].to_numpy().reshape(-1,1)\n",
        "y_test = data_test[\"Apparent Temperature (C)\"].to_numpy().reshape(-1,1)\n",
        "\n",
        "alpha = 0.002\n",
        "\n",
        "y_pred_bayes, sigma_pred, mN, SN = bayesian_linear_regression(x,y,linear_basis, alpha, beta)\n",
        "\n",
        "print(\"MSE (training set):\")\n",
        "print(np.mean((y_pred_bayes-y)**2))\n",
        "print(\"Log Likelihood (training set):\")\n",
        "print(-1/2*np.sum(np.log(2*np.pi*sigma_pred**2)) - 1/2*np.sum(((y_pred_bayes-y)**2)/(sigma_pred**2)))\n",
        "\n",
        "mean, sigma = predict_bayesian_linear_regression(mN, SN, len(x_test), x_test, linear_basis, beta)\n",
        "print(\"MSE (test set):\")\n",
        "print(np.mean((mean-y_test)**2))\n",
        "print(\"Log Likelihood (test set):\")\n",
        "print(-1/2*np.sum(np.log(2*np.pi*sigma**2)) - 1/2*np.sum(((mean-y_test)**2)/(sigma**2)))\n",
        "\n",
        "#FOR 1D features, we can plot the regression\n",
        "xrange=np.linspace(0, 1, 100).reshape(-1,1)\n",
        "plot_bayesian_LR(mN, SN, len(xrange), xrange, linear_basis, beta)\n",
        "\n",
        "plt.scatter(data[\"Humidity\"], data[\"Apparent Temperature (C)\"], label='Data training')\n",
        "plt.scatter(data_test[\"Humidity\"], data_test[\"Apparent Temperature (C)\"], label='Data test')\n",
        "\n",
        "plt.xlabel(\"Humidity\")\n",
        "plt.ylabel(\"Apparent Temperature (C)\")\n",
        "plt.title(\"Bayesian Linear Regression\")\n",
        "plt.legend()\n",
        "plt.show()"
      ]
    },
    {
      "cell_type": "markdown",
      "metadata": {
        "id": "kvGNoGgc5uD0"
      },
      "source": [
        "## Logistic Regression"
      ]
    },
    {
      "cell_type": "markdown",
      "metadata": {
        "id": "kOvtyeLF5uD0"
      },
      "source": [
        "### The problem"
      ]
    },
    {
      "cell_type": "markdown",
      "metadata": {
        "id": "izZuszYh5uD0"
      },
      "source": [
        "Given observations $(\\textbf{x}_i, y_i)$ with $x_i \\in \\mathbb{R}^d$ and $y_i \\in \\{0,1\\}$ we want to model $p(y | \\textbf{x})$.\n",
        "\n",
        "**Notation**\n",
        "\n",
        "$\\textbf{X}$: the dataset of input features $\\textbf{x}_i$\n",
        "\n",
        "$\\textbf{Y}$: the dataset of targets $y_i$"
      ]
    },
    {
      "cell_type": "code",
      "execution_count": 19,
      "metadata": {
        "id": "hRW-n1NU5uD1"
      },
      "outputs": [],
      "source": [
        "import numpy as np\n",
        "import os\n",
        "import requests\n",
        "\n",
        "\n",
        "# URL of the file to download\n",
        "url = 'https://raw.githubusercontent.com/DavideScassola/PML2024/main/Notebooks/data/logistic_regression_data.npz'\n",
        "\n",
        "# Send a HTTP request to the URL of the file\n",
        "response = requests.get(url)\n",
        "\n",
        "# Ensure the 'data/' directory exists\n",
        "os.makedirs('data', exist_ok=True)\n",
        "\n",
        "# Write the file\n",
        "with open('data/logistic_regression_data.npz', 'wb') as f:\n",
        "    f.write(response.content)\n",
        "\n",
        "# loading the dataset\n",
        "X = np.load('data/logistic_regression_data.npz')['X']\n",
        "y = np.load('data/logistic_regression_data.npz')['y']\n",
        "\n",
        "\n",
        "# let's split it into train and test set and normalize it\n",
        "def split_and_standardize(*, X, y, ratio=0.8):\n",
        "\n",
        "    # Splitting train and test sets\n",
        "    cut = int(ratio * len(y))\n",
        "    X_train = X[:cut]\n",
        "    y_train = y[:cut]\n",
        "\n",
        "    X_test = X[cut:]\n",
        "    y_test = y[cut:]\n",
        "\n",
        "    # Standardizing data\n",
        "    x_mean = X_train.mean(axis=0)\n",
        "    x_std = X_train.std(axis=0)\n",
        "\n",
        "    X_train = (X_train - x_mean) / x_std\n",
        "    X_test = (X_test - x_mean) / x_std\n",
        "\n",
        "    return X_train, y_train, X_test, y_test\n",
        "\n",
        "X_train, y_train, X_test, y_test = split_and_standardize(X=X, y=y, ratio=0.04)"
      ]
    },
    {
      "cell_type": "code",
      "execution_count": 20,
      "metadata": {
        "colab": {
          "base_uri": "https://localhost:8080/",
          "height": 430
        },
        "id": "KDF4tu3X5uD1",
        "outputId": "ac6a9bb4-97aa-4e29-857a-fa93e80f43b4"
      },
      "outputs": [
        {
          "output_type": "display_data",
          "data": {
            "text/plain": [
              "<Figure size 640x480 with 1 Axes>"
            ],
            "image/png": "[encoded data removed]"
          },
          "metadata": {}
        }
      ],
      "source": [
        "import matplotlib.pyplot as plt\n",
        "\n",
        "_ = plt.scatter(X_train[:, 0], X_train[:, 1], c=y_train)"
      ]
    },
    {
      "cell_type": "code",
      "execution_count": 21,
      "metadata": {
        "colab": {
          "base_uri": "https://localhost:8080/"
        },
        "id": "BRFksRmP5uD2",
        "outputId": "5594c078-dabf-4db2-eaeb-bf3d6ab868b3"
      },
      "outputs": [
        {
          "output_type": "execute_result",
          "data": {
            "text/plain": [
              "(96, 2)"
            ]
          },
          "metadata": {},
          "execution_count": 21
        }
      ],
      "source": [
        "X_test.shape"
      ]
    },
    {
      "cell_type": "markdown",
      "metadata": {
        "id": "NKic4PoG5uD2"
      },
      "source": [
        "### The model"
      ]
    },
    {
      "cell_type": "markdown",
      "metadata": {
        "id": "VAFBUzWt5uD3"
      },
      "source": [
        "In logistic regression $p(y | \\textbf{x})$ is modelled as:\n",
        "\n",
        "$$p_{\\textbf{w}}(y |  \\textbf{x}) = Bernoulli(y; f(\\textbf{w}^{T} \\textbf{x})) $$\n",
        "\n",
        "where $f : \\mathbb{R} \\rightarrow [0,1]$ is usually chosen to be the Logit $ \\left( ({1 + e^{-k}})^{-1} \\right)$ or the Probit.\n",
        "\n",
        "Why $\\textbf{w}^{T} \\textbf{x}$ and not $\\textbf{w}^{T} \\textbf{x} + h$? For simplicity we prefer to avoid explicitly modelling the bias and we equivalently add a \"1\" as a feature to each data point."
      ]
    },
    {
      "cell_type": "code",
      "execution_count": 23,
      "metadata": {
        "id": "OrWL6_nW5uD3"
      },
      "outputs": [],
      "source": [
        "import numpy as np\n",
        "\n",
        "# Add the \"bias feature\"\n",
        "X_train = np.hstack([np.ones((X_train.shape[0], 1)), X_train])\n",
        "X_test = np.hstack([np.ones((X_test.shape[0], 1)), X_test])\n",
        "\n",
        "\n",
        "def logit(x: np.ndarray) -> np.ndarray:\n",
        "    return 1 / (1 + np.exp(-x))\n",
        "\n",
        "\n",
        "def likelihood(X: np.ndarray, y: np.ndarray, w: np.ndarray) -> float:\n",
        "    p = logit(X @ w)  # (n, d) @ (d, )\n",
        "    return np.where(y == 1, p, 1 - p).prod()"
      ]
    },
    {
      "cell_type": "markdown",
      "metadata": {
        "id": "qwv2LhsV5uD3"
      },
      "source": [
        "### Maximum likelihood fitting (frequentist)"
      ]
    },
    {
      "cell_type": "markdown",
      "metadata": {
        "id": "7llBVjnb5uD4"
      },
      "source": [
        "We fit our model $p_{\\textbf{w}}(y |  \\textbf{x})$ by finding parameters $w$ that maximize the likelihood according to our data. For numerical reasons we equivalently maximize the log-likelihood:\n",
        "\n",
        "$$ \\log{p_{\\textbf{w}}(Y |  \\textbf{X})} =  \\log{ \\prod_i {        p_{\\textbf{w}}(y_i |  \\textbf{x}_i)             }} = \\sum_i \\log{p_{\\textbf{w}}(y_i |  \\textbf{x}_i)} = \\sum_i \\log{Bernoulli(y_i; f(\\textbf{w}^{T} \\textbf{x}_i))}$$\n",
        "\n",
        "We can find $w_{ML} = \\argmax_{\\textbf{w}}  \\log{p_{\\textbf{w}}(Y |  \\textbf{X})}$ using numerical optimization, in particular we can use gradient descent:\n",
        "\n",
        "$$ w_{n+1} = w_{n} + \\eta \\nabla_{\\textbf{w}} \\log{p_{\\textbf{w}}(Y |  \\textbf{X})} $$\n",
        "\n",
        "where $\\eta$ is the learning rate. How do we compute the gradient? We can compute it analyticallly, but we can also use automatic differentiation with `pytorch`."
      ]
    },
    {
      "cell_type": "code",
      "execution_count": 24,
      "metadata": {
        "colab": {
          "base_uri": "https://localhost:8080/",
          "height": 67,
          "referenced_widgets": [
            "d3609e74aac242e589206bd8fa3e307f",
            "39114f65ee494500a809ad9d8e397709",
            "1a7d07d664804c66bda3b9c6902e900c",
            "ffc874b775e442c5b521e95b4ebc9420",
            "0bb0e245fddd476ba04b4685f922a67d",
            "c8ac5df66c9545e08711771f89b7ccb2",
            "e670ffb690db4aeda08d0c3d7f2a1d83",
            "d33edc8aef9b4972a9fcdb41f9247392",
            "a7bb4e2ef1f647b78f860ef2adde1c95",
            "b38886780c69480c9400ab33e1eba4ae",
            "f96bbf02048d44c9a771d34cbfcf9159"
          ]
        },
        "id": "Xn-ATb9L5uD4",
        "outputId": "9a9a3c0e-5c54-46c8-e61b-3f6ae564f4ef"
      },
      "outputs": [
        {
          "output_type": "display_data",
          "data": {
            "text/plain": [
              "  0%|          | 0/5000 [00:00<?, ?it/s]"
            ],
            "application/vnd.jupyter.widget-view+json": {
              "version_major": 2,
              "version_minor": 0,
              "model_id": "d3609e74aac242e589206bd8fa3e307f"
            }
          },
          "metadata": {}
        },
        {
          "output_type": "stream",
          "name": "stdout",
          "text": [
            "loss=0.09124\n"
          ]
        }
      ],
      "source": [
        "import torch\n",
        "from tqdm.notebook import tqdm\n",
        "\n",
        "def log_likelihood(X: torch.Tensor, y: torch.Tensor, w: torch.Tensor) -> torch.Tensor:\n",
        "    p = torch.sigmoid(X @ w)\n",
        "    return torch.where(y == 1, torch.log(p + 1e-8), torch.log(1 - p + 1e-8)).sum()\n",
        "\n",
        "\n",
        "def gradient_descent_optimization(loss_function, lr: float, n_iter: int, initial_guess: np.ndarray) -> np.ndarray:\n",
        "    w = torch.tensor(initial_guess, dtype=torch.float32, requires_grad=True)\n",
        "    for _ in tqdm(range(n_iter)):\n",
        "        loss = loss_function(w)\n",
        "        loss.backward()\n",
        "        with torch.no_grad():\n",
        "            w -= lr * w.grad\n",
        "        w.grad = None\n",
        "    print(f\"loss={ loss.item():.4g}\")\n",
        "    return w.cpu().detach().numpy()\n",
        "/\n",
        "X_tensor = torch.tensor(X_train, dtype=torch.float32)\n",
        "y_tensor = torch.tensor(y_train, dtype=torch.float32)\n",
        "loss_function = lambda w: -log_likelihood(X=X_tensor,\n",
        "                                          y=y_tensor,\n",
        "                                          w=w)\n",
        "\n",
        "w_mle = gradient_descent_optimization(loss_function=loss_function,\n",
        "                                      initial_guess=np.zeros(X_train.shape[1]),\n",
        "                                      lr=1e-2,\n",
        "                                      n_iter=5000)"
      ]
    },
    {
      "cell_type": "code",
      "execution_count": 25,
      "metadata": {
        "colab": {
          "base_uri": "https://localhost:8080/"
        },
        "id": "MxepONoQ5uD5",
        "outputId": "ddda29df-efbb-420e-87c9-6ee2bf9b7bb3"
      },
      "outputs": [
        {
          "output_type": "stream",
          "name": "stdout",
          "text": [
            "confusion matrix: \n",
            " [[3 0]\n",
            " [0 1]]\n",
            "mean cross entropy: 0.0228\n"
          ]
        }
      ],
      "source": [
        "# Veryfing the results\n",
        "\n",
        "from sklearn.metrics import confusion_matrix\n",
        "\n",
        "def predict(x: np.ndarray, w: np.ndarray) -> np.ndarray:\n",
        "    return logit(x @ w)\n",
        "\n",
        "def mean_cross_entropy(y: np.ndarray, pred: np.ndarray) -> float:\n",
        "    return -np.where(y, np.log(pred + 1e-8), np.log(1 - pred + 1e-8)).mean()\n",
        "\n",
        "frequentist_predictions = predict(x=X_train, w=w_mle)\n",
        "print(\"confusion matrix: \\n\", confusion_matrix(y_train, frequentist_predictions > 0.5))\n",
        "print(f\"mean cross entropy: {mean_cross_entropy(y=y_train, pred=frequentist_predictions):.3g}\")"
      ]
    },
    {
      "cell_type": "markdown",
      "metadata": {
        "id": "RrtGl5pQ5uD5"
      },
      "source": [
        "### Bayesian inference"
      ]
    },
    {
      "cell_type": "markdown",
      "metadata": {
        "id": "UmqXOlJY5uD6"
      },
      "source": [
        "In Bayesian Inference, we want to compute the **posterior distribution**:\n",
        "$$p(\\textbf{w} | \\mathbf{X}, Y) \\propto p(Y | \\textbf{w}, \\mathbf{X})p(\\textbf{w})$$\n",
        "\n",
        "\n",
        "where $p(\\textbf{w})$ is the prior, and the **predictive distribution**:\n",
        "$$p(y | \\mathbf{x}, \\mathbf{X}, Y) = \\int p(y | \\mathbf{x}, \\textbf{w}) p(\\textbf{w} | \\mathbf{X}, Y) d\\textbf{w}$$\n",
        "\n",
        "notice that $\\mathbf{X}$ is always in the conditioning, we are not interested in its distribution!"
      ]
    },
    {
      "cell_type": "markdown",
      "metadata": {
        "id": "6D01B8pQ5uD6"
      },
      "source": [
        "#### Posterior distribution\n",
        "\n",
        "For the posterior $p(\\textbf{w} | \\mathbf{X}, Y) \\propto p(Y | \\textbf{w}, \\mathbf{X})p(\\textbf{w})$ we resort to the **Laplace Approximation**:\n",
        "\n",
        "$$p(\\textbf{w} | \\mathbf{X}, Y) \\approx \\mathcal{N}(\\textbf{w}; \\mu_D, \\Sigma_D)$$\n",
        "\n",
        "where $\\mu_D = \\textbf{w}_{MAP}$ and $\\Sigma_D =  \\left( - \\nabla_w \\nabla_w \\log{p(\\textbf{w}_{MAP} | Y , \\mathbf{X})} \\right)^{-1}$\n",
        "\n",
        "where $\\textbf{w}_{MAP} = \\argmax_{\\textbf{w}} \\left[ p(\\textbf{w} | \\mathbf{X}, Y) \\right]$ is the **maximum a posteriori**, equivalently $\\textbf{w}_{MAP} = \\argmax_{\\textbf{w}}  \\left[ \\log{p(Y | \\textbf{w}, \\mathbf{X})} + \\log{p(\\textbf{w})} \\right]$\n"
      ]
    },
    {
      "cell_type": "code",
      "execution_count": 26,
      "metadata": {
        "colab": {
          "base_uri": "https://localhost:8080/",
          "height": 67,
          "referenced_widgets": [
            "de4292c54b14403e9cc242ebb6d25ac3",
            "ec7feacc97284d9e88f0efb9ae0c72bd",
            "75aaacb4c4b44fcebe874d719b017b36",
            "feab3b1dca234903bf978697b93701f1",
            "839f24bde8bd4ee999de3fd7edc38948",
            "cab7908c6a204962a840ac96989273fb",
            "e10cfc787c384512b42304e82850b02e",
            "2b5319aaa0e04cfd9eeb65588cba5d03",
            "1a9c71d9177b498ab88264dff23faeb6",
            "28284507843149f88ac3701ede6a89b7",
            "7640bc9c89f84b60aa0358b4ea091924"
          ]
        },
        "id": "LiKO_T7x5uD6",
        "outputId": "7b64eb01-c14c-43fb-9f93-007aa02756fe"
      },
      "outputs": [
        {
          "output_type": "display_data",
          "data": {
            "text/plain": [
              "  0%|          | 0/5000 [00:00<?, ?it/s]"
            ],
            "application/vnd.jupyter.widget-view+json": {
              "version_major": 2,
              "version_minor": 0,
              "model_id": "de4292c54b14403e9cc242ebb6d25ac3"
            }
          },
          "metadata": {}
        },
        {
          "output_type": "stream",
          "name": "stdout",
          "text": [
            "loss=16.67\n"
          ]
        }
      ],
      "source": [
        "# We can assume a Gaussian prior for the weights, with zero mean and a certain diagonal covariance matrix\n",
        "from torch.distributions import Normal\n",
        "\n",
        "PRIOR_STD = 100\n",
        "\n",
        "def log_prior(w):\n",
        "    return Normal(0, PRIOR_STD).log_prob(w).sum()\n",
        "\n",
        "def log_unnormalized_posterior(X, y, w):\n",
        "    return log_likelihood(X=X, y=y, w=w) + log_prior(w)\n",
        "\n",
        "loss_function = lambda w: -(log_unnormalized_posterior(X=X_tensor, y=y_tensor, w=w))\n",
        "\n",
        "w_map = gradient_descent_optimization(loss_function=loss_function,\n",
        "                                      initial_guess=np.zeros(X_train.shape[1]),\n",
        "                                      lr=1e-2,\n",
        "                                      n_iter=5000)"
      ]
    },
    {
      "cell_type": "code",
      "execution_count": 27,
      "metadata": {
        "colab": {
          "base_uri": "https://localhost:8080/"
        },
        "id": "T05wx7ah5uD7",
        "outputId": "d3672e90-c32c-45d1-ca60-9b43a33f396f"
      },
      "outputs": [
        {
          "output_type": "stream",
          "name": "stdout",
          "text": [
            "Posterior covariance matrix:\n",
            " [[ 28.684372  13.253781  20.485367]\n",
            " [ 13.253776  46.63046  -17.844376]\n",
            " [ 20.485369 -17.844372  55.99815 ]]\n"
          ]
        }
      ],
      "source": [
        "def compute_hessian(f, w):\n",
        "    w.requires_grad = True\n",
        "    grad = torch.autograd.grad(f(w), w, create_graph=True)[0]\n",
        "    hessian = torch.zeros((w.numel(), w.numel()))\n",
        "    for i in range(w.numel()):\n",
        "        hessian[i] = torch.autograd.grad(grad[i], w, retain_graph=True)[0]\n",
        "    w.requires_grad = False\n",
        "    return hessian\n",
        "\n",
        "hessian = compute_hessian(f=lambda w : log_unnormalized_posterior(X=X_tensor, y=y_tensor, w=w), w=torch.tensor(w_map, dtype=torch.float32))\n",
        "posterior_cov = torch.inverse(-hessian).numpy()\n",
        "print(\"Posterior covariance matrix:\\n\", posterior_cov)"
      ]
    },
    {
      "cell_type": "code",
      "execution_count": 28,
      "metadata": {
        "colab": {
          "base_uri": "https://localhost:8080/"
        },
        "id": "9Eum_MPY5uD7",
        "outputId": "2dd904fa-d6be-4db8-b2cf-8008dda58179"
      },
      "outputs": [
        {
          "output_type": "stream",
          "name": "stdout",
          "text": [
            "Posterior covariance matrix:\n",
            " [[ 28.68437276  13.25378045  20.48536968]\n",
            " [ 13.25378045  46.63048085 -17.84437748]\n",
            " [ 20.48536968 -17.84437748  55.99815959]]\n"
          ]
        }
      ],
      "source": [
        "from scipy.special import expit  # sigmoid function\n",
        "\n",
        "def analytical_hessian(X, w_map, prior_std):\n",
        "    sigma = expit(X @ w_map)\n",
        "    r = sigma * (1 - sigma)\n",
        "    R = np.diag(r)\n",
        "    hessian = (1 / prior_std**2) * np.eye(X.shape[1]) + X.T @ R @ X\n",
        "    return hessian\n",
        "\n",
        "hessian = torch.tensor(analytical_hessian(X=X_train, w_map=w_map, prior_std=PRIOR_STD))\n",
        "posterior_cov = torch.inverse(hessian).numpy()\n",
        "print(\"Posterior covariance matrix:\\n\", posterior_cov)"
      ]
    },
    {
      "cell_type": "code",
      "execution_count": 29,
      "metadata": {
        "colab": {
          "base_uri": "https://localhost:8080/"
        },
        "id": "EBFUM8V15uD8",
        "outputId": "489feef2-2de5-4267-bb92-0451217f5806"
      },
      "outputs": [
        {
          "output_type": "execute_result",
          "data": {
            "text/plain": [
              "array([-4.1356425, -5.106282 , -1.8804175], dtype=float32)"
            ]
          },
          "metadata": {},
          "execution_count": 29
        }
      ],
      "source": [
        "w_map"
      ]
    },
    {
      "cell_type": "markdown",
      "metadata": {
        "id": "oUa-arl45uEF"
      },
      "source": [
        "#### Predictive distribution\n",
        "\n",
        "The approximation for the **predictive distribution** follows from the Laplace approximation of the posterior approximation (see lecture's notes for more details):\n",
        "$$p(y | \\mathbf{x}, \\mathbf{X}, Y) \\approx f\\left(\\kappa\\left(\\sigma_a^2\\right) \\mu_a\\right)$$\n",
        "\n",
        "where $\\kappa\\left(\\sigma_a^2\\right)=\\left(1+\\pi \\frac{\\sigma_a^2}{8}\\right)^{-\\frac{1}{2}}$ and $\\mu_a$ and $\\sigma_a^2$ are the mean and variance of the linear combination of the gaussian posterior with the observation $\\mathbf{x}$.\n",
        "\n",
        "So $\\mu_a = \\mathbf{\\mu}_{D}^T \\mathbf{x}$ and $\\sigma_a^2 = \\mathbf{x}^T \\Sigma_{D} \\mathbf{x}$"
      ]
    },
    {
      "cell_type": "code",
      "execution_count": 30,
      "metadata": {
        "id": "kph-g9835uEG"
      },
      "outputs": [],
      "source": [
        "def laplace_predictive_distribution(*, x, posterior_mean, posterior_cov):\n",
        "    mu = x @ posterior_mean # (n, d) @ (d, )\n",
        "    var = np.diag(x @ posterior_cov @ x.T)\n",
        "    #var = np.array([X[i] @ posterior_cov @ X[i].T for i in range(len(X))])\n",
        "    k = (1 + np.pi*var/8)**(-0.5)\n",
        "    return logit(mu * k)\n",
        "\n",
        "bayesian_predictions = laplace_predictive_distribution(x=X_test, posterior_mean=w_map, posterior_cov=posterior_cov)"
      ]
    },
    {
      "cell_type": "code",
      "execution_count": 31,
      "metadata": {
        "colab": {
          "base_uri": "https://localhost:8080/"
        },
        "id": "bMTqQDW65uEG",
        "outputId": "f091b7d0-b16c-4bb3-e0bc-60bbbe674a8e"
      },
      "outputs": [
        {
          "output_type": "stream",
          "name": "stdout",
          "text": [
            "frequentist train mean cross entropy: 0.02\n",
            "frequentist train accuracy: 100.0%\n",
            "\n",
            "bayesian train mean cross entropy: 0.34\n",
            "bayesian train accuracy: 100.0%\n",
            "\n",
            "frequentist test mean cross entropy: 1.07\n",
            "frequentist test accuracy: 67.7%\n",
            "\n",
            "bayesian test mean cross entropy: 0.57\n",
            "bayesian test accuracy: 67.7%\n",
            "\n"
          ]
        }
      ],
      "source": [
        "X = {\"train\": X_train, \"test\": X_test}\n",
        "y = {\"train\": y_train, \"test\": y_test}\n",
        "\n",
        "freq_weights = w_map\n",
        "\n",
        "predictor = {\"frequentist\": lambda x : predict(x=x, w=freq_weights),\n",
        "             \"bayesian\": lambda x :  laplace_predictive_distribution(x=x, posterior_mean=w_map, posterior_cov=posterior_cov)}\n",
        "\n",
        "for data in ('train', 'test'):\n",
        "    for model in ('frequentist', 'bayesian'):\n",
        "        pred = predictor[model](X[data])\n",
        "        print(f\"{model} {data} mean cross entropy: {mean_cross_entropy(y=y[data], pred=pred):.2f}\")\n",
        "        cm = confusion_matrix(y[data], pred > 0.5) / len(y[data])\n",
        "        #print(f\"{model} {data} confusion matrix: \\n\", np.round(cm,2))\n",
        "        print(f\"{model} {data} accuracy: {(cm[0,0] + cm[1,1]):.1%}\")\n",
        "        print()"
      ]
    },
    {
      "cell_type": "code",
      "execution_count": 32,
      "metadata": {
        "id": "NdeGy3Bc5uEH"
      },
      "outputs": [],
      "source": [
        "import matplotlib.pyplot as plt\n",
        "plt.rcParams[\"figure.figsize\"] = (8,4)\n",
        "plt.rcParams[\"figure.dpi\"] = 100\n",
        "\n",
        "def plot_train_data(X, y):\n",
        "    plt.scatter(X[y==1][:,1], X_train[y==1][:,2], c = 'red', marker='x', label='1')\n",
        "    plt.scatter(X[y==0][:,1], X_train[y==0][:,2], c = 'red', marker='o', label='0')\n",
        "    plt.legend()\n",
        "\n",
        "def binary_crossentropy(*, true: np.ndarray, pred: np.ndarray):\n",
        "    return -np.where(true, np.log(pred + 1e-8), np.log(1 - pred + 1e-8)).mean()"
      ]
    },
    {
      "cell_type": "code",
      "execution_count": 33,
      "metadata": {
        "colab": {
          "base_uri": "https://localhost:8080/",
          "height": 374
        },
        "id": "CNjJFXA65uEI",
        "outputId": "90e0f97c-c975-49b3-a3e2-b0e238f31a85"
      },
      "outputs": [
        {
          "output_type": "display_data",
          "data": {
            "text/plain": [
              "<Figure size 800x400 with 2 Axes>"
            ],
            "image/png": "[encoded data removed]"
          },
          "metadata": {}
        }
      ],
      "source": [
        "plt.scatter(X_test[:,1], X_test[:,2], c = y_test, alpha = 0.8)\n",
        "plot_train_data(X_train, y_train)\n",
        "_ = plt.colorbar()"
      ]
    },
    {
      "cell_type": "code",
      "execution_count": 34,
      "metadata": {
        "colab": {
          "base_uri": "https://localhost:8080/",
          "height": 374
        },
        "id": "IJssg2xp5uEI",
        "outputId": "ebed7ee8-571a-4110-a530-99e90e5b20a8"
      },
      "outputs": [
        {
          "output_type": "display_data",
          "data": {
            "text/plain": [
              "<Figure size 800x400 with 2 Axes>"
            ],
            "image/png": "[encoded data removed]"
          },
          "metadata": {}
        }
      ],
      "source": [
        "pred = laplace_predictive_distribution(x=X_test, posterior_mean=w_map, posterior_cov=posterior_cov)\n",
        "error = binary_crossentropy(true=y_test, pred=pred)\n",
        "plt.scatter(X_test[:,1], X_test[:,2], c = pred, alpha = 0.8)\n",
        "plot_train_data(X_train, y_train)\n",
        "_ = plt.colorbar()"
      ]
    },
    {
      "cell_type": "code",
      "execution_count": 35,
      "metadata": {
        "colab": {
          "base_uri": "https://localhost:8080/",
          "height": 374
        },
        "id": "OrOyS4r65uEJ",
        "outputId": "429b5645-05d1-4cdb-8985-e8c01af12362"
      },
      "outputs": [
        {
          "output_type": "display_data",
          "data": {
            "text/plain": [
              "<Figure size 800x400 with 2 Axes>"
            ],
            "image/png": "[encoded data removed]"
          },
          "metadata": {}
        }
      ],
      "source": [
        "pred = predict(x=X_test, w=freq_weights)\n",
        "error = binary_crossentropy(true=y_test, pred=pred)\n",
        "plt.scatter(X_test[:,1], X_test[:,2], c = pred, alpha = 0.8)\n",
        "plot_train_data(X_train, y_train)\n",
        "_ = plt.colorbar()"
      ]
    },
    {
      "cell_type": "markdown",
      "metadata": {
        "id": "q3dySNKk5uEK"
      },
      "source": [
        "### Exercises"
      ]
    },
    {
      "cell_type": "markdown",
      "metadata": {
        "id": "pkGy5lyg5uEK"
      },
      "source": [
        "1. Try to repeat the analysis using more points"
      ]
    },
    {
      "cell_type": "markdown",
      "metadata": {
        "id": "WuDVEUi85uEK"
      },
      "source": [
        "2. Try to repeat the analysis on the following dataset\n",
        "\n"
      ]
    },
    {
      "cell_type": "code",
      "execution_count": null,
      "metadata": {
        "id": "41Q9Ylko5uEK"
      },
      "outputs": [],
      "source": [
        "from sklearn.datasets import load_breast_cancer\n",
        "data = load_breast_cancer()\n",
        "X = data.data\n",
        "y = data.target"
      ]
    },
    {
      "cell_type": "code",
      "execution_count": 37,
      "metadata": {
        "colab": {
          "base_uri": "https://localhost:8080/",
          "height": 1000,
          "referenced_widgets": [
            "13b8b734cc59405d9d44385cc24ac9b9",
            "5ded5e51c58e4f4d86f197870e6ed14c",
            "637f396795c740ab9027317c1b8370ed",
            "3f65131986ec4f7ea50dfcf1a6ea6fa5",
            "754d25809639431aab8bd270b9aa717f",
            "a84b1eb879bd47b4a323f70726b547e6",
            "085ff49a84f148229b195d533a743809",
            "31db1e060a9e4a989507cacc353afd29",
            "17098295f2a34f9b87cce220d27a5c0b",
            "d7a396050ef24195a9002f136e84e591",
            "5f9f64f968b44f84a663726fa16b39e8",
            "c681bac6b6b048da9431f8b89efbb945",
            "23f0d7f916a44649a494dc4437394f89",
            "846d320d51d04d11b6b3e5f0fcebe1dc",
            "2686d90d802541f29c6c9dc169e10708",
            "df1cc30266124c60bd8c40476fba5f1a",
            "c55e0e0789b9453c9a7b67de89f66752",
            "e2994eaa86a440f5b4e6c279f035b735",
            "334af0e33a344381b537693819d96ae7",
            "c44def35095848289afb63246db9f05b",
            "59e2756165bb42c0abde437e36846d4f",
            "96f1155cddce410aa2ee6f6e2c6919a1"
          ]
        },
        "id": "BSdrSSuw5uEL",
        "outputId": "7224c08b-644e-48c6-a5ed-a770011e443d"
      },
      "outputs": [
        {
          "output_type": "display_data",
          "data": {
            "text/plain": [
              "  0%|          | 0/5000 [00:00<?, ?it/s]"
            ],
            "application/vnd.jupyter.widget-view+json": {
              "version_major": 2,
              "version_minor": 0,
              "model_id": "13b8b734cc59405d9d44385cc24ac9b9"
            }
          },
          "metadata": {}
        },
        {
          "output_type": "stream",
          "name": "stdout",
          "text": [
            "loss=13.17\n",
            "confusion matrix: \n",
            " [[182   4]\n",
            " [  2 267]]\n",
            "mean cross entropy: 0.0289\n"
          ]
        },
        {
          "output_type": "display_data",
          "data": {
            "text/plain": [
              "  0%|          | 0/5000 [00:00<?, ?it/s]"
            ],
            "application/vnd.jupyter.widget-view+json": {
              "version_major": 2,
              "version_minor": 0,
              "model_id": "c681bac6b6b048da9431f8b89efbb945"
            }
          },
          "metadata": {}
        },
        {
          "output_type": "stream",
          "name": "stdout",
          "text": [
            "loss=184.4\n",
            "Posterior covariance matrix:\n",
            " [[ 6.60296816e+00  2.69750192e+01  5.93842638e-01 -4.63955007e+01\n",
            "   1.20206941e+01 -8.69513106e-01  3.86076125e+00  3.53483393e+00\n",
            "   1.35983986e+00 -8.83343315e-01 -1.89077346e-01 -6.16775677e+00\n",
            "  -3.43102546e-02  4.77793672e+00  4.83131357e+00 -2.52796210e-01\n",
            "  -3.22852435e+00 -6.21895068e-01  7.06332021e-01  1.12641702e-01\n",
            "   2.34573456e+00 -1.00533206e+01 -9.41895175e-02 -1.02723387e+01\n",
            "   3.16748590e+01  2.89029434e-01  2.57028895e+00 -2.68720592e+00\n",
            "   1.14834052e+00  1.11737239e+00 -1.01376657e+00]\n",
            " [ 2.69750192e+01  2.34495561e+03 -2.13494902e+00 -2.05208479e+03\n",
            "  -3.91798420e+02 -1.11500234e+01  1.38749998e+02  1.07843123e+02\n",
            "  -4.06774431e+01  2.08552128e+00 -6.23159220e+00 -2.79576962e+01\n",
            "  -1.72594922e+01  2.38053135e+01  5.30009876e+01  1.94135300e+01\n",
            "  -7.03002541e+01  1.72873872e+01 -2.49224801e+01  1.04992514e+01\n",
            "   2.02035085e+01 -6.36027005e+02  5.24453796e+00  1.52169375e+02\n",
            "   4.61878370e+02 -1.18074128e+01  3.69879434e+01 -5.95882934e+01\n",
            "   1.03660840e+01 -1.25916650e+01  1.53114341e+00]\n",
            " [ 5.93842638e-01 -2.13494902e+00  4.05275513e+00 -1.46706089e+01\n",
            "   8.96563937e+00 -3.21444939e-01 -7.68085341e-01 -4.95387088e+00\n",
            "   4.52738337e+00  1.10559836e-01 -3.65332935e-01  4.36134685e+00\n",
            "   1.41195485e+00 -5.52269145e+00 -2.14419399e+00 -1.52795808e+00\n",
            "  -4.39125393e-01  7.59261775e-01  6.58470189e-01 -9.41154079e-01\n",
            "   3.03682193e+00 -3.19342522e+00 -3.34664907e+00  1.84281311e+01\n",
            "  -3.25488863e+00  2.05830633e+00  6.18987737e-01  1.62216532e+00\n",
            "  -1.27545572e+00  8.89185433e-01 -2.11000226e+00]\n",
            " [-4.63955007e+01 -2.05208479e+03 -1.46706089e+01  2.41470690e+03\n",
            "  -2.28253377e+02 -2.23404398e+00 -1.37018292e+02 -6.29949371e+01\n",
            "  -1.35736518e+00 -5.46363842e+00  1.25794034e+01  8.22877440e+01\n",
            "   1.53271793e+01  1.63693454e+01 -2.04362263e+02 -8.57886133e+00\n",
            "   8.24984128e+01 -3.16586284e+00 -5.27545894e+00 -1.21723941e+01\n",
            "  -2.51588335e+01  3.56364074e+02 -6.33252715e+00 -3.66736906e+02\n",
            "  -3.46368046e+00  1.01108527e+01 -4.90325115e+01  1.89453118e+01\n",
            "   1.76234590e+01  1.38084857e+01 -3.92698401e-01]\n",
            " [ 1.20206941e+01 -3.91798420e+02  8.96563937e+00 -2.28253377e+02\n",
            "   6.62435784e+02  1.50361704e+01  2.42267664e-01 -2.72811265e+01\n",
            "   1.59990374e+01  3.72860391e+00 -5.81032884e+00 -7.92528357e+01\n",
            "  -1.67986648e-01 -1.32710149e+01  1.66545135e+02 -5.74236858e+00\n",
            "  -2.41469502e+00 -1.80221152e+01  1.93732052e+01 -1.70809318e+00\n",
            "  -7.18864479e+00  3.44082895e+02  2.55035919e+00  1.19011743e+02\n",
            "  -5.35891395e+02 -5.06518362e+00  1.92455270e+00  3.77381405e+01\n",
            "  -1.53008010e+01 -6.32832273e-01  6.20389904e+00]\n",
            " [-8.69513106e-01 -1.11500234e+01 -3.21444939e-01 -2.23404398e+00\n",
            "   1.50361704e+01  5.54747930e+00 -3.75355353e+00  3.34767996e+00\n",
            "  -2.04391305e+00 -1.04054477e+00 -1.51998877e+00 -3.91816480e+00\n",
            "  -7.59121617e-01  4.96908399e-01  8.39087006e+00  1.50046362e+00\n",
            "   3.01865544e+00 -2.49512621e+00  1.83546078e+00 -5.45696772e-01\n",
            "  -7.57588440e+00  1.61572576e+01  1.68480484e+00 -1.02447336e+00\n",
            "  -1.87881002e+01 -4.08118189e+00 -1.43729833e+00  2.21286224e+00\n",
            "  -5.72697905e-01  1.07906927e+00  5.18554001e+00]\n",
            " [ 3.86076125e+00  1.38749998e+02 -7.68085341e-01 -1.37018292e+02\n",
            "   2.42267664e-01 -3.75355353e+00  4.31941184e+01 -9.05738492e+00\n",
            "  -8.33520583e+00 -7.01382583e-01 -7.79137660e+00  6.96988082e+00\n",
            "  -1.94941240e-01 -5.12877651e+00 -1.47603657e+00  3.18098939e+00\n",
            "  -4.82450206e+00  3.79307339e+00 -1.09016289e+01  2.52356492e-01\n",
            "   7.16239278e+00 -6.68734877e+01 -1.64248487e+00  2.44005237e+00\n",
            "   4.87679542e+01 -2.09068279e+00 -1.63438706e+01  1.98382963e+00\n",
            "   9.41324712e+00  1.30095242e-01 -6.74986615e-01]\n",
            " [ 3.53483393e+00  1.07843123e+02 -4.95387088e+00 -6.29949371e+01\n",
            "  -2.72811265e+01  3.34767996e+00 -9.05738492e+00  6.60089914e+01\n",
            "  -2.98898229e+01 -1.88359441e+00  2.76738269e+00 -3.86120145e+01\n",
            "  -3.27659789e+00  3.77621565e+01  9.28484138e+00  2.04193885e+00\n",
            "   5.27576595e+00 -1.33045133e+01  4.10460129e+00 -4.11738938e+00\n",
            "  -1.16445732e+01  4.07796189e+01  8.06275566e-01 -1.12292547e+02\n",
            "   3.68948746e+01 -6.73357241e+00  8.42294311e+00 -2.43932092e+01\n",
            "   3.21185653e+00  4.73425716e+00  6.50317417e+00]\n",
            " [ 1.35983986e+00 -4.06774431e+01  4.52738337e+00 -1.35736518e+00\n",
            "   1.59990374e+01 -2.04391305e+00 -8.33520583e+00 -2.98898229e+01\n",
            "   3.41842337e+01  1.08878373e+00 -1.97502786e+00  9.27934360e+00\n",
            "   1.89720145e+00 -1.72017001e+01  1.48407975e+00 -3.42658945e+00\n",
            "  -3.31883294e+00  4.73178892e+00  3.82714050e+00  8.13188383e-01\n",
            "   7.30112518e+00 -1.48587856e+01 -1.96524197e+00  6.20181223e+01\n",
            "  -1.17366000e+01  4.32396099e+00  1.48278692e+00  1.29745564e+01\n",
            "  -1.25577259e+01 -8.35534787e-01 -1.51375676e+00]\n",
            " [-8.83343315e-01  2.08552128e+00  1.10559836e-01 -5.46363842e+00\n",
            "   3.72860391e+00 -1.04054477e+00 -7.01382583e-01 -1.88359441e+00\n",
            "   1.08878373e+00  2.61921740e+00  3.50721004e-01 -1.78955478e+00\n",
            "   1.05101262e-01 -5.99572965e-01 -2.02088053e+00 -3.29553285e-01\n",
            "  -1.11455057e+00 -1.35653271e-01 -5.38433091e-01  9.31344802e-01\n",
            "   3.33452665e+00 -2.04276472e+00 -1.00313522e+00  1.09182329e+01\n",
            "  -9.35318910e+00  6.73162485e-01  8.75706411e-01  2.18814345e+00\n",
            "  -3.53476028e+00 -2.80528731e+00 -1.16276642e+00]\n",
            " [-1.89077346e-01 -6.23159220e+00 -3.65332935e-01  1.25794034e+01\n",
            "  -5.81032884e+00 -1.51998877e+00 -7.79137660e+00  2.76738269e+00\n",
            "  -1.97502786e+00  3.50721004e-01  6.86196886e+00  3.57992779e+00\n",
            "  -2.17115114e-01  1.16209636e+00 -2.63156489e+00 -7.74716929e-02\n",
            "   2.28060762e-01  1.02485551e+00  1.08442151e+00  1.43075364e-01\n",
            "  -2.38768598e+00  1.25193624e+01  1.78626688e+00 -6.76002413e-01\n",
            "  -5.86810333e+00  1.93532116e+00  5.66558464e+00 -4.30055566e+00\n",
            "   2.41781057e+00 -2.00098405e-01 -3.48499669e+00]\n",
            " [-6.16775677e+00 -2.79576962e+01  4.36134685e+00  8.22877440e+01\n",
            "  -7.92528357e+01 -3.91816480e+00  6.96988082e+00 -3.86120145e+01\n",
            "   9.27934360e+00 -1.78955478e+00  3.57992779e+00  2.13224964e+02\n",
            "   1.73060946e+00 -1.18626975e+02 -1.66530886e+02  6.67195348e+00\n",
            "   2.88735391e+01 -1.56071864e+00 -8.07122404e+00 -7.66864481e+00\n",
            "  -1.59369884e+01 -2.84992521e+02  3.29655022e+00  2.35264163e+02\n",
            "   1.51599802e+02  4.18326993e+00 -3.88956800e+01  1.84298809e+01\n",
            "   2.54970056e+01  8.31373526e+00 -1.25815774e+00]\n",
            " [-3.43102546e-02 -1.72594922e+01  1.41195485e+00  1.53271793e+01\n",
            "  -1.67986648e-01 -7.59121617e-01 -1.94941240e-01 -3.27659789e+00\n",
            "   1.89720145e+00  1.05101262e-01 -2.17115114e-01  1.73060946e+00\n",
            "   2.21871224e+00 -2.79269171e+00 -5.41728377e+00 -5.58632233e-01\n",
            "  -7.42762326e-01  1.59539435e+00 -1.17680478e+00 -3.49025390e-02\n",
            "   2.84916573e+00 -5.41455961e+00 -3.02503844e+00  5.48902576e+00\n",
            "   5.53656626e+00  7.24657551e-01  7.09957635e-01 -5.18044309e-01\n",
            "   5.06346720e-01  2.79616177e-01 -1.93942865e+00]\n",
            " [ 4.77793672e+00  2.38053135e+01 -5.52269145e+00  1.63693454e+01\n",
            "  -1.32710149e+01  4.96908399e-01 -5.12877651e+00  3.77621565e+01\n",
            "  -1.72017001e+01 -5.99572965e-01  1.16209636e+00 -1.18626975e+02\n",
            "  -2.79269171e+00  1.11582798e+02  3.73845990e+01  4.54624541e-01\n",
            "  -1.31913227e+01  2.42511059e+00 -3.70044460e+00  4.73030998e+00\n",
            "   3.67087416e+00  1.87263177e+02  2.02338357e+00 -2.43959229e+02\n",
            "  -1.09165853e-01 -3.45171549e+00  2.15428950e+01 -2.28532600e+01\n",
            "  -7.28568333e-01 -3.63756621e+00  3.48712153e+00]\n",
            " [ 4.83131357e+00  5.30009876e+01 -2.14419399e+00 -2.04362263e+02\n",
            "   1.66545135e+02  8.39087006e+00 -1.47603657e+00  9.28484138e+00\n",
            "   1.48407975e+00 -2.02088053e+00 -2.63156489e+00 -1.66530886e+02\n",
            "  -5.41728377e+00  3.73845990e+01  2.56946682e+02 -6.71596952e+00\n",
            "  -2.51038855e+01  2.17566029e+00  1.80665158e+01  2.97003288e+00\n",
            "  -2.03496328e+00  2.34648088e+02  6.71463257e+00 -4.53120360e+01\n",
            "  -2.99894355e+02 -2.97004888e+00  2.97235803e+01 -1.06498468e+00\n",
            "  -2.29474860e+01 -2.63121977e+00  5.33995334e+00]\n",
            " [-2.52796210e-01  1.94135300e+01 -1.52795808e+00 -8.57886133e+00\n",
            "  -5.74236858e+00  1.50046362e+00  3.18098939e+00  2.04193885e+00\n",
            "  -3.42658945e+00 -3.29553285e-01 -7.74716929e-02  6.67195348e+00\n",
            "  -5.58632233e-01  4.54624541e-01 -6.71596952e+00  4.81246272e+00\n",
            "   4.09449126e+00 -8.65919195e-01 -4.51374685e+00 -5.50931416e-01\n",
            "  -8.51400411e+00 -1.13009903e+01  1.39833085e+00 -6.66081305e+00\n",
            "   1.16314616e+01 -4.35256956e+00 -5.39958301e+00  7.33358742e-01\n",
            "   6.04871537e+00  6.78803277e-01  4.67335312e+00]\n",
            " [-3.22852435e+00 -7.03002541e+01 -4.39125393e-01  8.24984128e+01\n",
            "  -2.41469502e+00  3.01865544e+00 -4.82450206e+00  5.27576595e+00\n",
            "  -3.31883294e+00 -1.11455057e+00  2.28060762e-01  2.88735391e+01\n",
            "  -7.42762326e-01 -1.31913227e+01 -2.51038855e+01  4.09449126e+00\n",
            "   2.25637988e+01 -9.66757227e+00 -1.06906974e+00 -5.86188159e+00\n",
            "  -2.01063583e+01 -9.65168666e+00  5.25903600e-01  1.67133232e+00\n",
            "   6.34406375e+00 -4.65172702e+00 -2.32833552e+01  6.77800620e+00\n",
            "   6.93067094e+00  4.97637828e+00  1.12432250e+01]\n",
            " [-6.21895068e-01  1.72873872e+01  7.59261775e-01 -3.16586284e+00\n",
            "  -1.80221152e+01 -2.49512621e+00  3.79307339e+00 -1.33045133e+01\n",
            "   4.73178892e+00 -1.35653271e-01  1.02485551e+00 -1.56071864e+00\n",
            "   1.59539435e+00  2.42511059e+00  2.17566029e+00 -8.65919195e-01\n",
            "  -9.66757227e+00  1.57662854e+01 -5.45603298e+00  2.56998969e+00\n",
            "   4.51350663e+00 -2.86844531e+00  1.20639728e-01  2.01068798e+00\n",
            "   4.93088350e+00  3.48154163e+00  1.00489996e+01 -9.76472612e+00\n",
            "   4.64313368e+00 -2.07502547e+00 -4.73983164e+00]\n",
            " [ 7.06332021e-01 -2.49224801e+01  6.58470189e-01 -5.27545894e+00\n",
            "   1.93732052e+01  1.83546078e+00 -1.09016289e+01  4.10460129e+00\n",
            "   3.82714050e+00 -5.38433091e-01  1.08442151e+00 -8.07122404e+00\n",
            "  -1.17680478e+00 -3.70044460e+00  1.80665158e+01 -4.51374685e+00\n",
            "  -1.06906974e+00 -5.45603298e+00  1.36790212e+01  4.65980905e-02\n",
            "  -7.41935657e-01  2.97941153e+01  2.09400610e+00  1.32559684e+01\n",
            "  -2.79455965e+01  2.49043574e+00  6.60356436e+00  2.45689814e+00\n",
            "  -1.29142208e+01  6.69815992e-01  6.87999257e-01]\n",
            " [ 1.12641702e-01  1.04992514e+01 -9.41154079e-01 -1.21723941e+01\n",
            "  -1.70809318e+00 -5.45696772e-01  2.52356492e-01 -4.11738938e+00\n",
            "   8.13188383e-01  9.31344802e-01  1.43075364e-01 -7.66864481e+00\n",
            "  -3.49025390e-02  4.73030998e+00  2.97003288e+00 -5.50931416e-01\n",
            "  -5.86188159e+00  2.56998969e+00  4.65980905e-02  4.30169048e+00\n",
            "   4.12259745e+00  4.78922188e+00  1.11299288e+00  1.03772888e+00\n",
            "  -1.88304419e+00  8.73231399e-01  5.74242550e+00 -1.19125657e-01\n",
            "  -1.79281699e+00 -4.02679690e+00 -1.66632673e+00]\n",
            " [ 2.34573456e+00  2.02035085e+01  3.03682193e+00 -2.51588335e+01\n",
            "  -7.18864479e+00 -7.57588440e+00  7.16239278e+00 -1.16445732e+01\n",
            "   7.30112518e+00  3.33452665e+00 -2.38768598e+00 -1.59369884e+01\n",
            "   2.84916573e+00  3.67087416e+00 -2.03496328e+00 -8.51400411e+00\n",
            "  -2.01063583e+01  4.51350663e+00 -7.41935657e-01  4.12259745e+00\n",
            "   3.93315134e+01 -2.35724896e+01 -7.40278532e+00  1.92475098e+01\n",
            "   1.48696540e+01  9.16450488e+00  1.51507857e+01  1.17044301e+00\n",
            "  -1.06879041e+01 -5.17271604e+00 -2.02535696e+01]\n",
            " [-1.00533206e+01 -6.36027005e+02 -3.19342522e+00  3.56364074e+02\n",
            "   3.44082895e+02  1.61572576e+01 -6.68734877e+01  4.07796189e+01\n",
            "  -1.48587856e+01 -2.04276472e+00  1.25193624e+01 -2.84992521e+02\n",
            "  -5.41455961e+00  1.87263177e+02  2.34648088e+02 -1.13009903e+01\n",
            "  -9.65168666e+00 -2.86844531e+00  2.97941153e+01  4.78922188e+00\n",
            "  -2.35724896e+01  8.88601230e+02  1.35906113e+01 -4.39887349e+02\n",
            "  -5.90809797e+02 -1.50815692e+00  5.08333321e+01 -2.09174170e+01\n",
            "  -2.44956202e+01 -2.64998981e+00  1.16917017e+01]\n",
            " [-9.41895175e-02  5.24453796e+00 -3.34664907e+00 -6.33252715e+00\n",
            "   2.55035919e+00  1.68480484e+00 -1.64248487e+00  8.06275566e-01\n",
            "  -1.96524197e+00 -1.00313522e+00  1.78626688e+00  3.29655022e+00\n",
            "  -3.02503844e+00  2.02338357e+00  6.71463257e+00  1.39833085e+00\n",
            "   5.25903600e-01  1.20639728e-01  2.09400610e+00  1.11299288e+00\n",
            "  -7.40278532e+00  1.35906113e+01  7.60131998e+00 -2.26096693e+00\n",
            "  -1.26138146e+01 -1.01329054e+00  1.63463468e-01 -6.88596265e-01\n",
            "   2.32022406e+00 -2.72296317e-01  3.45651542e+00]\n",
            " [-1.02723387e+01  1.52169375e+02  1.84281311e+01 -3.66736906e+02\n",
            "   1.19011743e+02 -1.02447336e+00  2.44005237e+00 -1.12292547e+02\n",
            "   6.20181223e+01  1.09182329e+01 -6.76002413e-01  2.35264163e+02\n",
            "   5.48902576e+00 -2.43959229e+02 -4.53120360e+01 -6.66081305e+00\n",
            "   1.67133232e+00  2.01068798e+00  1.32559684e+01  1.03772888e+00\n",
            "   1.92475098e+01 -4.39887349e+02 -2.26096693e+00  7.37227937e+02\n",
            "  -1.39602434e+02  1.57374884e+01 -2.43396617e+01  6.81698652e+01\n",
            "  -2.65821818e+01 -7.60652183e+00 -1.44699800e+01]\n",
            " [ 3.16748590e+01  4.61878370e+02 -3.25488863e+00 -3.46368046e+00\n",
            "  -5.35891395e+02 -1.87881002e+01  4.87679542e+01  3.68948746e+01\n",
            "  -1.17366000e+01 -9.35318910e+00 -5.86810333e+00  1.51599802e+02\n",
            "   5.53656626e+00 -1.09165853e-01 -2.99894355e+02  1.16314616e+01\n",
            "   6.34406375e+00  4.93088350e+00 -2.79455965e+01 -1.88304419e+00\n",
            "   1.48696540e+01 -5.90809797e+02 -1.26138146e+01 -1.39602434e+02\n",
            "   9.24489848e+02 -1.11504482e+00 -1.98226022e+01 -4.21098772e+01\n",
            "   4.26185654e+01  1.12367466e+01 -9.18080633e+00]\n",
            " [ 2.89029434e-01 -1.18074128e+01  2.05830633e+00  1.01108527e+01\n",
            "  -5.06518362e+00 -4.08118189e+00 -2.09068279e+00 -6.73357241e+00\n",
            "   4.32396099e+00  6.73162485e-01  1.93532116e+00  4.18326993e+00\n",
            "   7.24657551e-01 -3.45171549e+00 -2.97004888e+00 -4.35256956e+00\n",
            "  -4.65172702e+00  3.48154163e+00  2.49043574e+00  8.73231399e-01\n",
            "   9.16450488e+00 -1.50815692e+00 -1.01329054e+00  1.57374884e+01\n",
            "  -1.11504482e+00  7.12770869e+00  6.07479574e+00 -1.89050011e+00\n",
            "  -2.99022210e+00 -1.22049332e+00 -6.98121391e+00]\n",
            " [ 2.57028895e+00  3.69879434e+01  6.18987737e-01 -4.90325115e+01\n",
            "   1.92455270e+00 -1.43729833e+00 -1.63438706e+01  8.42294311e+00\n",
            "   1.48278692e+00  8.75706411e-01  5.66558464e+00 -3.88956800e+01\n",
            "   7.09957635e-01  2.15428950e+01  2.97235803e+01 -5.39958301e+00\n",
            "  -2.32833552e+01  1.00489996e+01  6.60356436e+00  5.74242550e+00\n",
            "   1.51507857e+01  5.08333321e+01  1.63463468e-01 -2.43396617e+01\n",
            "  -1.98226022e+01  6.07479574e+00  4.30336983e+01 -1.79888238e+01\n",
            "  -9.39174567e+00 -5.21035179e+00 -1.48693467e+01]\n",
            " [-2.68720592e+00 -5.95882934e+01  1.62216532e+00  1.89453118e+01\n",
            "   3.77381405e+01  2.21286224e+00  1.98382963e+00 -2.43932092e+01\n",
            "   1.29745564e+01  2.18814345e+00 -4.30055566e+00  1.84298809e+01\n",
            "  -5.18044309e-01 -2.28532600e+01 -1.06498468e+00  7.33358742e-01\n",
            "   6.77800620e+00 -9.76472612e+00  2.45689814e+00 -1.19125657e-01\n",
            "   1.17044301e+00 -2.09174170e+01 -6.88596265e-01  6.81698652e+01\n",
            "  -4.21098772e+01 -1.89050011e+00 -1.79888238e+01  3.04239841e+01\n",
            "  -1.01213694e+01 -1.85330487e+00  3.76555260e+00]\n",
            " [ 1.14834052e+00  1.03660840e+01 -1.27545572e+00  1.76234590e+01\n",
            "  -1.53008010e+01 -5.72697905e-01  9.41324712e+00  3.21185653e+00\n",
            "  -1.25577259e+01 -3.53476028e+00  2.41781057e+00  2.54970056e+01\n",
            "   5.06346720e-01 -7.28568333e-01 -2.29474860e+01  6.04871537e+00\n",
            "   6.93067094e+00  4.64313368e+00 -1.29142208e+01 -1.79281699e+00\n",
            "  -1.06879041e+01 -2.44956202e+01  2.32022406e+00 -2.65821818e+01\n",
            "   4.26185654e+01 -2.99022210e+00 -9.39174567e+00 -1.01213694e+01\n",
            "   2.97871331e+01  3.80134187e+00  9.67557142e-01]\n",
            " [ 1.11737239e+00 -1.25916650e+01  8.89185433e-01  1.38084857e+01\n",
            "  -6.32832273e-01  1.07906927e+00  1.30095242e-01  4.73425716e+00\n",
            "  -8.35534787e-01 -2.80528731e+00 -2.00098405e-01  8.31373526e+00\n",
            "   2.79616177e-01 -3.63756621e+00 -2.63121977e+00  6.78803277e-01\n",
            "   4.97637828e+00 -2.07502547e+00  6.69815992e-01 -4.02679690e+00\n",
            "  -5.17271604e+00 -2.64998981e+00 -2.72296317e-01 -7.60652183e+00\n",
            "   1.12367466e+01 -1.22049332e+00 -5.21035179e+00 -1.85330487e+00\n",
            "   3.80134187e+00  6.22268685e+00  1.91410720e+00]\n",
            " [-1.01376657e+00  1.53114341e+00 -2.11000226e+00 -3.92698401e-01\n",
            "   6.20389904e+00  5.18554001e+00 -6.74986615e-01  6.50317417e+00\n",
            "  -1.51375676e+00 -1.16276642e+00 -3.48499669e+00 -1.25815774e+00\n",
            "  -1.93942865e+00  3.48712153e+00  5.33995334e+00  4.67335312e+00\n",
            "   1.12432250e+01 -4.73983164e+00  6.87999257e-01 -1.66632673e+00\n",
            "  -2.02535696e+01  1.16917017e+01  3.45651542e+00 -1.44699800e+01\n",
            "  -9.18080633e+00 -6.98121391e+00 -1.48693467e+01  3.76555260e+00\n",
            "   9.67557142e-01  1.91410720e+00  1.76969053e+01]]\n",
            "frequentist train mean cross entropy: 0.03\n",
            "frequentist train accuracy: 98.7%\n",
            "\n",
            "bayesian train mean cross entropy: 0.08\n",
            "bayesian train accuracy: 98.7%\n",
            "\n",
            "frequentist test mean cross entropy: 0.15\n",
            "frequentist test accuracy: 95.6%\n",
            "\n",
            "bayesian test mean cross entropy: 0.15\n",
            "bayesian test accuracy: 95.6%\n",
            "\n"
          ]
        }
      ],
      "source": [
        "# prompt: 1. Try to repeat the analysis using more points\n",
        "from sklearn.datasets import load_breast_cancer\n",
        "\n",
        "# Load the dataset and store it in variables X_data and y_data\n",
        "X_data, y_data = load_breast_cancer(return_X_y=True)\n",
        "\n",
        "X_train, y_train, X_test, y_test = split_and_standardize(X=X_data, y=y_data, ratio=0.8) # Increased ratio\n",
        "\n",
        "# Add the \"bias feature\"\n",
        "X_train = np.hstack([np.ones((X_train.shape[0], 1)), X_train])\n",
        "X_test = np.hstack([np.ones((X_test.shape[0], 1)), X_test])\n",
        "\n",
        "X_tensor = torch.tensor(X_train, dtype=torch.float32)\n",
        "y_tensor = torch.tensor(y_train, dtype=torch.float32)\n",
        "loss_function = lambda w: -log_likelihood(X=X_tensor,\n",
        "                                          y=y_tensor,\n",
        "                                          w=w)\n",
        "\n",
        "w_mle = gradient_descent_optimization(loss_function=loss_function,\n",
        "                                      initial_guess=np.zeros(X_train.shape[1]),\n",
        "                                      lr=1e-2,\n",
        "                                      n_iter=5000)\n",
        "\n",
        "frequentist_predictions = predict(x=X_train, w=w_mle)\n",
        "print(\"confusion matrix: \\n\", confusion_matrix(y_train, frequentist_predictions > 0.5))\n",
        "print(f\"mean cross entropy: {mean_cross_entropy(y=y_train, pred=frequentist_predictions):.3g}\")\n",
        "\n",
        "loss_function = lambda w: -(log_unnormalized_posterior(X=X_tensor, y=y_tensor, w=w))\n",
        "\n",
        "w_map = gradient_descent_optimization(loss_function=loss_function,\n",
        "                                      initial_guess=np.zeros(X_train.shape[1]),\n",
        "                                      lr=1e-2,\n",
        "                                      n_iter=5000)\n",
        "\n",
        "hessian = torch.tensor(analytical_hessian(X=X_train, w_map=w_map, prior_std=PRIOR_STD))\n",
        "posterior_cov = torch.inverse(hessian).numpy()\n",
        "print(\"Posterior covariance matrix:\\n\", posterior_cov)\n",
        "\n",
        "bayesian_predictions = laplace_predictive_distribution(x=X_test, posterior_mean=w_map, posterior_cov=posterior_cov)\n",
        "\n",
        "# Create the dictionary X using the original X_train and X_test\n",
        "X = {\"train\": X_train, \"test\": X_test}\n",
        "y = {\"train\": y_train, \"test\": y_test}\n",
        "\n",
        "freq_weights = w_map\n",
        "\n",
        "predictor = {\"frequentist\": lambda x : predict(x=x, w=freq_weights),\n",
        "             \"bayesian\": lambda x :  laplace_predictive_distribution(x=x, posterior_mean=w_map, posterior_cov=posterior_cov)}\n",
        "\n",
        "for data in ('train', 'test'):\n",
        "    for model in ('frequentist', 'bayesian'):\n",
        "        pred = predictor[model](X[data])\n",
        "        print(f\"{model} {data} mean cross entropy: {mean_cross_entropy(y=y[data], pred=pred):.2f}\")\n",
        "        cm = confusion_matrix(y[data], pred > 0.5) / len(y[data])\n",
        "        print(f\"{model} {data} accuracy: {(cm[0,0] + cm[1,1]):.1%}\")\n",
        "        print()"
      ]
    },
    {
      "cell_type": "code",
      "source": [],
      "metadata": {
        "id": "bf9dIMOKLfFO"
      },
      "execution_count": null,
      "outputs": []
    }
  ],
  "metadata": {
    "kernelspec": {
      "display_name": "general",
      "language": "python",
      "name": "python3"
    },
    "language_info": {
      "codemirror_mode": {
        "name": "ipython",
        "version": 3
      },
      "file_extension": ".py",
      "mimetype": "text/x-python",
      "name": "python",
      "nbconvert_exporter": "python",
      "pygments_lexer": "ipython3",
      "version": "3.12.8"
    },
    "colab": {
      "provenance": []
    },
    "widgets": {
      "application/vnd.jupyter.widget-state+json": {
        "d3609e74aac242e589206bd8fa3e307f": {
          "model_module": "@jupyter-widgets/controls",
          "model_name": "HBoxModel",
          "model_module_version": "1.5.0",
          "state": {
            "_dom_classes": [],
            "_model_module": "@jupyter-widgets/controls",
            "_model_module_version": "1.5.0",
            "_model_name": "HBoxModel",
            "_view_count": null,
            "_view_module": "@jupyter-widgets/controls",
            "_view_module_version": "1.5.0",
            "_view_name": "HBoxView",
            "box_style": "",
            "children": [
              "IPY_MODEL_39114f65ee494500a809ad9d8e397709",
              "IPY_MODEL_1a7d07d664804c66bda3b9c6902e900c",
              "IPY_MODEL_ffc874b775e442c5b521e95b4ebc9420"
            ],
            "layout": "IPY_MODEL_0bb0e245fddd476ba04b4685f922a67d"
          }
        },
        "39114f65ee494500a809ad9d8e397709": {
          "model_module": "@jupyter-widgets/controls",
          "model_name": "HTMLModel",
          "model_module_version": "1.5.0",
          "state": {
            "_dom_classes": [],
            "_model_module": "@jupyter-widgets/controls",
            "_model_module_version": "1.5.0",
            "_model_name": "HTMLModel",
            "_view_count": null,
            "_view_module": "@jupyter-widgets/controls",
            "_view_module_version": "1.5.0",
            "_view_name": "HTMLView",
            "description": "",
            "description_tooltip": null,
            "layout": "IPY_MODEL_c8ac5df66c9545e08711771f89b7ccb2",
            "placeholder": "​",
            "style": "IPY_MODEL_e670ffb690db4aeda08d0c3d7f2a1d83",
            "value": "100%"
          }
        },
        "1a7d07d664804c66bda3b9c6902e900c": {
          "model_module": "@jupyter-widgets/controls",
          "model_name": "FloatProgressModel",
          "model_module_version": "1.5.0",
          "state": {
            "_dom_classes": [],
            "_model_module": "@jupyter-widgets/controls",
            "_model_module_version": "1.5.0",
            "_model_name": "FloatProgressModel",
            "_view_count": null,
            "_view_module": "@jupyter-widgets/controls",
            "_view_module_version": "1.5.0",
            "_view_name": "ProgressView",
            "bar_style": "success",
            "description": "",
            "description_tooltip": null,
            "layout": "IPY_MODEL_d33edc8aef9b4972a9fcdb41f9247392",
            "max": 5000,
            "min": 0,
            "orientation": "horizontal",
            "style": "IPY_MODEL_a7bb4e2ef1f647b78f860ef2adde1c95",
            "value": 5000
          }
        },
        "ffc874b775e442c5b521e95b4ebc9420": {
          "model_module": "@jupyter-widgets/controls",
          "model_name": "HTMLModel",
          "model_module_version": "1.5.0",
          "state": {
            "_dom_classes": [],
            "_model_module": "@jupyter-widgets/controls",
            "_model_module_version": "1.5.0",
            "_model_name": "HTMLModel",
            "_view_count": null,
            "_view_module": "@jupyter-widgets/controls",
            "_view_module_version": "1.5.0",
            "_view_name": "HTMLView",
            "description": "",
            "description_tooltip": null,
            "layout": "IPY_MODEL_b38886780c69480c9400ab33e1eba4ae",
            "placeholder": "​",
            "style": "IPY_MODEL_f96bbf02048d44c9a771d34cbfcf9159",
            "value": " 5000/5000 [00:03&lt;00:00, 1054.58it/s]"
          }
        },
        "0bb0e245fddd476ba04b4685f922a67d": {
          "model_module": "@jupyter-widgets/base",
          "model_name": "LayoutModel",
          "model_module_version": "1.2.0",
          "state": {
            "_model_module": "@jupyter-widgets/base",
            "_model_module_version": "1.2.0",
            "_model_name": "LayoutModel",
            "_view_count": null,
            "_view_module": "@jupyter-widgets/base",
            "_view_module_version": "1.2.0",
            "_view_name": "LayoutView",
            "align_content": null,
            "align_items": null,
            "align_self": null,
            "border": null,
            "bottom": null,
            "display": null,
            "flex": null,
            "flex_flow": null,
            "grid_area": null,
            "grid_auto_columns": null,
            "grid_auto_flow": null,
            "grid_auto_rows": null,
            "grid_column": null,
            "grid_gap": null,
            "grid_row": null,
            "grid_template_areas": null,
            "grid_template_columns": null,
            "grid_template_rows": null,
            "height": null,
            "justify_content": null,
            "justify_items": null,
            "left": null,
            "margin": null,
            "max_height": null,
            "max_width": null,
            "min_height": null,
            "min_width": null,
            "object_fit": null,
            "object_position": null,
            "order": null,
            "overflow": null,
            "overflow_x": null,
            "overflow_y": null,
            "padding": null,
            "right": null,
            "top": null,
            "visibility": null,
            "width": null
          }
        },
        "c8ac5df66c9545e08711771f89b7ccb2": {
          "model_module": "@jupyter-widgets/base",
          "model_name": "LayoutModel",
          "model_module_version": "1.2.0",
          "state": {
            "_model_module": "@jupyter-widgets/base",
            "_model_module_version": "1.2.0",
            "_model_name": "LayoutModel",
            "_view_count": null,
            "_view_module": "@jupyter-widgets/base",
            "_view_module_version": "1.2.0",
            "_view_name": "LayoutView",
            "align_content": null,
            "align_items": null,
            "align_self": null,
            "border": null,
            "bottom": null,
            "display": null,
            "flex": null,
            "flex_flow": null,
            "grid_area": null,
            "grid_auto_columns": null,
            "grid_auto_flow": null,
            "grid_auto_rows": null,
            "grid_column": null,
            "grid_gap": null,
            "grid_row": null,
            "grid_template_areas": null,
            "grid_template_columns": null,
            "grid_template_rows": null,
            "height": null,
            "justify_content": null,
            "justify_items": null,
            "left": null,
            "margin": null,
            "max_height": null,
            "max_width": null,
            "min_height": null,
            "min_width": null,
            "object_fit": null,
            "object_position": null,
            "order": null,
            "overflow": null,
            "overflow_x": null,
            "overflow_y": null,
            "padding": null,
            "right": null,
            "top": null,
            "visibility": null,
            "width": null
          }
        },
        "e670ffb690db4aeda08d0c3d7f2a1d83": {
          "model_module": "@jupyter-widgets/controls",
          "model_name": "DescriptionStyleModel",
          "model_module_version": "1.5.0",
          "state": {
            "_model_module": "@jupyter-widgets/controls",
            "_model_module_version": "1.5.0",
            "_model_name": "DescriptionStyleModel",
            "_view_count": null,
            "_view_module": "@jupyter-widgets/base",
            "_view_module_version": "1.2.0",
            "_view_name": "StyleView",
            "description_width": ""
          }
        },
        "d33edc8aef9b4972a9fcdb41f9247392": {
          "model_module": "@jupyter-widgets/base",
          "model_name": "LayoutModel",
          "model_module_version": "1.2.0",
          "state": {
            "_model_module": "@jupyter-widgets/base",
            "_model_module_version": "1.2.0",
            "_model_name": "LayoutModel",
            "_view_count": null,
            "_view_module": "@jupyter-widgets/base",
            "_view_module_version": "1.2.0",
            "_view_name": "LayoutView",
            "align_content": null,
            "align_items": null,
            "align_self": null,
            "border": null,
            "bottom": null,
            "display": null,
            "flex": null,
            "flex_flow": null,
            "grid_area": null,
            "grid_auto_columns": null,
            "grid_auto_flow": null,
            "grid_auto_rows": null,
            "grid_column": null,
            "grid_gap": null,
            "grid_row": null,
            "grid_template_areas": null,
            "grid_template_columns": null,
            "grid_template_rows": null,
            "height": null,
            "justify_content": null,
            "justify_items": null,
            "left": null,
            "margin": null,
            "max_height": null,
            "max_width": null,
            "min_height": null,
            "min_width": null,
            "object_fit": null,
            "object_position": null,
            "order": null,
            "overflow": null,
            "overflow_x": null,
            "overflow_y": null,
            "padding": null,
            "right": null,
            "top": null,
            "visibility": null,
            "width": null
          }
        },
        "a7bb4e2ef1f647b78f860ef2adde1c95": {
          "model_module": "@jupyter-widgets/controls",
          "model_name": "ProgressStyleModel",
          "model_module_version": "1.5.0",
          "state": {
            "_model_module": "@jupyter-widgets/controls",
            "_model_module_version": "1.5.0",
            "_model_name": "ProgressStyleModel",
            "_view_count": null,
            "_view_module": "@jupyter-widgets/base",
            "_view_module_version": "1.2.0",
            "_view_name": "StyleView",
            "bar_color": null,
            "description_width": ""
          }
        },
        "b38886780c69480c9400ab33e1eba4ae": {
          "model_module": "@jupyter-widgets/base",
          "model_name": "LayoutModel",
          "model_module_version": "1.2.0",
          "state": {
            "_model_module": "@jupyter-widgets/base",
            "_model_module_version": "1.2.0",
            "_model_name": "LayoutModel",
            "_view_count": null,
            "_view_module": "@jupyter-widgets/base",
            "_view_module_version": "1.2.0",
            "_view_name": "LayoutView",
            "align_content": null,
            "align_items": null,
            "align_self": null,
            "border": null,
            "bottom": null,
            "display": null,
            "flex": null,
            "flex_flow": null,
            "grid_area": null,
            "grid_auto_columns": null,
            "grid_auto_flow": null,
            "grid_auto_rows": null,
            "grid_column": null,
            "grid_gap": null,
            "grid_row": null,
            "grid_template_areas": null,
            "grid_template_columns": null,
            "grid_template_rows": null,
            "height": null,
            "justify_content": null,
            "justify_items": null,
            "left": null,
            "margin": null,
            "max_height": null,
            "max_width": null,
            "min_height": null,
            "min_width": null,
            "object_fit": null,
            "object_position": null,
            "order": null,
            "overflow": null,
            "overflow_x": null,
            "overflow_y": null,
            "padding": null,
            "right": null,
            "top": null,
            "visibility": null,
            "width": null
          }
        },
        "f96bbf02048d44c9a771d34cbfcf9159": {
          "model_module": "@jupyter-widgets/controls",
          "model_name": "DescriptionStyleModel",
          "model_module_version": "1.5.0",
          "state": {
            "_model_module": "@jupyter-widgets/controls",
            "_model_module_version": "1.5.0",
            "_model_name": "DescriptionStyleModel",
            "_view_count": null,
            "_view_module": "@jupyter-widgets/base",
            "_view_module_version": "1.2.0",
            "_view_name": "StyleView",
            "description_width": ""
          }
        },
        "de4292c54b14403e9cc242ebb6d25ac3": {
          "model_module": "@jupyter-widgets/controls",
          "model_name": "HBoxModel",
          "model_module_version": "1.5.0",
          "state": {
            "_dom_classes": [],
            "_model_module": "@jupyter-widgets/controls",
            "_model_module_version": "1.5.0",
            "_model_name": "HBoxModel",
            "_view_count": null,
            "_view_module": "@jupyter-widgets/controls",
            "_view_module_version": "1.5.0",
            "_view_name": "HBoxView",
            "box_style": "",
            "children": [
              "IPY_MODEL_ec7feacc97284d9e88f0efb9ae0c72bd",
              "IPY_MODEL_75aaacb4c4b44fcebe874d719b017b36",
              "IPY_MODEL_feab3b1dca234903bf978697b93701f1"
            ],
            "layout": "IPY_MODEL_839f24bde8bd4ee999de3fd7edc38948"
          }
        },
        "ec7feacc97284d9e88f0efb9ae0c72bd": {
          "model_module": "@jupyter-widgets/controls",
          "model_name": "HTMLModel",
          "model_module_version": "1.5.0",
          "state": {
            "_dom_classes": [],
            "_model_module": "@jupyter-widgets/controls",
            "_model_module_version": "1.5.0",
            "_model_name": "HTMLModel",
            "_view_count": null,
            "_view_module": "@jupyter-widgets/controls",
            "_view_module_version": "1.5.0",
            "_view_name": "HTMLView",
            "description": "",
            "description_tooltip": null,
            "layout": "IPY_MODEL_cab7908c6a204962a840ac96989273fb",
            "placeholder": "​",
            "style": "IPY_MODEL_e10cfc787c384512b42304e82850b02e",
            "value": "100%"
          }
        },
        "75aaacb4c4b44fcebe874d719b017b36": {
          "model_module": "@jupyter-widgets/controls",
          "model_name": "FloatProgressModel",
          "model_module_version": "1.5.0",
          "state": {
            "_dom_classes": [],
            "_model_module": "@jupyter-widgets/controls",
            "_model_module_version": "1.5.0",
            "_model_name": "FloatProgressModel",
            "_view_count": null,
            "_view_module": "@jupyter-widgets/controls",
            "_view_module_version": "1.5.0",
            "_view_name": "ProgressView",
            "bar_style": "success",
            "description": "",
            "description_tooltip": null,
            "layout": "IPY_MODEL_2b5319aaa0e04cfd9eeb65588cba5d03",
            "max": 5000,
            "min": 0,
            "orientation": "horizontal",
            "style": "IPY_MODEL_1a9c71d9177b498ab88264dff23faeb6",
            "value": 5000
          }
        },
        "feab3b1dca234903bf978697b93701f1": {
          "model_module": "@jupyter-widgets/controls",
          "model_name": "HTMLModel",
          "model_module_version": "1.5.0",
          "state": {
            "_dom_classes": [],
            "_model_module": "@jupyter-widgets/controls",
            "_model_module_version": "1.5.0",
            "_model_name": "HTMLModel",
            "_view_count": null,
            "_view_module": "@jupyter-widgets/controls",
            "_view_module_version": "1.5.0",
            "_view_name": "HTMLView",
            "description": "",
            "description_tooltip": null,
            "layout": "IPY_MODEL_28284507843149f88ac3701ede6a89b7",
            "placeholder": "​",
            "style": "IPY_MODEL_7640bc9c89f84b60aa0358b4ea091924",
            "value": " 5000/5000 [00:05&lt;00:00, 1448.01it/s]"
          }
        },
        "839f24bde8bd4ee999de3fd7edc38948": {
          "model_module": "@jupyter-widgets/base",
          "model_name": "LayoutModel",
          "model_module_version": "1.2.0",
          "state": {
            "_model_module": "@jupyter-widgets/base",
            "_model_module_version": "1.2.0",
            "_model_name": "LayoutModel",
            "_view_count": null,
            "_view_module": "@jupyter-widgets/base",
            "_view_module_version": "1.2.0",
            "_view_name": "LayoutView",
            "align_content": null,
            "align_items": null,
            "align_self": null,
            "border": null,
            "bottom": null,
            "display": null,
            "flex": null,
            "flex_flow": null,
            "grid_area": null,
            "grid_auto_columns": null,
            "grid_auto_flow": null,
            "grid_auto_rows": null,
            "grid_column": null,
            "grid_gap": null,
            "grid_row": null,
            "grid_template_areas": null,
            "grid_template_columns": null,
            "grid_template_rows": null,
            "height": null,
            "justify_content": null,
            "justify_items": null,
            "left": null,
            "margin": null,
            "max_height": null,
            "max_width": null,
            "min_height": null,
            "min_width": null,
            "object_fit": null,
            "object_position": null,
            "order": null,
            "overflow": null,
            "overflow_x": null,
            "overflow_y": null,
            "padding": null,
            "right": null,
            "top": null,
            "visibility": null,
            "width": null
          }
        },
        "cab7908c6a204962a840ac96989273fb": {
          "model_module": "@jupyter-widgets/base",
          "model_name": "LayoutModel",
          "model_module_version": "1.2.0",
          "state": {
            "_model_module": "@jupyter-widgets/base",
            "_model_module_version": "1.2.0",
            "_model_name": "LayoutModel",
            "_view_count": null,
            "_view_module": "@jupyter-widgets/base",
            "_view_module_version": "1.2.0",
            "_view_name": "LayoutView",
            "align_content": null,
            "align_items": null,
            "align_self": null,
            "border": null,
            "bottom": null,
            "display": null,
            "flex": null,
            "flex_flow": null,
            "grid_area": null,
            "grid_auto_columns": null,
            "grid_auto_flow": null,
            "grid_auto_rows": null,
            "grid_column": null,
            "grid_gap": null,
            "grid_row": null,
            "grid_template_areas": null,
            "grid_template_columns": null,
            "grid_template_rows": null,
            "height": null,
            "justify_content": null,
            "justify_items": null,
            "left": null,
            "margin": null,
            "max_height": null,
            "max_width": null,
            "min_height": null,
            "min_width": null,
            "object_fit": null,
            "object_position": null,
            "order": null,
            "overflow": null,
            "overflow_x": null,
            "overflow_y": null,
            "padding": null,
            "right": null,
            "top": null,
            "visibility": null,
            "width": null
          }
        },
        "e10cfc787c384512b42304e82850b02e": {
          "model_module": "@jupyter-widgets/controls",
          "model_name": "DescriptionStyleModel",
          "model_module_version": "1.5.0",
          "state": {
            "_model_module": "@jupyter-widgets/controls",
            "_model_module_version": "1.5.0",
            "_model_name": "DescriptionStyleModel",
            "_view_count": null,
            "_view_module": "@jupyter-widgets/base",
            "_view_module_version": "1.2.0",
            "_view_name": "StyleView",
            "description_width": ""
          }
        },
        "2b5319aaa0e04cfd9eeb65588cba5d03": {
          "model_module": "@jupyter-widgets/base",
          "model_name": "LayoutModel",
          "model_module_version": "1.2.0",
          "state": {
            "_model_module": "@jupyter-widgets/base",
            "_model_module_version": "1.2.0",
            "_model_name": "LayoutModel",
            "_view_count": null,
            "_view_module": "@jupyter-widgets/base",
            "_view_module_version": "1.2.0",
            "_view_name": "LayoutView",
            "align_content": null,
            "align_items": null,
            "align_self": null,
            "border": null,
            "bottom": null,
            "display": null,
            "flex": null,
            "flex_flow": null,
            "grid_area": null,
            "grid_auto_columns": null,
            "grid_auto_flow": null,
            "grid_auto_rows": null,
            "grid_column": null,
            "grid_gap": null,
            "grid_row": null,
            "grid_template_areas": null,
            "grid_template_columns": null,
            "grid_template_rows": null,
            "height": null,
            "justify_content": null,
            "justify_items": null,
            "left": null,
            "margin": null,
            "max_height": null,
            "max_width": null,
            "min_height": null,
            "min_width": null,
            "object_fit": null,
            "object_position": null,
            "order": null,
            "overflow": null,
            "overflow_x": null,
            "overflow_y": null,
            "padding": null,
            "right": null,
            "top": null,
            "visibility": null,
            "width": null
          }
        },
        "1a9c71d9177b498ab88264dff23faeb6": {
          "model_module": "@jupyter-widgets/controls",
          "model_name": "ProgressStyleModel",
          "model_module_version": "1.5.0",
          "state": {
            "_model_module": "@jupyter-widgets/controls",
            "_model_module_version": "1.5.0",
            "_model_name": "ProgressStyleModel",
            "_view_count": null,
            "_view_module": "@jupyter-widgets/base",
            "_view_module_version": "1.2.0",
            "_view_name": "StyleView",
            "bar_color": null,
            "description_width": ""
          }
        },
        "28284507843149f88ac3701ede6a89b7": {
          "model_module": "@jupyter-widgets/base",
          "model_name": "LayoutModel",
          "model_module_version": "1.2.0",
          "state": {
            "_model_module": "@jupyter-widgets/base",
            "_model_module_version": "1.2.0",
            "_model_name": "LayoutModel",
            "_view_count": null,
            "_view_module": "@jupyter-widgets/base",
            "_view_module_version": "1.2.0",
            "_view_name": "LayoutView",
            "align_content": null,
            "align_items": null,
            "align_self": null,
            "border": null,
            "bottom": null,
            "display": null,
            "flex": null,
            "flex_flow": null,
            "grid_area": null,
            "grid_auto_columns": null,
            "grid_auto_flow": null,
            "grid_auto_rows": null,
            "grid_column": null,
            "grid_gap": null,
            "grid_row": null,
            "grid_template_areas": null,
            "grid_template_columns": null,
            "grid_template_rows": null,
            "height": null,
            "justify_content": null,
            "justify_items": null,
            "left": null,
            "margin": null,
            "max_height": null,
            "max_width": null,
            "min_height": null,
            "min_width": null,
            "object_fit": null,
            "object_position": null,
            "order": null,
            "overflow": null,
            "overflow_x": null,
            "overflow_y": null,
            "padding": null,
            "right": null,
            "top": null,
            "visibility": null,
            "width": null
          }
        },
        "7640bc9c89f84b60aa0358b4ea091924": {
          "model_module": "@jupyter-widgets/controls",
          "model_name": "DescriptionStyleModel",
          "model_module_version": "1.5.0",
          "state": {
            "_model_module": "@jupyter-widgets/controls",
            "_model_module_version": "1.5.0",
            "_model_name": "DescriptionStyleModel",
            "_view_count": null,
            "_view_module": "@jupyter-widgets/base",
            "_view_module_version": "1.2.0",
            "_view_name": "StyleView",
            "description_width": ""
          }
        },
        "13b8b734cc59405d9d44385cc24ac9b9": {
          "model_module": "@jupyter-widgets/controls",
          "model_name": "HBoxModel",
          "model_module_version": "1.5.0",
          "state": {
            "_dom_classes": [],
            "_model_module": "@jupyter-widgets/controls",
            "_model_module_version": "1.5.0",
            "_model_name": "HBoxModel",
            "_view_count": null,
            "_view_module": "@jupyter-widgets/controls",
            "_view_module_version": "1.5.0",
            "_view_name": "HBoxView",
            "box_style": "",
            "children": [
              "IPY_MODEL_5ded5e51c58e4f4d86f197870e6ed14c",
              "IPY_MODEL_637f396795c740ab9027317c1b8370ed",
              "IPY_MODEL_3f65131986ec4f7ea50dfcf1a6ea6fa5"
            ],
            "layout": "IPY_MODEL_754d25809639431aab8bd270b9aa717f"
          }
        },
        "5ded5e51c58e4f4d86f197870e6ed14c": {
          "model_module": "@jupyter-widgets/controls",
          "model_name": "HTMLModel",
          "model_module_version": "1.5.0",
          "state": {
            "_dom_classes": [],
            "_model_module": "@jupyter-widgets/controls",
            "_model_module_version": "1.5.0",
            "_model_name": "HTMLModel",
            "_view_count": null,
            "_view_module": "@jupyter-widgets/controls",
            "_view_module_version": "1.5.0",
            "_view_name": "HTMLView",
            "description": "",
            "description_tooltip": null,
            "layout": "IPY_MODEL_a84b1eb879bd47b4a323f70726b547e6",
            "placeholder": "​",
            "style": "IPY_MODEL_085ff49a84f148229b195d533a743809",
            "value": "100%"
          }
        },
        "637f396795c740ab9027317c1b8370ed": {
          "model_module": "@jupyter-widgets/controls",
          "model_name": "FloatProgressModel",
          "model_module_version": "1.5.0",
          "state": {
            "_dom_classes": [],
            "_model_module": "@jupyter-widgets/controls",
            "_model_module_version": "1.5.0",
            "_model_name": "FloatProgressModel",
            "_view_count": null,
            "_view_module": "@jupyter-widgets/controls",
            "_view_module_version": "1.5.0",
            "_view_name": "ProgressView",
            "bar_style": "success",
            "description": "",
            "description_tooltip": null,
            "layout": "IPY_MODEL_31db1e060a9e4a989507cacc353afd29",
            "max": 5000,
            "min": 0,
            "orientation": "horizontal",
            "style": "IPY_MODEL_17098295f2a34f9b87cce220d27a5c0b",
            "value": 5000
          }
        },
        "3f65131986ec4f7ea50dfcf1a6ea6fa5": {
          "model_module": "@jupyter-widgets/controls",
          "model_name": "HTMLModel",
          "model_module_version": "1.5.0",
          "state": {
            "_dom_classes": [],
            "_model_module": "@jupyter-widgets/controls",
            "_model_module_version": "1.5.0",
            "_model_name": "HTMLModel",
            "_view_count": null,
            "_view_module": "@jupyter-widgets/controls",
            "_view_module_version": "1.5.0",
            "_view_name": "HTMLView",
            "description": "",
            "description_tooltip": null,
            "layout": "IPY_MODEL_d7a396050ef24195a9002f136e84e591",
            "placeholder": "​",
            "style": "IPY_MODEL_5f9f64f968b44f84a663726fa16b39e8",
            "value": " 5000/5000 [00:02&lt;00:00, 1733.52it/s]"
          }
        },
        "754d25809639431aab8bd270b9aa717f": {
          "model_module": "@jupyter-widgets/base",
          "model_name": "LayoutModel",
          "model_module_version": "1.2.0",
          "state": {
            "_model_module": "@jupyter-widgets/base",
            "_model_module_version": "1.2.0",
            "_model_name": "LayoutModel",
            "_view_count": null,
            "_view_module": "@jupyter-widgets/base",
            "_view_module_version": "1.2.0",
            "_view_name": "LayoutView",
            "align_content": null,
            "align_items": null,
            "align_self": null,
            "border": null,
            "bottom": null,
            "display": null,
            "flex": null,
            "flex_flow": null,
            "grid_area": null,
            "grid_auto_columns": null,
            "grid_auto_flow": null,
            "grid_auto_rows": null,
            "grid_column": null,
            "grid_gap": null,
            "grid_row": null,
            "grid_template_areas": null,
            "grid_template_columns": null,
            "grid_template_rows": null,
            "height": null,
            "justify_content": null,
            "justify_items": null,
            "left": null,
            "margin": null,
            "max_height": null,
            "max_width": null,
            "min_height": null,
            "min_width": null,
            "object_fit": null,
            "object_position": null,
            "order": null,
            "overflow": null,
            "overflow_x": null,
            "overflow_y": null,
            "padding": null,
            "right": null,
            "top": null,
            "visibility": null,
            "width": null
          }
        },
        "a84b1eb879bd47b4a323f70726b547e6": {
          "model_module": "@jupyter-widgets/base",
          "model_name": "LayoutModel",
          "model_module_version": "1.2.0",
          "state": {
            "_model_module": "@jupyter-widgets/base",
            "_model_module_version": "1.2.0",
            "_model_name": "LayoutModel",
            "_view_count": null,
            "_view_module": "@jupyter-widgets/base",
            "_view_module_version": "1.2.0",
            "_view_name": "LayoutView",
            "align_content": null,
            "align_items": null,
            "align_self": null,
            "border": null,
            "bottom": null,
            "display": null,
            "flex": null,
            "flex_flow": null,
            "grid_area": null,
            "grid_auto_columns": null,
            "grid_auto_flow": null,
            "grid_auto_rows": null,
            "grid_column": null,
            "grid_gap": null,
            "grid_row": null,
            "grid_template_areas": null,
            "grid_template_columns": null,
            "grid_template_rows": null,
            "height": null,
            "justify_content": null,
            "justify_items": null,
            "left": null,
            "margin": null,
            "max_height": null,
            "max_width": null,
            "min_height": null,
            "min_width": null,
            "object_fit": null,
            "object_position": null,
            "order": null,
            "overflow": null,
            "overflow_x": null,
            "overflow_y": null,
            "padding": null,
            "right": null,
            "top": null,
            "visibility": null,
            "width": null
          }
        },
        "085ff49a84f148229b195d533a743809": {
          "model_module": "@jupyter-widgets/controls",
          "model_name": "DescriptionStyleModel",
          "model_module_version": "1.5.0",
          "state": {
            "_model_module": "@jupyter-widgets/controls",
            "_model_module_version": "1.5.0",
            "_model_name": "DescriptionStyleModel",
            "_view_count": null,
            "_view_module": "@jupyter-widgets/base",
            "_view_module_version": "1.2.0",
            "_view_name": "StyleView",
            "description_width": ""
          }
        },
        "31db1e060a9e4a989507cacc353afd29": {
          "model_module": "@jupyter-widgets/base",
          "model_name": "LayoutModel",
          "model_module_version": "1.2.0",
          "state": {
            "_model_module": "@jupyter-widgets/base",
            "_model_module_version": "1.2.0",
            "_model_name": "LayoutModel",
            "_view_count": null,
            "_view_module": "@jupyter-widgets/base",
            "_view_module_version": "1.2.0",
            "_view_name": "LayoutView",
            "align_content": null,
            "align_items": null,
            "align_self": null,
            "border": null,
            "bottom": null,
            "display": null,
            "flex": null,
            "flex_flow": null,
            "grid_area": null,
            "grid_auto_columns": null,
            "grid_auto_flow": null,
            "grid_auto_rows": null,
            "grid_column": null,
            "grid_gap": null,
            "grid_row": null,
            "grid_template_areas": null,
            "grid_template_columns": null,
            "grid_template_rows": null,
            "height": null,
            "justify_content": null,
            "justify_items": null,
            "left": null,
            "margin": null,
            "max_height": null,
            "max_width": null,
            "min_height": null,
            "min_width": null,
            "object_fit": null,
            "object_position": null,
            "order": null,
            "overflow": null,
            "overflow_x": null,
            "overflow_y": null,
            "padding": null,
            "right": null,
            "top": null,
            "visibility": null,
            "width": null
          }
        },
        "17098295f2a34f9b87cce220d27a5c0b": {
          "model_module": "@jupyter-widgets/controls",
          "model_name": "ProgressStyleModel",
          "model_module_version": "1.5.0",
          "state": {
            "_model_module": "@jupyter-widgets/controls",
            "_model_module_version": "1.5.0",
            "_model_name": "ProgressStyleModel",
            "_view_count": null,
            "_view_module": "@jupyter-widgets/base",
            "_view_module_version": "1.2.0",
            "_view_name": "StyleView",
            "bar_color": null,
            "description_width": ""
          }
        },
        "d7a396050ef24195a9002f136e84e591": {
          "model_module": "@jupyter-widgets/base",
          "model_name": "LayoutModel",
          "model_module_version": "1.2.0",
          "state": {
            "_model_module": "@jupyter-widgets/base",
            "_model_module_version": "1.2.0",
            "_model_name": "LayoutModel",
            "_view_count": null,
            "_view_module": "@jupyter-widgets/base",
            "_view_module_version": "1.2.0",
            "_view_name": "LayoutView",
            "align_content": null,
            "align_items": null,
            "align_self": null,
            "border": null,
            "bottom": null,
            "display": null,
            "flex": null,
            "flex_flow": null,
            "grid_area": null,
            "grid_auto_columns": null,
            "grid_auto_flow": null,
            "grid_auto_rows": null,
            "grid_column": null,
            "grid_gap": null,
            "grid_row": null,
            "grid_template_areas": null,
            "grid_template_columns": null,
            "grid_template_rows": null,
            "height": null,
            "justify_content": null,
            "justify_items": null,
            "left": null,
            "margin": null,
            "max_height": null,
            "max_width": null,
            "min_height": null,
            "min_width": null,
            "object_fit": null,
            "object_position": null,
            "order": null,
            "overflow": null,
            "overflow_x": null,
            "overflow_y": null,
            "padding": null,
            "right": null,
            "top": null,
            "visibility": null,
            "width": null
          }
        },
        "5f9f64f968b44f84a663726fa16b39e8": {
          "model_module": "@jupyter-widgets/controls",
          "model_name": "DescriptionStyleModel",
          "model_module_version": "1.5.0",
          "state": {
            "_model_module": "@jupyter-widgets/controls",
            "_model_module_version": "1.5.0",
            "_model_name": "DescriptionStyleModel",
            "_view_count": null,
            "_view_module": "@jupyter-widgets/base",
            "_view_module_version": "1.2.0",
            "_view_name": "StyleView",
            "description_width": ""
          }
        },
        "c681bac6b6b048da9431f8b89efbb945": {
          "model_module": "@jupyter-widgets/controls",
          "model_name": "HBoxModel",
          "model_module_version": "1.5.0",
          "state": {
            "_dom_classes": [],
            "_model_module": "@jupyter-widgets/controls",
            "_model_module_version": "1.5.0",
            "_model_name": "HBoxModel",
            "_view_count": null,
            "_view_module": "@jupyter-widgets/controls",
            "_view_module_version": "1.5.0",
            "_view_name": "HBoxView",
            "box_style": "",
            "children": [
              "IPY_MODEL_23f0d7f916a44649a494dc4437394f89",
              "IPY_MODEL_846d320d51d04d11b6b3e5f0fcebe1dc",
              "IPY_MODEL_2686d90d802541f29c6c9dc169e10708"
            ],
            "layout": "IPY_MODEL_df1cc30266124c60bd8c40476fba5f1a"
          }
        },
        "23f0d7f916a44649a494dc4437394f89": {
          "model_module": "@jupyter-widgets/controls",
          "model_name": "HTMLModel",
          "model_module_version": "1.5.0",
          "state": {
            "_dom_classes": [],
            "_model_module": "@jupyter-widgets/controls",
            "_model_module_version": "1.5.0",
            "_model_name": "HTMLModel",
            "_view_count": null,
            "_view_module": "@jupyter-widgets/controls",
            "_view_module_version": "1.5.0",
            "_view_name": "HTMLView",
            "description": "",
            "description_tooltip": null,
            "layout": "IPY_MODEL_c55e0e0789b9453c9a7b67de89f66752",
            "placeholder": "​",
            "style": "IPY_MODEL_e2994eaa86a440f5b4e6c279f035b735",
            "value": "100%"
          }
        },
        "846d320d51d04d11b6b3e5f0fcebe1dc": {
          "model_module": "@jupyter-widgets/controls",
          "model_name": "FloatProgressModel",
          "model_module_version": "1.5.0",
          "state": {
            "_dom_classes": [],
            "_model_module": "@jupyter-widgets/controls",
            "_model_module_version": "1.5.0",
            "_model_name": "FloatProgressModel",
            "_view_count": null,
            "_view_module": "@jupyter-widgets/controls",
            "_view_module_version": "1.5.0",
            "_view_name": "ProgressView",
            "bar_style": "success",
            "description": "",
            "description_tooltip": null,
            "layout": "IPY_MODEL_334af0e33a344381b537693819d96ae7",
            "max": 5000,
            "min": 0,
            "orientation": "horizontal",
            "style": "IPY_MODEL_c44def35095848289afb63246db9f05b",
            "value": 5000
          }
        },
        "2686d90d802541f29c6c9dc169e10708": {
          "model_module": "@jupyter-widgets/controls",
          "model_name": "HTMLModel",
          "model_module_version": "1.5.0",
          "state": {
            "_dom_classes": [],
            "_model_module": "@jupyter-widgets/controls",
            "_model_module_version": "1.5.0",
            "_model_name": "HTMLModel",
            "_view_count": null,
            "_view_module": "@jupyter-widgets/controls",
            "_view_module_version": "1.5.0",
            "_view_name": "HTMLView",
            "description": "",
            "description_tooltip": null,
            "layout": "IPY_MODEL_59e2756165bb42c0abde437e36846d4f",
            "placeholder": "​",
            "style": "IPY_MODEL_96f1155cddce410aa2ee6f6e2c6919a1",
            "value": " 5000/5000 [00:04&lt;00:00, 1129.94it/s]"
          }
        },
        "df1cc30266124c60bd8c40476fba5f1a": {
          "model_module": "@jupyter-widgets/base",
          "model_name": "LayoutModel",
          "model_module_version": "1.2.0",
          "state": {
            "_model_module": "@jupyter-widgets/base",
            "_model_module_version": "1.2.0",
            "_model_name": "LayoutModel",
            "_view_count": null,
            "_view_module": "@jupyter-widgets/base",
            "_view_module_version": "1.2.0",
            "_view_name": "LayoutView",
            "align_content": null,
            "align_items": null,
            "align_self": null,
            "border": null,
            "bottom": null,
            "display": null,
            "flex": null,
            "flex_flow": null,
            "grid_area": null,
            "grid_auto_columns": null,
            "grid_auto_flow": null,
            "grid_auto_rows": null,
            "grid_column": null,
            "grid_gap": null,
            "grid_row": null,
            "grid_template_areas": null,
            "grid_template_columns": null,
            "grid_template_rows": null,
            "height": null,
            "justify_content": null,
            "justify_items": null,
            "left": null,
            "margin": null,
            "max_height": null,
            "max_width": null,
            "min_height": null,
            "min_width": null,
            "object_fit": null,
            "object_position": null,
            "order": null,
            "overflow": null,
            "overflow_x": null,
            "overflow_y": null,
            "padding": null,
            "right": null,
            "top": null,
            "visibility": null,
            "width": null
          }
        },
        "c55e0e0789b9453c9a7b67de89f66752": {
          "model_module": "@jupyter-widgets/base",
          "model_name": "LayoutModel",
          "model_module_version": "1.2.0",
          "state": {
            "_model_module": "@jupyter-widgets/base",
            "_model_module_version": "1.2.0",
            "_model_name": "LayoutModel",
            "_view_count": null,
            "_view_module": "@jupyter-widgets/base",
            "_view_module_version": "1.2.0",
            "_view_name": "LayoutView",
            "align_content": null,
            "align_items": null,
            "align_self": null,
            "border": null,
            "bottom": null,
            "display": null,
            "flex": null,
            "flex_flow": null,
            "grid_area": null,
            "grid_auto_columns": null,
            "grid_auto_flow": null,
            "grid_auto_rows": null,
            "grid_column": null,
            "grid_gap": null,
            "grid_row": null,
            "grid_template_areas": null,
            "grid_template_columns": null,
            "grid_template_rows": null,
            "height": null,
            "justify_content": null,
            "justify_items": null,
            "left": null,
            "margin": null,
            "max_height": null,
            "max_width": null,
            "min_height": null,
            "min_width": null,
            "object_fit": null,
            "object_position": null,
            "order": null,
            "overflow": null,
            "overflow_x": null,
            "overflow_y": null,
            "padding": null,
            "right": null,
            "top": null,
            "visibility": null,
            "width": null
          }
        },
        "e2994eaa86a440f5b4e6c279f035b735": {
          "model_module": "@jupyter-widgets/controls",
          "model_name": "DescriptionStyleModel",
          "model_module_version": "1.5.0",
          "state": {
            "_model_module": "@jupyter-widgets/controls",
            "_model_module_version": "1.5.0",
            "_model_name": "DescriptionStyleModel",
            "_view_count": null,
            "_view_module": "@jupyter-widgets/base",
            "_view_module_version": "1.2.0",
            "_view_name": "StyleView",
            "description_width": ""
          }
        },
        "334af0e33a344381b537693819d96ae7": {
          "model_module": "@jupyter-widgets/base",
          "model_name": "LayoutModel",
          "model_module_version": "1.2.0",
          "state": {
            "_model_module": "@jupyter-widgets/base",
            "_model_module_version": "1.2.0",
            "_model_name": "LayoutModel",
            "_view_count": null,
            "_view_module": "@jupyter-widgets/base",
            "_view_module_version": "1.2.0",
            "_view_name": "LayoutView",
            "align_content": null,
            "align_items": null,
            "align_self": null,
            "border": null,
            "bottom": null,
            "display": null,
            "flex": null,
            "flex_flow": null,
            "grid_area": null,
            "grid_auto_columns": null,
            "grid_auto_flow": null,
            "grid_auto_rows": null,
            "grid_column": null,
            "grid_gap": null,
            "grid_row": null,
            "grid_template_areas": null,
            "grid_template_columns": null,
            "grid_template_rows": null,
            "height": null,
            "justify_content": null,
            "justify_items": null,
            "left": null,
            "margin": null,
            "max_height": null,
            "max_width": null,
            "min_height": null,
            "min_width": null,
            "object_fit": null,
            "object_position": null,
            "order": null,
            "overflow": null,
            "overflow_x": null,
            "overflow_y": null,
            "padding": null,
            "right": null,
            "top": null,
            "visibility": null,
            "width": null
          }
        },
        "c44def35095848289afb63246db9f05b": {
          "model_module": "@jupyter-widgets/controls",
          "model_name": "ProgressStyleModel",
          "model_module_version": "1.5.0",
          "state": {
            "_model_module": "@jupyter-widgets/controls",
            "_model_module_version": "1.5.0",
            "_model_name": "ProgressStyleModel",
            "_view_count": null,
            "_view_module": "@jupyter-widgets/base",
            "_view_module_version": "1.2.0",
            "_view_name": "StyleView",
            "bar_color": null,
            "description_width": ""
          }
        },
        "59e2756165bb42c0abde437e36846d4f": {
          "model_module": "@jupyter-widgets/base",
          "model_name": "LayoutModel",
          "model_module_version": "1.2.0",
          "state": {
            "_model_module": "@jupyter-widgets/base",
            "_model_module_version": "1.2.0",
            "_model_name": "LayoutModel",
            "_view_count": null,
            "_view_module": "@jupyter-widgets/base",
            "_view_module_version": "1.2.0",
            "_view_name": "LayoutView",
            "align_content": null,
            "align_items": null,
            "align_self": null,
            "border": null,
            "bottom": null,
            "display": null,
            "flex": null,
            "flex_flow": null,
            "grid_area": null,
            "grid_auto_columns": null,
            "grid_auto_flow": null,
            "grid_auto_rows": null,
            "grid_column": null,
            "grid_gap": null,
            "grid_row": null,
            "grid_template_areas": null,
            "grid_template_columns": null,
            "grid_template_rows": null,
            "height": null,
            "justify_content": null,
            "justify_items": null,
            "left": null,
            "margin": null,
            "max_height": null,
            "max_width": null,
            "min_height": null,
            "min_width": null,
            "object_fit": null,
            "object_position": null,
            "order": null,
            "overflow": null,
            "overflow_x": null,
            "overflow_y": null,
            "padding": null,
            "right": null,
            "top": null,
            "visibility": null,
            "width": null
          }
        },
        "96f1155cddce410aa2ee6f6e2c6919a1": {
          "model_module": "@jupyter-widgets/controls",
          "model_name": "DescriptionStyleModel",
          "model_module_version": "1.5.0",
          "state": {
            "_model_module": "@jupyter-widgets/controls",
            "_model_module_version": "1.5.0",
            "_model_name": "DescriptionStyleModel",
            "_view_count": null,
            "_view_module": "@jupyter-widgets/base",
            "_view_module_version": "1.2.0",
            "_view_name": "StyleView",
            "description_width": ""
          }
        }
      }
    }
  },
  "nbformat": 4,
  "nbformat_minor": 0
}