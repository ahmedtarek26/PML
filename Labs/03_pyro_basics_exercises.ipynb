{
 "cells": [
  {
   "cell_type": "markdown",
   "id": "cb9b8d76",
   "metadata": {},
   "source": [
    "<a href=\"https://colab.research.google.com/github/DavideScassola/PML2024/blob/main/Notebooks/03_pyro_basics_exercises.ipynb\" target=\"_parent\"><img src=\"https://colab.research.google.com/assets/colab-badge.svg\" alt=\"Open In Colab\"/></a>"
   ]
  },
  {
   "cell_type": "markdown",
   "metadata": {},
   "source": [
    "# Notebook 3: **Pyro** basics exercises"
   ]
  },
  {
   "cell_type": "code",
   "execution_count": 1,
   "metadata": {},
   "outputs": [
    {
     "name": "stdout",
     "output_type": "stream",
     "text": [
      "Collecting pyro-ppl\n",
      "  Downloading pyro_ppl-1.9.1-py3-none-any.whl.metadata (7.8 kB)\n",
      "Requirement already satisfied: numpy>=1.7 in c:\\users\\ahmed tarek\\anaconda3\\lib\\site-packages (from pyro-ppl) (1.18.5)\n"
     ]
    },
    {
     "name": "stderr",
     "output_type": "stream",
     "text": [
      "WARNING: Ignoring invalid distribution -tkinter-pymol (c:\\users\\ahmed tarek\\anaconda3\\dlls)\n",
      "WARNING: Ignoring invalid distribution -tkinter-pymol (c:\\users\\ahmed tarek\\anaconda3\\dlls)\n",
      "WARNING: Ignoring invalid distribution -tkinter-pymol (c:\\users\\ahmed tarek\\anaconda3\\dlls)\n",
      "WARNING: Error parsing dependencies of gym: Expected matching RIGHT_PARENTHESIS for LEFT_PARENTHESIS, after version specifier\n",
      "    opencv-python (>=3.) ; extra == 'all'\n",
      "                  ~~~~^\n",
      "WARNING: Error parsing dependencies of pyodbc: Invalid version: '4.0.0-unsupported'\n",
      "WARNING: Error parsing dependencies of pyzmq: Invalid version: 'cpython'\n",
      "    WARNING: Ignoring invalid distribution -tkinter-pymol (c:\\users\\ahmed tarek\\anaconda3\\dlls)\n",
      "WARNING: Ignoring invalid distribution -tkinter-pymol (c:\\users\\ahmed tarek\\anaconda3\\dlls)\n",
      "ERROR: Exception:\n",
      "Traceback (most recent call last):\n",
      "  File \"c:\\users\\ahmed tarek\\anaconda3\\lib\\site-packages\\pip\\_internal\\cli\\base_command.py\", line 105, in _run_wrapper\n",
      "    status = _inner_run()\n",
      "  File \"c:\\users\\ahmed tarek\\anaconda3\\lib\\site-packages\\pip\\_internal\\cli\\base_command.py\", line 96, in _inner_run\n",
      "    return self.run(options, args)\n",
      "  File \"c:\\users\\ahmed tarek\\anaconda3\\lib\\site-packages\\pip\\_internal\\cli\\req_command.py\", line 67, in wrapper\n",
      "    return func(self, options, args)\n",
      "  File \"c:\\users\\ahmed tarek\\anaconda3\\lib\\site-packages\\pip\\_internal\\commands\\install.py\", line 483, in run\n",
      "    installed_versions[distribution.canonical_name] = distribution.version\n",
      "  File \"c:\\users\\ahmed tarek\\anaconda3\\lib\\site-packages\\pip\\_internal\\metadata\\pkg_resources.py\", line 192, in version\n",
      "    return parse_version(self._dist.version)\n",
      "  File \"c:\\users\\ahmed tarek\\anaconda3\\lib\\site-packages\\pip\\_vendor\\packaging\\version.py\", line 56, in parse\n",
      "    return Version(version)\n",
      "  File \"c:\\users\\ahmed tarek\\anaconda3\\lib\\site-packages\\pip\\_vendor\\packaging\\version.py\", line 202, in __init__\n"
     ]
    },
    {
     "name": "stdout",
     "output_type": "stream",
     "text": [
      "Requirement already satisfied: opt-einsum>=2.3.2 in c:\\users\\ahmed tarek\\anaconda3\\lib\\site-packages (from pyro-ppl) (3.3.0)\n",
      "Collecting pyro-api>=0.1.1 (from pyro-ppl)\n",
      "  Downloading pyro_api-0.1.2-py3-none-any.whl.metadata (2.5 kB)\n",
      "Collecting torch>=2.0 (from pyro-ppl)\n",
      "  Downloading torch-2.4.1-cp38-cp38-win_amd64.whl.metadata (27 kB)\n",
      "Requirement already satisfied: tqdm>=4.36 in c:\\users\\ahmed tarek\\anaconda3\\lib\\site-packages (from pyro-ppl) (4.64.0)\n",
      "Requirement already satisfied: filelock in c:\\users\\ahmed tarek\\anaconda3\\lib\\site-packages (from torch>=2.0->pyro-ppl) (3.0.12)\n",
      "Requirement already satisfied: typing-extensions>=4.8.0 in c:\\users\\ahmed tarek\\anaconda3\\lib\\site-packages (from torch>=2.0->pyro-ppl) (4.12.2)\n",
      "Requirement already satisfied: sympy in c:\\users\\ahmed tarek\\anaconda3\\lib\\site-packages (from torch>=2.0->pyro-ppl) (1.8)\n",
      "Requirement already satisfied: networkx in c:\\users\\ahmed tarek\\anaconda3\\lib\\site-packages (from torch>=2.0->pyro-ppl) (2.5)\n",
      "Requirement already satisfied: jinja2 in c:\\users\\ahmed tarek\\anaconda3\\lib\\site-packages (from torch>=2.0->pyro-ppl) (3.1.5)\n",
      "Requirement already satisfied: fsspec in c:\\users\\ahmed tarek\\anaconda3\\lib\\site-packages (from torch>=2.0->pyro-ppl) (0.9.0)\n",
      "Requirement already satisfied: colorama in c:\\users\\ahmed tarek\\anaconda3\\lib\\site-packages (from tqdm>=4.36->pyro-ppl) (0.4.4)\n",
      "Requirement already satisfied: MarkupSafe>=2.0 in c:\\users\\ahmed tarek\\anaconda3\\lib\\site-packages (from jinja2->torch>=2.0->pyro-ppl) (2.1.5)\n",
      "Requirement already satisfied: decorator>=4.3.0 in c:\\users\\ahmed tarek\\anaconda3\\lib\\site-packages (from networkx->torch>=2.0->pyro-ppl) (4.4.2)\n",
      "Requirement already satisfied: mpmath>=0.19 in c:\\users\\ahmed tarek\\anaconda3\\lib\\site-packages (from sympy->torch>=2.0->pyro-ppl) (1.2.1)\n",
      "Downloading pyro_ppl-1.9.1-py3-none-any.whl (755 kB)\n",
      "   --------------------------------------- 756.0/756.0 kB 10.5 MB/s eta 0:00:00\n",
      "Downloading pyro_api-0.1.2-py3-none-any.whl (11 kB)\n",
      "Downloading torch-2.4.1-cp38-cp38-win_amd64.whl (199.4 MB)\n",
      "   --------------------------------------- 199.4/199.4 MB 26.0 MB/s eta 0:00:00\n",
      "Installing collected packages: pyro-api, torch, pyro-ppl\n",
      "  Attempting uninstall: torch\n",
      "    Found existing installation: torch 1.10.2\n",
      "    Uninstalling torch-1.10.2:\n",
      "      Successfully uninstalled torch-1.10.2\n"
     ]
    },
    {
     "name": "stderr",
     "output_type": "stream",
     "text": [
      "    raise InvalidVersion(f\"Invalid version: '{version}'\")\n",
      "pip._vendor.packaging.version.InvalidVersion: Invalid version: '4.0.0-unsupported'\n"
     ]
    }
   ],
   "source": [
    "!pip install pyro-ppl"
   ]
  },
  {
   "cell_type": "code",
   "execution_count": 2,
   "metadata": {},
   "outputs": [],
   "source": [
    "import torch\n",
    "import seaborn as sns\n",
    "import matplotlib.pyplot as plt\n",
    "\n",
    "import pyro\n",
    "import pyro.distributions as dist"
   ]
  },
  {
   "cell_type": "markdown",
   "metadata": {},
   "source": [
    "### Exercise 1"
   ]
  },
  {
   "cell_type": "markdown",
   "metadata": {},
   "source": [
    "Consider the following model of the delay in getting to the workplace:\n",
    "\n",
    "$$A\\text{(alarm clock did not ring)} \\sim Bern(0.1)$$\n",
    "\n",
    "$$R\\text{(heavy rain)} \\sim Bern(0.15)$$\n",
    "\n",
    "$$T\\text{(traffic jam delay)} \\sim Exponential(\\mu = 5 + 10R) \\ \\ (\\text{minutes})$$\n",
    "\n",
    "$$D\\text{(total delay)} \\sim N(\\mu = T + 30A, \\sigma = 5) \\ \\ (\\text{minutes})$$\n",
    "\n",
    "1. Write the corresponding model in pyro\n",
    "2. plot the corersponding graphical model\n",
    "3. Sample 25000 samples from $p(A,R,T,D)$\n",
    "4. Estimate $p(D)$ from the simulated values\n",
    "5. Estimate $p(D | A)$ from the simulated values\n",
    "6. Estimate $p(A | D>30m)$ from the simulated values\n",
    "\n",
    "IMPORTANT: notice that `dist.Exponential` takes the rate as argument and not the mean"
   ]
  },
  {
   "cell_type": "markdown",
   "metadata": {},
   "source": [
    "#### Solution"
   ]
  },
  {
   "cell_type": "code",
   "execution_count": 3,
   "metadata": {},
   "outputs": [
    {
     "ename": "TypeError",
     "evalue": "__init__() got an unexpected keyword argument 'loc'",
     "output_type": "error",
     "traceback": [
      "\u001b[1;31m---------------------------------------------------------------------------\u001b[0m",
      "\u001b[1;31mTypeError\u001b[0m                                 Traceback (most recent call last)",
      "\u001b[1;32m<ipython-input-3-341d57639406>\u001b[0m in \u001b[0;36m<module>\u001b[1;34m\u001b[0m\n\u001b[0;32m     16\u001b[0m \u001b[1;33m\u001b[0m\u001b[0m\n\u001b[0;32m     17\u001b[0m \u001b[1;32mfor\u001b[0m \u001b[0m_\u001b[0m \u001b[1;32min\u001b[0m \u001b[0mrange\u001b[0m\u001b[1;33m(\u001b[0m\u001b[1;36m2500\u001b[0m\u001b[1;33m)\u001b[0m\u001b[1;33m:\u001b[0m\u001b[1;33m\u001b[0m\u001b[1;33m\u001b[0m\u001b[0m\n\u001b[1;32m---> 18\u001b[1;33m     \u001b[0mdelay_workspace\u001b[0m\u001b[1;33m(\u001b[0m\u001b[1;33m)\u001b[0m\u001b[1;33m\u001b[0m\u001b[1;33m\u001b[0m\u001b[0m\n\u001b[0m",
      "\u001b[1;32m<ipython-input-3-341d57639406>\u001b[0m in \u001b[0;36mdelay_workspace\u001b[1;34m()\u001b[0m\n\u001b[0;32m      7\u001b[0m \u001b[1;33m\u001b[0m\u001b[0m\n\u001b[0;32m      8\u001b[0m     \u001b[0mmu_T\u001b[0m \u001b[1;33m=\u001b[0m \u001b[1;36m5\u001b[0m \u001b[1;33m+\u001b[0m \u001b[1;36m10\u001b[0m\u001b[1;33m*\u001b[0m\u001b[0mR\u001b[0m\u001b[1;33m\u001b[0m\u001b[1;33m\u001b[0m\u001b[0m\n\u001b[1;32m----> 9\u001b[1;33m     \u001b[0mT\u001b[0m \u001b[1;33m=\u001b[0m \u001b[0mpyro\u001b[0m\u001b[1;33m.\u001b[0m\u001b[0msample\u001b[0m\u001b[1;33m(\u001b[0m\u001b[1;34m\"T\"\u001b[0m\u001b[1;33m,\u001b[0m \u001b[0mdist\u001b[0m\u001b[1;33m.\u001b[0m\u001b[0mExponential\u001b[0m\u001b[1;33m(\u001b[0m\u001b[0mloc\u001b[0m\u001b[1;33m=\u001b[0m\u001b[0mmu_T\u001b[0m\u001b[1;33m)\u001b[0m\u001b[1;33m)\u001b[0m\u001b[1;33m\u001b[0m\u001b[1;33m\u001b[0m\u001b[0m\n\u001b[0m\u001b[0;32m     10\u001b[0m \u001b[1;33m\u001b[0m\u001b[0m\n\u001b[0;32m     11\u001b[0m     \u001b[0mmu_D\u001b[0m \u001b[1;33m=\u001b[0m \u001b[0mT\u001b[0m \u001b[1;33m+\u001b[0m \u001b[1;36m30\u001b[0m\u001b[1;33m*\u001b[0m\u001b[0mA\u001b[0m\u001b[1;33m\u001b[0m\u001b[1;33m\u001b[0m\u001b[0m\n",
      "\u001b[1;32mc:\\Users\\Ahmed Tarek\\anaconda3\\lib\\site-packages\\pyro\\distributions\\distribution.py\u001b[0m in \u001b[0;36m__call__\u001b[1;34m(cls, *args, **kwargs)\u001b[0m\n\u001b[0;32m     24\u001b[0m             \u001b[1;32mif\u001b[0m \u001b[0mresult\u001b[0m \u001b[1;32mis\u001b[0m \u001b[1;32mnot\u001b[0m \u001b[1;32mNone\u001b[0m\u001b[1;33m:\u001b[0m\u001b[1;33m\u001b[0m\u001b[1;33m\u001b[0m\u001b[0m\n\u001b[0;32m     25\u001b[0m                 \u001b[1;32mreturn\u001b[0m \u001b[0mresult\u001b[0m\u001b[1;33m\u001b[0m\u001b[1;33m\u001b[0m\u001b[0m\n\u001b[1;32m---> 26\u001b[1;33m         \u001b[1;32mreturn\u001b[0m \u001b[0msuper\u001b[0m\u001b[1;33m(\u001b[0m\u001b[1;33m)\u001b[0m\u001b[1;33m.\u001b[0m\u001b[0m__call__\u001b[0m\u001b[1;33m(\u001b[0m\u001b[1;33m*\u001b[0m\u001b[0margs\u001b[0m\u001b[1;33m,\u001b[0m \u001b[1;33m**\u001b[0m\u001b[0mkwargs\u001b[0m\u001b[1;33m)\u001b[0m\u001b[1;33m\u001b[0m\u001b[1;33m\u001b[0m\u001b[0m\n\u001b[0m\u001b[0;32m     27\u001b[0m \u001b[1;33m\u001b[0m\u001b[0m\n\u001b[0;32m     28\u001b[0m \u001b[1;33m\u001b[0m\u001b[0m\n",
      "\u001b[1;31mTypeError\u001b[0m: __init__() got an unexpected keyword argument 'loc'"
     ]
    }
   ],
   "source": [
    "def delay_workspace():\n",
    "    A = pyro.sample(\"A\", dist.Bernoulli(0.1))\n",
    "    alarm = \"Alarm ring\" if A.item() == 1.0 else \"Alarm didn't ring\"\n",
    "\n",
    "    R = pyro.sample(\"R\", dist.Bernoulli(0.15))\n",
    "    rain = \"Heavy rain\" if R.item() == 1.5 else \"not heavy rain\"\n",
    "\n",
    "    mu_T = 5 + 10*R\n",
    "    T = pyro.sample(\"T\", dist.Exponential(mu_T))\n",
    "\n",
    "    mu_D = T + 30*A\n",
    "    D = pyro.sample(\"D\", dist.Normal(loc=mu_D,scale=5))\n",
    "\n",
    "\n",
    "    print(f\"{alarm} exam + {rain} ,  Traffic jam delay & Total delay = {T,D}\")\n",
    "\n",
    "for _ in range(2500):\n",
    "    delay_workspace()"
   ]
  },
  {
   "cell_type": "markdown",
   "metadata": {},
   "source": [
    "### Exercise 2"
   ]
  },
  {
   "cell_type": "markdown",
   "metadata": {},
   "source": [
    "Do you remember this exercise?\n",
    "\n",
    "*You are handed a fair coin with probability $0.5$ or an unfair coin (having $P(\\text{head})=0.8$) with probability $0.5$. Then you toss it two times, with results $H_1$ and $H_2$.*\n",
    "\n",
    "*Let's call $C$ the random variable describing if the coin is fair or not.*\n",
    "\n",
    "Now you can give an approximate answer to the following questions through simulation with pyro:\n",
    "\n",
    "1. Compute $p(h_1)$\n",
    "2. Compute $p(c | h_1)$\n",
    "3. Compute $p(h_2 | h_1)$"
   ]
  },
  {
   "cell_type": "markdown",
   "metadata": {},
   "source": [
    "#### Solution"
   ]
  },
  {
   "cell_type": "code",
   "execution_count": null,
   "metadata": {},
   "outputs": [],
   "source": []
  },
  {
   "cell_type": "markdown",
   "metadata": {},
   "source": [
    "### Exercise 3"
   ]
  },
  {
   "cell_type": "markdown",
   "metadata": {},
   "source": [
    "You have a set of $N$ observations $\\text{height}_i$ of height of $N$ individuals all coming from an unknown country and you want to build a model of it. \n",
    "A (pretty simplistic) model is:\n",
    "$$\\mu_{male} \\sim \\mathcal{N}(\\text{loc}=177, \\text{scale}=5) \\text{   (cm)}$$\n",
    "$$\\mu_{female} \\sim \\mathcal{N}(\\text{loc}=164, \\text{scale}=5)  \\text{   (cm)}$$\n",
    "$$S_i (\\text{sex}) \\sim Bern(0.5)$$\n",
    "$$H_i (\\text{height}) \\sim \\mathcal{N}(  \\text{loc}=\\mu,   \\text{scale}= \\frac{ \\mu}{40}) \\text{ where } \\mu = \\mu_{male} \\text{ if } S_i=\\text{male else } \\mu_{female}  \\text{   (cm)}$$\n",
    "\n",
    "1. Write the corresponding model in pyro (assuming you actually have some observations).\n",
    "2. Plot the corresponding graphical model.\n",
    "3. Fixing $N=10000$, sample from the model, show the sampled values of $\\mu_{male}$ and $\\mu_{female}$ and plot the histogram of $H_i$. Do it two times (for two different samples).\n",
    "4. Fixing $N=1$, estimate $p(\\text{height})$ by simulation (you can redefine the model if it is simpler for you).\n",
    "5. Fixing $N=1$, estimate $P(S = \\text{male}| \\text{height}> 180)$ by simulation."
   ]
  },
  {
   "cell_type": "markdown",
   "metadata": {},
   "source": [
    "#### Solution"
   ]
  },
  {
   "cell_type": "code",
   "execution_count": null,
   "metadata": {},
   "outputs": [],
   "source": []
  },
  {
   "cell_type": "markdown",
   "metadata": {},
   "source": [
    "### Exercise 4"
   ]
  },
  {
   "cell_type": "markdown",
   "metadata": {},
   "source": [
    "It seems there is a correlation between the average weight of an animal species and its average longevity."
   ]
  },
  {
   "cell_type": "markdown",
   "metadata": {},
   "source": [
    "<img src=\"https://qph.cf2.quoracdn.net/main-qimg-427d1e41011ad526b9b186daf661bb54-pjlq\" alt=\"drawing\" width=\"500\"/>"
   ]
  },
  {
   "cell_type": "markdown",
   "metadata": {},
   "source": [
    "Suppose you have a dataset of $N$ observations $(\\text{weight}_i, \\text{longevity}_i)$ relative to different species and that you are only intersted in $p(\\text{longevity} | \\text{weight})$ (so you are not intersted in $p(\\text{weight})$).\n",
    "\n",
    "Given the following linear model:\n",
    "$$p(\\text{longevity} | \\text{weight}, \\alpha, h, \\beta) = \\mathcal{N}(\\text{longevity}; \\text{loc} =  h + \\alpha \\cdot \\text{weight}; \\text{scale} = \\beta) $$\n",
    "\n",
    "where\n",
    "\n",
    "$$p(\\alpha) = \\mathcal{N}(\\alpha; \\text{loc} = 0, \\text{scale} = 0.15) $$\n",
    "$$p(h) = \\mathcal{N}(h; \\text{loc} = 0, \\text{scale} = 0.15) $$\n",
    "$$p(\\beta) = Exponential(\\beta; \\mu = 0.2) $$\n",
    "\n",
    "\n",
    "\n",
    "where longevity is in $\\log_{10}$ years and weight is in $\\log_{10}$ grams.\n",
    "\n",
    "1. Define the model in pyro supposing to have the following observed data and plot the corresponding graphical model.\n",
    "\n",
    "`observations = [(1.05, -0.3), (3.1, 0.84), (5.17, 2.1)]`\n",
    "\n",
    "2. Now suppose you don't have any observation, estimate $p(\\text{longevity} | \\text{weight=100g})$ and $p(\\text{longevity} | \\text{weight=1000kg})$ by simulation.\n",
    "3. Now suppose someone fitted a bayesian model given some data, and found that approximately:\n",
    "\n",
    "    $$p(\\alpha) = \\mathcal{N}(\\alpha; \\text{loc} = 0.2, \\text{scale} = 0.025) $$\n",
    "    $$p(h) = \\mathcal{N}(h; \\text{loc} = 0.2, \\text{scale} = 0.02) $$\n",
    "    $$\\beta \\approx 0.05 \\text{  (so this parameter was not fitted in a bayesian way)}$$\n",
    "\n",
    "    Given this new knowledge, estimate $p(\\text{longevity} | \\text{weight=100g})$ and $p(\\text{longevity} | \\text{weight=1000kg})$ by simulation."
   ]
  },
  {
   "cell_type": "markdown",
   "metadata": {},
   "source": [
    "#### Solution"
   ]
  },
  {
   "cell_type": "code",
   "execution_count": null,
   "metadata": {},
   "outputs": [],
   "source": []
  }
 ],
 "metadata": {
  "kernelspec": {
   "display_name": "base",
   "language": "python",
   "name": "python3"
  },
  "language_info": {
   "codemirror_mode": {
    "name": "ipython",
    "version": 3
   },
   "file_extension": ".py",
   "mimetype": "text/x-python",
   "name": "python",
   "nbconvert_exporter": "python",
   "pygments_lexer": "ipython3",
   "version": "3.8.8"
  }
 },
 "nbformat": 4,
 "nbformat_minor": 2
}
