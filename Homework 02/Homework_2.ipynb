{
  "cells": [
    {
      "cell_type": "markdown",
      "metadata": {
        "id": "view-in-github",
        "colab_type": "text"
      },
      "source": [
        "<a href=\"https://colab.research.google.com/github/ahmedtarek26/PML/blob/main/Homework%2002/Homework_2.ipynb\" target=\"_parent\"><img src=\"https://colab.research.google.com/assets/colab-badge.svg\" alt=\"Open In Colab\"/></a>"
      ]
    },
    {
      "cell_type": "markdown",
      "metadata": {
        "id": "d877b276"
      },
      "source": [
        "<a href=\"https://colab.research.google.com/github/r-doz/PML2025/blob/main/./Homeworks/Homework_2.ipynb\" target=\"_parent\"><img src=\"https://colab.research.google.com/assets/colab-badge.svg\" alt=\"Open In Colab\"/></a>"
      ]
    },
    {
      "cell_type": "markdown",
      "metadata": {
        "id": "R385TsVyrHn1"
      },
      "source": [
        "## Homework 2"
      ]
    },
    {
      "cell_type": "markdown",
      "metadata": {
        "id": "35EAUDcFrHn2"
      },
      "source": [
        "Probabilistic Machine Learning -- Spring 2025, UniTS"
      ]
    },
    {
      "cell_type": "code",
      "source": [
        "!pip install numpy pandas scipy pyro-ppl"
      ],
      "metadata": {
        "colab": {
          "base_uri": "https://localhost:8080/"
        },
        "collapsed": true,
        "id": "JQDU9J_BsFEF",
        "outputId": "03a0829c-dfc9-4337-e92d-811c9c6f28b1"
      },
      "execution_count": 18,
      "outputs": [
        {
          "output_type": "stream",
          "name": "stdout",
          "text": [
            "Requirement already satisfied: numpy in /usr/local/lib/python3.11/dist-packages (2.0.2)\n",
            "Requirement already satisfied: pandas in /usr/local/lib/python3.11/dist-packages (2.2.2)\n",
            "Requirement already satisfied: scipy in /usr/local/lib/python3.11/dist-packages (1.15.2)\n",
            "Collecting pyro-ppl\n",
            "  Downloading pyro_ppl-1.9.1-py3-none-any.whl.metadata (7.8 kB)\n",
            "Requirement already satisfied: python-dateutil>=2.8.2 in /usr/local/lib/python3.11/dist-packages (from pandas) (2.9.0.post0)\n",
            "Requirement already satisfied: pytz>=2020.1 in /usr/local/lib/python3.11/dist-packages (from pandas) (2025.2)\n",
            "Requirement already satisfied: tzdata>=2022.7 in /usr/local/lib/python3.11/dist-packages (from pandas) (2025.2)\n",
            "Requirement already satisfied: opt-einsum>=2.3.2 in /usr/local/lib/python3.11/dist-packages (from pyro-ppl) (3.4.0)\n",
            "Collecting pyro-api>=0.1.1 (from pyro-ppl)\n",
            "  Downloading pyro_api-0.1.2-py3-none-any.whl.metadata (2.5 kB)\n",
            "Requirement already satisfied: torch>=2.0 in /usr/local/lib/python3.11/dist-packages (from pyro-ppl) (2.6.0+cu124)\n",
            "Requirement already satisfied: tqdm>=4.36 in /usr/local/lib/python3.11/dist-packages (from pyro-ppl) (4.67.1)\n",
            "Requirement already satisfied: six>=1.5 in /usr/local/lib/python3.11/dist-packages (from python-dateutil>=2.8.2->pandas) (1.17.0)\n",
            "Requirement already satisfied: filelock in /usr/local/lib/python3.11/dist-packages (from torch>=2.0->pyro-ppl) (3.18.0)\n",
            "Requirement already satisfied: typing-extensions>=4.10.0 in /usr/local/lib/python3.11/dist-packages (from torch>=2.0->pyro-ppl) (4.13.2)\n",
            "Requirement already satisfied: networkx in /usr/local/lib/python3.11/dist-packages (from torch>=2.0->pyro-ppl) (3.4.2)\n",
            "Requirement already satisfied: jinja2 in /usr/local/lib/python3.11/dist-packages (from torch>=2.0->pyro-ppl) (3.1.6)\n",
            "Requirement already satisfied: fsspec in /usr/local/lib/python3.11/dist-packages (from torch>=2.0->pyro-ppl) (2025.3.2)\n",
            "Collecting nvidia-cuda-nvrtc-cu12==12.4.127 (from torch>=2.0->pyro-ppl)\n",
            "  Downloading nvidia_cuda_nvrtc_cu12-12.4.127-py3-none-manylinux2014_x86_64.whl.metadata (1.5 kB)\n",
            "Collecting nvidia-cuda-runtime-cu12==12.4.127 (from torch>=2.0->pyro-ppl)\n",
            "  Downloading nvidia_cuda_runtime_cu12-12.4.127-py3-none-manylinux2014_x86_64.whl.metadata (1.5 kB)\n",
            "Collecting nvidia-cuda-cupti-cu12==12.4.127 (from torch>=2.0->pyro-ppl)\n",
            "  Downloading nvidia_cuda_cupti_cu12-12.4.127-py3-none-manylinux2014_x86_64.whl.metadata (1.6 kB)\n",
            "Collecting nvidia-cudnn-cu12==9.1.0.70 (from torch>=2.0->pyro-ppl)\n",
            "  Downloading nvidia_cudnn_cu12-9.1.0.70-py3-none-manylinux2014_x86_64.whl.metadata (1.6 kB)\n",
            "Collecting nvidia-cublas-cu12==12.4.5.8 (from torch>=2.0->pyro-ppl)\n",
            "  Downloading nvidia_cublas_cu12-12.4.5.8-py3-none-manylinux2014_x86_64.whl.metadata (1.5 kB)\n",
            "Collecting nvidia-cufft-cu12==11.2.1.3 (from torch>=2.0->pyro-ppl)\n",
            "  Downloading nvidia_cufft_cu12-11.2.1.3-py3-none-manylinux2014_x86_64.whl.metadata (1.5 kB)\n",
            "Collecting nvidia-curand-cu12==10.3.5.147 (from torch>=2.0->pyro-ppl)\n",
            "  Downloading nvidia_curand_cu12-10.3.5.147-py3-none-manylinux2014_x86_64.whl.metadata (1.5 kB)\n",
            "Collecting nvidia-cusolver-cu12==11.6.1.9 (from torch>=2.0->pyro-ppl)\n",
            "  Downloading nvidia_cusolver_cu12-11.6.1.9-py3-none-manylinux2014_x86_64.whl.metadata (1.6 kB)\n",
            "Collecting nvidia-cusparse-cu12==12.3.1.170 (from torch>=2.0->pyro-ppl)\n",
            "  Downloading nvidia_cusparse_cu12-12.3.1.170-py3-none-manylinux2014_x86_64.whl.metadata (1.6 kB)\n",
            "Requirement already satisfied: nvidia-cusparselt-cu12==0.6.2 in /usr/local/lib/python3.11/dist-packages (from torch>=2.0->pyro-ppl) (0.6.2)\n",
            "Requirement already satisfied: nvidia-nccl-cu12==2.21.5 in /usr/local/lib/python3.11/dist-packages (from torch>=2.0->pyro-ppl) (2.21.5)\n",
            "Requirement already satisfied: nvidia-nvtx-cu12==12.4.127 in /usr/local/lib/python3.11/dist-packages (from torch>=2.0->pyro-ppl) (12.4.127)\n",
            "Collecting nvidia-nvjitlink-cu12==12.4.127 (from torch>=2.0->pyro-ppl)\n",
            "  Downloading nvidia_nvjitlink_cu12-12.4.127-py3-none-manylinux2014_x86_64.whl.metadata (1.5 kB)\n",
            "Requirement already satisfied: triton==3.2.0 in /usr/local/lib/python3.11/dist-packages (from torch>=2.0->pyro-ppl) (3.2.0)\n",
            "Requirement already satisfied: sympy==1.13.1 in /usr/local/lib/python3.11/dist-packages (from torch>=2.0->pyro-ppl) (1.13.1)\n",
            "Requirement already satisfied: mpmath<1.4,>=1.1.0 in /usr/local/lib/python3.11/dist-packages (from sympy==1.13.1->torch>=2.0->pyro-ppl) (1.3.0)\n",
            "Requirement already satisfied: MarkupSafe>=2.0 in /usr/local/lib/python3.11/dist-packages (from jinja2->torch>=2.0->pyro-ppl) (3.0.2)\n",
            "Downloading pyro_ppl-1.9.1-py3-none-any.whl (755 kB)\n",
            "\u001b[2K   \u001b[90m━━━━━━━━━━━━━━━━━━━━━━━━━━━━━━━━━━━━━━━━\u001b[0m \u001b[32m756.0/756.0 kB\u001b[0m \u001b[31m9.0 MB/s\u001b[0m eta \u001b[36m0:00:00\u001b[0m\n",
            "\u001b[?25hDownloading pyro_api-0.1.2-py3-none-any.whl (11 kB)\n",
            "Downloading nvidia_cublas_cu12-12.4.5.8-py3-none-manylinux2014_x86_64.whl (363.4 MB)\n",
            "\u001b[2K   \u001b[90m━━━━━━━━━━━━━━━━━━━━━━━━━━━━━━━━━━━━━━━━\u001b[0m \u001b[32m363.4/363.4 MB\u001b[0m \u001b[31m4.7 MB/s\u001b[0m eta \u001b[36m0:00:00\u001b[0m\n",
            "\u001b[?25hDownloading nvidia_cuda_cupti_cu12-12.4.127-py3-none-manylinux2014_x86_64.whl (13.8 MB)\n",
            "\u001b[2K   \u001b[90m━━━━━━━━━━━━━━━━━━━━━━━━━━━━━━━━━━━━━━━━\u001b[0m \u001b[32m13.8/13.8 MB\u001b[0m \u001b[31m95.0 MB/s\u001b[0m eta \u001b[36m0:00:00\u001b[0m\n",
            "\u001b[?25hDownloading nvidia_cuda_nvrtc_cu12-12.4.127-py3-none-manylinux2014_x86_64.whl (24.6 MB)\n",
            "\u001b[2K   \u001b[90m━━━━━━━━━━━━━━━━━━━━━━━━━━━━━━━━━━━━━━━━\u001b[0m \u001b[32m24.6/24.6 MB\u001b[0m \u001b[31m72.1 MB/s\u001b[0m eta \u001b[36m0:00:00\u001b[0m\n",
            "\u001b[?25hDownloading nvidia_cuda_runtime_cu12-12.4.127-py3-none-manylinux2014_x86_64.whl (883 kB)\n",
            "\u001b[2K   \u001b[90m━━━━━━━━━━━━━━━━━━━━━━━━━━━━━━━━━━━━━━━━\u001b[0m \u001b[32m883.7/883.7 kB\u001b[0m \u001b[31m40.6 MB/s\u001b[0m eta \u001b[36m0:00:00\u001b[0m\n",
            "\u001b[?25hDownloading nvidia_cudnn_cu12-9.1.0.70-py3-none-manylinux2014_x86_64.whl (664.8 MB)\n",
            "\u001b[2K   \u001b[90m━━━━━━━━━━━━━━━━━━━━━━━━━━━━━━━━━━━━━━━\u001b[0m \u001b[32m664.8/664.8 MB\u001b[0m \u001b[31m877.4 kB/s\u001b[0m eta \u001b[36m0:00:00\u001b[0m\n",
            "\u001b[?25hDownloading nvidia_cufft_cu12-11.2.1.3-py3-none-manylinux2014_x86_64.whl (211.5 MB)\n",
            "\u001b[2K   \u001b[90m━━━━━━━━━━━━━━━━━━━━━━━━━━━━━━━━━━━━━━━━\u001b[0m \u001b[32m211.5/211.5 MB\u001b[0m \u001b[31m1.9 MB/s\u001b[0m eta \u001b[36m0:00:00\u001b[0m\n",
            "\u001b[?25hDownloading nvidia_curand_cu12-10.3.5.147-py3-none-manylinux2014_x86_64.whl (56.3 MB)\n",
            "\u001b[2K   \u001b[90m━━━━━━━━━━━━━━━━━━━━━━━━━━━━━━━━━━━━━━━━\u001b[0m \u001b[32m56.3/56.3 MB\u001b[0m \u001b[31m11.4 MB/s\u001b[0m eta \u001b[36m0:00:00\u001b[0m\n",
            "\u001b[?25hDownloading nvidia_cusolver_cu12-11.6.1.9-py3-none-manylinux2014_x86_64.whl (127.9 MB)\n",
            "\u001b[2K   \u001b[90m━━━━━━━━━━━━━━━━━━━━━━━━━━━━━━━━━━━━━━━━\u001b[0m \u001b[32m127.9/127.9 MB\u001b[0m \u001b[31m8.7 MB/s\u001b[0m eta \u001b[36m0:00:00\u001b[0m\n",
            "\u001b[?25hDownloading nvidia_cusparse_cu12-12.3.1.170-py3-none-manylinux2014_x86_64.whl (207.5 MB)\n",
            "\u001b[2K   \u001b[90m━━━━━━━━━━━━━━━━━━━━━━━━━━━━━━━━━━━━━━━━\u001b[0m \u001b[32m207.5/207.5 MB\u001b[0m \u001b[31m6.4 MB/s\u001b[0m eta \u001b[36m0:00:00\u001b[0m\n",
            "\u001b[?25hDownloading nvidia_nvjitlink_cu12-12.4.127-py3-none-manylinux2014_x86_64.whl (21.1 MB)\n",
            "\u001b[2K   \u001b[90m━━━━━━━━━━━━━━━━━━━━━━━━━━━━━━━━━━━━━━━━\u001b[0m \u001b[32m21.1/21.1 MB\u001b[0m \u001b[31m89.1 MB/s\u001b[0m eta \u001b[36m0:00:00\u001b[0m\n",
            "\u001b[?25hInstalling collected packages: pyro-api, nvidia-nvjitlink-cu12, nvidia-curand-cu12, nvidia-cufft-cu12, nvidia-cuda-runtime-cu12, nvidia-cuda-nvrtc-cu12, nvidia-cuda-cupti-cu12, nvidia-cublas-cu12, nvidia-cusparse-cu12, nvidia-cudnn-cu12, nvidia-cusolver-cu12, pyro-ppl\n",
            "  Attempting uninstall: nvidia-nvjitlink-cu12\n",
            "    Found existing installation: nvidia-nvjitlink-cu12 12.5.82\n",
            "    Uninstalling nvidia-nvjitlink-cu12-12.5.82:\n",
            "      Successfully uninstalled nvidia-nvjitlink-cu12-12.5.82\n",
            "  Attempting uninstall: nvidia-curand-cu12\n",
            "    Found existing installation: nvidia-curand-cu12 10.3.6.82\n",
            "    Uninstalling nvidia-curand-cu12-10.3.6.82:\n",
            "      Successfully uninstalled nvidia-curand-cu12-10.3.6.82\n",
            "  Attempting uninstall: nvidia-cufft-cu12\n",
            "    Found existing installation: nvidia-cufft-cu12 11.2.3.61\n",
            "    Uninstalling nvidia-cufft-cu12-11.2.3.61:\n",
            "      Successfully uninstalled nvidia-cufft-cu12-11.2.3.61\n",
            "  Attempting uninstall: nvidia-cuda-runtime-cu12\n",
            "    Found existing installation: nvidia-cuda-runtime-cu12 12.5.82\n",
            "    Uninstalling nvidia-cuda-runtime-cu12-12.5.82:\n",
            "      Successfully uninstalled nvidia-cuda-runtime-cu12-12.5.82\n",
            "  Attempting uninstall: nvidia-cuda-nvrtc-cu12\n",
            "    Found existing installation: nvidia-cuda-nvrtc-cu12 12.5.82\n",
            "    Uninstalling nvidia-cuda-nvrtc-cu12-12.5.82:\n",
            "      Successfully uninstalled nvidia-cuda-nvrtc-cu12-12.5.82\n",
            "  Attempting uninstall: nvidia-cuda-cupti-cu12\n",
            "    Found existing installation: nvidia-cuda-cupti-cu12 12.5.82\n",
            "    Uninstalling nvidia-cuda-cupti-cu12-12.5.82:\n",
            "      Successfully uninstalled nvidia-cuda-cupti-cu12-12.5.82\n",
            "  Attempting uninstall: nvidia-cublas-cu12\n",
            "    Found existing installation: nvidia-cublas-cu12 12.5.3.2\n",
            "    Uninstalling nvidia-cublas-cu12-12.5.3.2:\n",
            "      Successfully uninstalled nvidia-cublas-cu12-12.5.3.2\n",
            "  Attempting uninstall: nvidia-cusparse-cu12\n",
            "    Found existing installation: nvidia-cusparse-cu12 12.5.1.3\n",
            "    Uninstalling nvidia-cusparse-cu12-12.5.1.3:\n",
            "      Successfully uninstalled nvidia-cusparse-cu12-12.5.1.3\n",
            "  Attempting uninstall: nvidia-cudnn-cu12\n",
            "    Found existing installation: nvidia-cudnn-cu12 9.3.0.75\n",
            "    Uninstalling nvidia-cudnn-cu12-9.3.0.75:\n",
            "      Successfully uninstalled nvidia-cudnn-cu12-9.3.0.75\n",
            "  Attempting uninstall: nvidia-cusolver-cu12\n",
            "    Found existing installation: nvidia-cusolver-cu12 11.6.3.83\n",
            "    Uninstalling nvidia-cusolver-cu12-11.6.3.83:\n",
            "      Successfully uninstalled nvidia-cusolver-cu12-11.6.3.83\n",
            "Successfully installed nvidia-cublas-cu12-12.4.5.8 nvidia-cuda-cupti-cu12-12.4.127 nvidia-cuda-nvrtc-cu12-12.4.127 nvidia-cuda-runtime-cu12-12.4.127 nvidia-cudnn-cu12-9.1.0.70 nvidia-cufft-cu12-11.2.1.3 nvidia-curand-cu12-10.3.5.147 nvidia-cusolver-cu12-11.6.1.9 nvidia-cusparse-cu12-12.3.1.170 nvidia-nvjitlink-cu12-12.4.127 pyro-api-0.1.2 pyro-ppl-1.9.1\n"
          ]
        }
      ]
    },
    {
      "cell_type": "markdown",
      "metadata": {
        "id": "rb2sT8wFrHn2"
      },
      "source": [
        "### Problem 1: Marginal Likelihood Optimisation\n",
        "\n",
        "Given the Bayesian Linear Regression model implemented in the Notebook 6, considering the same dataset and variables (Apparent Temperature vs Humidity), optimize alpha and beta by maximizing the Marginal Likelihood.\n",
        "\n",
        "Note: You can show here only the piece of code that you used and write the optimal alpha and beta that you obtained (so you can run it in directly on Notebook 6)\n",
        "\n",
        "Hint: import scipy.optimize as optimize"
      ]
    },
    {
      "cell_type": "markdown",
      "source": [
        "####**Solution:**\n",
        "$$\n",
        "p(\\mathbf{y} \\mid \\mathbf{X}, \\alpha, \\beta)\n",
        "$$\n",
        "\n",
        "This function is derived in **Notebook 6**, and has the following **log marginal likelihood** form:\n",
        "\n",
        "$$\n",
        "\\log p(\\mathbf{y} \\mid \\mathbf{X}, \\alpha, \\beta) =\n",
        "\\frac{M}{2} \\log \\alpha +\n",
        "\\frac{N}{2} \\log \\beta -\n",
        "\\frac{1}{2} \\log |\\mathbf{S}_N| -\n",
        "\\frac{\\beta}{2} \\| \\mathbf{y} - \\mathbf{X} \\mathbf{m}_N \\|^2 -\n",
        "\\frac{\\alpha}{2} \\| \\mathbf{m}_N \\|^2 -\n",
        "\\frac{N}{2} \\log (2\\pi)\n",
        "$$\n",
        "\n",
        "Where:\n",
        "\n",
        "- $\\mathbf{S}_N = \\alpha \\mathbf{I} + \\beta \\mathbf{X}^\\top \\mathbf{X}$\n",
        "- $\\mathbf{m}_N = \\beta \\mathbf{S}_N^{-1} \\mathbf{X}^\\top \\mathbf{y}$\n"
      ],
      "metadata": {
        "id": "Ic8iaWRFuVAs"
      }
    },
    {
      "cell_type": "code",
      "execution_count": null,
      "metadata": {
        "colab": {
          "base_uri": "https://localhost:8080/"
        },
        "id": "sNvuBsCyrHn3",
        "outputId": "a6ec1820-f7c4-4872-dbb8-be8af4370928"
      },
      "outputs": [
        {
          "output_type": "stream",
          "name": "stdout",
          "text": [
            "Optimal alpha: 0.0009\n",
            "Optimal beta: 0.0128\n"
          ]
        }
      ],
      "source": [
        "import numpy as np\n",
        "import pandas as pd\n",
        "from scipy.optimize import minimize\n",
        "\n",
        "# Load dataset\n",
        "df = pd.read_csv(\"https://raw.githubusercontent.com/DavideScassola/PML2024/main/Notebooks/data/weatherHistory.csv\")\n",
        "df = df.sample(n=1000, random_state=42)  # Match Notebook 6\n",
        "\n",
        "# Feature: Humidity, Target: Apparent Temperature\n",
        "X_raw = df[\"Humidity\"].values.reshape(-1, 1)\n",
        "y = df[\"Apparent Temperature (C)\"].values\n",
        "\n",
        "# Design matrix with bias term\n",
        "X = np.hstack([np.ones_like(X_raw), X_raw])\n",
        "\n",
        "# Log marginal likelihood function\n",
        "def negative_log_marginal_likelihood(log_params, X, y):\n",
        "    log_alpha, log_beta = log_params\n",
        "    alpha = np.exp(log_alpha)\n",
        "    beta = np.exp(log_beta)\n",
        "\n",
        "    N, M = X.shape\n",
        "    S_N_inv = alpha * np.eye(M) + beta * X.T @ X\n",
        "    S_N = np.linalg.inv(S_N_inv)\n",
        "    m_N = beta * S_N @ X.T @ y\n",
        "\n",
        "    term1 = M * np.log(alpha)\n",
        "    term2 = N * np.log(beta)\n",
        "    sign, logdet = np.linalg.slogdet(S_N)\n",
        "    term3 = logdet\n",
        "    term4 = beta * np.sum((y - X @ m_N) ** 2)\n",
        "    term5 = alpha * np.sum(m_N ** 2)\n",
        "\n",
        "    log_ml = 0.5 * (term1 + term2 - term3 - term4 - term5 - N * np.log(2 * np.pi))\n",
        "    return -log_ml\n",
        "\n",
        "# Optimize log(alpha), log(beta)\n",
        "initial_guess = [0.0, 0.0]\n",
        "bounds = [(-10, 10), (-10, 10)]\n",
        "res = minimize(negative_log_marginal_likelihood, initial_guess, args=(X, y),\n",
        "               method='L-BFGS-B', bounds=bounds)\n",
        "\n",
        "# Extract results\n",
        "log_alpha_opt, log_beta_opt = res.x\n",
        "alpha_opt = np.exp(log_alpha_opt)\n",
        "beta_opt = np.exp(log_beta_opt)\n",
        "\n",
        "print(f\"Optimal alpha: {alpha_opt:.4f}\")\n",
        "print(f\"Optimal beta: {beta_opt:.4f}\")"
      ]
    },
    {
      "cell_type": "markdown",
      "metadata": {
        "id": "9Hhj8d52rHn3"
      },
      "source": [
        "### Problem 2: Rejection Sampling\n",
        "\n",
        "Consider the unnormalized probability density function:\n",
        "\n",
        "$$\n",
        "\\tilde{p}(x) = \\exp\\left(-\\frac{x^4}{4} - \\frac{x^2}{2}\\right)\n",
        "$$\n",
        "\n",
        "This density is defined for $x \\in \\mathbb{R}$, but it is not normalized. Let $Z$ be its normalization constant:\n",
        "\n",
        "$$\n",
        "Z = \\int_{-\\infty}^{\\infty} \\tilde{p}(x)\\, dx\n",
        "$$\n",
        "\n",
        "You are given access to a proposal distribution $q(x) = \\mathcal{N}(0, 1)$ from which you can sample and evaluate its density.\n",
        "\n",
        "-  Implement and then use rejection sampling with $q(x)$ to generate samples from the normalized target distribution $p(x) = \\frac{1}{Z} \\tilde{p}(x)$.\n",
        "    \n",
        "- Estimate the normalization constant $Z$ (hint: see your course notes!)\n",
        "\n",
        "- Compare your result with a numerical approximation of $Z$ using integration methods (e.g., scipy.integrate.quad).\n"
      ]
    },
    {
      "cell_type": "markdown",
      "source": [
        "####**Solution:**\n",
        "\n",
        "$$ p(x) = \\frac{1}{Z} \\tilde{p}(x), \\quad \\tilde{p}(x) = \\exp\\left(-\\frac{x^4}{4} - \\frac{x^2}{2}\\right), \\quad x \\in \\mathbb{R} $$\n",
        "\n",
        "where $ Z = \\int_{-\\infty}^{\\infty} \\tilde{p}(x) \\, dx $ is the normalization constant. We use a proposal distribution:\n",
        "\n",
        "$$ q(x) = \\mathcal{N}(0, 1) = \\frac{1}{\\sqrt{2\\pi}} \\exp\\left(-\\frac{x^2}{2}\\right) $$\n",
        "\n",
        " Estimate $ Z $ using the acceptance rate from rejection sampling and compare it with a numerical approximation via `scipy.integrate.quad`. The algorithm accepts samples with probability:\n",
        "\n",
        "$$ P(\\text{accept}) = \\frac{\\tilde{p}(x)}{M q(x)}, \\quad \\text{where} \\quad \\tilde{p}(x) \\leq M q(x) $$\n",
        "\n",
        "The code below implements efficient sampling, estimates $ Z = M \\cdot P(\\text{accept}) $, and visualizes the sampled distribution against the true $ p(x) $.\n"
      ],
      "metadata": {
        "id": "SP3r16b1w5Xb"
      }
    },
    {
      "cell_type": "code",
      "execution_count": null,
      "metadata": {
        "colab": {
          "base_uri": "https://localhost:8080/",
          "height": 527
        },
        "id": "rj0pwjlUrHn4",
        "outputId": "cdae04cf-4656-42a3-f5ae-e933661ce5aa"
      },
      "outputs": [
        {
          "output_type": "stream",
          "name": "stdout",
          "text": [
            "Estimated Z: 1.9349\n",
            "Acceptance rate: 0.6450\n",
            "Numerical Z: 1.9352\n"
          ]
        },
        {
          "output_type": "display_data",
          "data": {
            "text/plain": [
              "<Figure size 640x480 with 1 Axes>"
            ],
            "image/png": "[encoded data removed]"
          },
          "metadata": {}
        }
      ],
      "source": [
        "import numpy as np\n",
        "from scipy.integrate import quad\n",
        "import matplotlib.pyplot as plt\n",
        "\n",
        "# Unnormalized target density\n",
        "def tilde_p(x):\n",
        "    return np.exp(-x**4 / 4 - x**2 / 2)\n",
        "\n",
        "# Proposal density\n",
        "def q(x):\n",
        "    return (1 / np.sqrt(2 * np.pi)) * np.exp(-x**2 / 2)\n",
        "\n",
        "# Rejection sampling\n",
        "def rejection_sampling_with_acceptance(n_samples, M=3.0):\n",
        "    samples = []\n",
        "    total_trials = 0\n",
        "    while len(samples) < n_samples:\n",
        "        x = np.random.normal(0, 1)\n",
        "        u = np.random.uniform(0, 1)\n",
        "        total_trials += 1\n",
        "        acceptance_ratio = tilde_p(x) / (M * q(x))\n",
        "        if u <= acceptance_ratio:\n",
        "            samples.append(x)\n",
        "    acceptance_rate = n_samples / total_trials\n",
        "    return np.array(samples), acceptance_rate\n",
        "\n",
        "# Run\n",
        "n_samples = 10000\n",
        "M = 3.0\n",
        "samples, acceptance_rate = rejection_sampling_with_acceptance(n_samples, M)\n",
        "Z_estimated = M * acceptance_rate\n",
        "print(f\"Estimated Z: {Z_estimated:.4f}\")\n",
        "print(f\"Acceptance rate: {acceptance_rate:.4f}\")\n",
        "\n",
        "# Numerical Z\n",
        "def integrand(x):\n",
        "    return np.exp(-x**4 / 4 - x**2 / 2)\n",
        "Z_numerical, _ = quad(integrand, -10, 10)\n",
        "print(f\"Numerical Z: {Z_numerical:.4f}\")\n",
        "\n",
        "# Plot\n",
        "plt.hist(samples, bins=50, density=True, alpha=0.7, label='Samples')\n",
        "x = np.linspace(-3, 3, 1000)\n",
        "plt.plot(x, tilde_p(x) / Z_numerical, 'r-', label='p(x)')\n",
        "plt.legend()\n",
        "plt.title('Rejection Sampling Results')\n",
        "plt.xlabel('x')\n",
        "plt.ylabel('Density')\n",
        "plt.show()"
      ]
    },
    {
      "cell_type": "markdown",
      "metadata": {
        "id": "Q_1GmpfNrHn5"
      },
      "source": [
        "### Problem 3: MCMC Convergence Diagnostics\n",
        "\n",
        "You have implemented a Metropolis-Hastings algorithm and used it to draw samples from a univariate target distribution. In this exercise, you will compute convergence diagnostics from scratch to assess whether your chains have mixed well.\n",
        "\n",
        "Consider 4 parallel chains, each of length $N$ (after burn-in), starting from different initial values (use\n",
        "initial_values = [-10, -2, 2, 10]). The unnormalized probability density function $\\tilde{p}(x)$ is defined as a mixture of two Gaussian distributions:\n",
        "\n",
        "$$\n",
        "\\tilde{p}(x) = \\mathcal{N}(x; -5, 1) + \\mathcal{N}(x; 5, 1)\n",
        "$$\n",
        "\n",
        "Perform the following steps two times, considering a proposal standard deviation of 0.1 and 2.0:\n",
        "\n",
        "- Compute the within variance $W$ and the between variance $B$\n",
        "- Compute the statistics $\\hat{R}$\n",
        "- For a single chain of samples $x_1, x_2, \\dots, x_N$, compute the lag-$k$ autocorrelation $\\rho_k$ and plot $\\rho_k$ for $k = 1, 2, \\dots, 20$\n",
        "- Estimate the effective number of samples $n_{eff}$\n",
        "\n",
        "Repeat the analysis with the distribution:\n",
        "\n",
        "$$\n",
        "\\tilde{p}(x) = \\mathcal{N}(x; -2, 1) + \\mathcal{N}(x; 2, 1)\n",
        "$$\n",
        "\n",
        "Discuss the results\n",
        "\n"
      ]
    },
    {
      "cell_type": "code",
      "execution_count": null,
      "metadata": {
        "colab": {
          "base_uri": "https://localhost:8080/",
          "height": 1000
        },
        "id": "h_IoVVqfrHn5",
        "outputId": "51bba1a0-9a40-4783-cfb0-6e213fcf5a87"
      },
      "outputs": [
        {
          "output_type": "stream",
          "name": "stdout",
          "text": [
            "\n",
            "Target: Modes at -5 and 5\n",
            "Sigma 0.1: W=0.9572, B=323911.0313, R_hat=5.9022\n",
            "Effective samples: 246\n",
            "Sigma 2.0: W=18.9562, B=89830.1722, R_hat=1.2140\n",
            "Effective samples: 231\n"
          ]
        },
        {
          "output_type": "display_data",
          "data": {
            "text/plain": [
              "<Figure size 640x480 with 1 Axes>"
            ],
            "image/png": "[encoded data removed]"
          },
          "metadata": {}
        },
        {
          "output_type": "stream",
          "name": "stdout",
          "text": [
            "\n",
            "Target: Modes at -2 and 2\n",
            "Sigma 0.1: W=3.6500, B=20353.1374, R_hat=1.2480\n",
            "Effective samples: 221\n",
            "Sigma 2.0: W=4.9859, B=47.5550, R_hat=1.0004\n",
            "Effective samples: 4240\n"
          ]
        },
        {
          "output_type": "display_data",
          "data": {
            "text/plain": [
              "<Figure size 640x480 with 1 Axes>"
            ],
            "image/png": "[encoded data removed]"
          },
          "metadata": {}
        }
      ],
      "source": [
        "import numpy as np\n",
        "import matplotlib.pyplot as plt\n",
        "from scipy.stats import norm\n",
        "\n",
        "# Target distributions (unnormalized)\n",
        "def tilde_p1(x):\n",
        "    return norm.pdf(x, -5, 1) + norm.pdf(x, 5, 1)\n",
        "\n",
        "def tilde_p2(x):\n",
        "    return norm.pdf(x, -2, 1) + norm.pdf(x, 2, 1)\n",
        "\n",
        "# Metropolis-Hastings\n",
        "def metropolis_hastings(tilde_p, sigma, n_samples, initial):\n",
        "    x = initial\n",
        "    samples = [x]\n",
        "    for _ in range(n_samples):\n",
        "        x_prime = np.random.normal(x, sigma)\n",
        "        alpha = min(1, tilde_p(x_prime) / tilde_p(x))\n",
        "        if np.random.uniform(0, 1) < alpha:\n",
        "            x = x_prime\n",
        "        samples.append(x)\n",
        "    return np.array(samples)\n",
        "\n",
        "# Run chains\n",
        "def run_chains(tilde_p, sigma, n_samples, initials):\n",
        "    return np.array([metropolis_hastings(tilde_p, sigma, n_samples, init)[burn_in:] for init in initials])\n",
        "\n",
        "# Compute W, B, R_hat\n",
        "def compute_R_hat(chains):\n",
        "    J, N = chains.shape\n",
        "    chain_means = np.mean(chains, axis=1)\n",
        "    overall_mean = np.mean(chain_means)\n",
        "    B = N / (J - 1) * np.sum((chain_means - overall_mean)**2)\n",
        "    W = np.mean(np.var(chains, axis=1))\n",
        "    var_hat = (N - 1) / N * W + B / N\n",
        "    return W, B, np.sqrt(var_hat / W)\n",
        "\n",
        "# Autocorrelation\n",
        "def autocorrelation(chain, max_lag):\n",
        "    chain = chain - np.mean(chain)\n",
        "    var = np.var(chain)\n",
        "    acf = [np.mean(chain[k:] * chain[:-k]) / var for k in range(1, max_lag + 1)]\n",
        "    return np.array(acf)\n",
        "\n",
        "# Effective sample size\n",
        "def effective_sample_size(chains, max_lag=100):\n",
        "    acf = np.mean([autocorrelation(chain, max_lag) for chain in chains], axis=0)\n",
        "    k_max = np.argmax(acf < 0.1) if np.any(acf < 0.1) else max_lag\n",
        "    rho_sum = np.sum(acf[:k_max])\n",
        "    return chains.size / (1 + 2 * rho_sum)\n",
        "\n",
        "# Parameters\n",
        "n_samples = 11000\n",
        "burn_in = 1000\n",
        "n_keep = n_samples - burn_in\n",
        "initials = [-10, -2, 2, 10]\n",
        "sigmas = [0.1, 2.0]\n",
        "targets = [tilde_p1, tilde_p2]\n",
        "names = [\"Modes at -5 and 5\", \"Modes at -2 and 2\"]\n",
        "\n",
        "# Analysis\n",
        "for target, name in zip(targets, names):\n",
        "    print(f\"\\nTarget: {name}\")\n",
        "    plt.figure()\n",
        "    for sigma in sigmas:\n",
        "        chains = run_chains(target, sigma, n_samples, initials)\n",
        "        W, B, R_hat = compute_R_hat(chains)\n",
        "        print(f\"Sigma {sigma}: W={W:.4f}, B={B:.4f}, R_hat={R_hat:.4f}\")\n",
        "        acf = autocorrelation(chains[0], 20)\n",
        "        plt.plot(range(1, 21), acf, label=f\"sigma={sigma}\")\n",
        "        n_eff = effective_sample_size(chains)\n",
        "        print(f\"Effective samples: {n_eff:.0f}\")\n",
        "    plt.title(f\"Autocorrelation for {name}\")\n",
        "    plt.xlabel(\"Lag k\")\n",
        "    plt.ylabel(\"Autocorrelation\")\n",
        "    plt.legend()\n",
        "    plt.show()"
      ]
    },
    {
      "cell_type": "markdown",
      "metadata": {
        "id": "NcRmNmIXrHn6"
      },
      "source": [
        "### Problem 4: ADSAI football matches\n",
        "Over the years, the PhD students of ADSAI have kept track of the results of their evening five-a-side football matches. Since it’s difficult to always organize teams with the same players, the teams were formed on a rotating basis, each time with different players.  \n",
        "The names of our champions have been anonymized using numbers from 1 to 62.  \n",
        "In the dataset located at `data/ADSAI_football.csv` in the GitHub repository, you will find the following columns:\n",
        "- **Team A**: IDs of the players who played in Team A in that match;  \n",
        "- **Team B**: same as above, for Team B;  \n",
        "- **Goal A**: total goals scored by Team A in that match;  \n",
        "- **Goal B**: same as above, for Team B.\n"
      ]
    },
    {
      "cell_type": "markdown",
      "metadata": {
        "id": "FzfQU74XrHn7"
      },
      "source": [
        "\n",
        "Your goal is to model **the skill of each player** based on information about the team they belonged to and the overall result achieved by that team.\n"
      ]
    },
    {
      "cell_type": "markdown",
      "metadata": {
        "id": "ZkfCNOlUrHn7"
      },
      "source": [
        "\n",
        "The model to implement consists in the following structure:\n",
        "- $ \\theta = (\\theta_1, \\theta_2, \\dots, \\theta_{62}) \\in \\mathbb{R} $: players' skills.\n",
        "- $M=54$: number of matches.\n",
        "- For each match $ i = 1, \\dots, M=54$:\n",
        "  - $ A_i \\subset \\{1, \\dots, N=62\\} $: set of players IDs of team A in match $ i $.\n",
        "  - $ B_i \\subset \\{1, \\dots, N=62\\} $: set of players IDs of team B in match $ i $.\n",
        "  - $ y_i \\in \\mathbb{Z} $: observed outcome, i.e. goal difference between the two teams, defined as $ (\\text{goal}_A - \\text{goal}_B) $ in match $ i $.\n",
        "\n",
        "*(in this exercise, you are asked to follow the proposal of Karlis and Ntzoufras approach, that focuses on the goal difference in place of the individual goal counts of each team!)*\n"
      ]
    },
    {
      "cell_type": "markdown",
      "metadata": {
        "id": "BtPX_JAbrHn7"
      },
      "source": [
        "\n",
        "The model is defined as follows:\n",
        "\n",
        "- The \"strength\" of Team A, defined as the sum of the individual players' skills $\\theta_j$ composing the team in match $i = 1, \\dots, M=54$:  \n",
        "  $$\n",
        "  s_A^{(i)} = \\sum_{j \\in A_i} \\theta_j\n",
        "  $$\n",
        "\n",
        "- The \"strength\" of Team B, defined similarly as the sum of the individual players' skills $\\theta_j$ composing the team in match $i = 1, \\dots, M=54$:  \n",
        "  $$\n",
        "  s_B^{(i)} = \\sum_{j \\in B_i} \\theta_j\n",
        "  $$\n",
        "\n",
        "Specifically, the observed goal difference in match $i$ is modeled using a Skellam distribution:  \n",
        "$$\n",
        "y_i \\sim \\text{Skellam}(\\lambda_A^{(i)}, \\lambda_B^{(i)}), \\quad \\text{where} \\quad \\lambda_A^{(i)} = \\exp(s_A^{(i)}), \\quad \\lambda_B^{(i)} = \\exp(s_B^{(i)})\n",
        "$$\n",
        "\n",
        "The **Skellam distribution** models the difference between two independent random variables:  \n",
        "$$\n",
        "\\text{Skellam}(\\lambda_A, \\lambda_B) = \\text{Poisson}(\\lambda_A) - \\text{Poisson}(\\lambda_B)\n",
        "$$\n",
        "It is formally defined as:  \n",
        "$$\n",
        "\\text{Skellam}(k; \\lambda_A, \\lambda_B) = e^{-(\\lambda_A + \\lambda_B)} \\left( \\frac{\\lambda_A}{\\lambda_B} \\right)^{k/2} I_{|k|}(2 \\sqrt{\\lambda_A \\lambda_B})\n",
        "$$\n",
        "\n",
        "for each $ k \\in \\mathbb{Z} $, and $ I_k $ is the modified Bessel function of the first kind of order $ k $.\n",
        "\n",
        "$$\n",
        "I_k(z) = \\sum_{m=0}^\\infty \\frac{1}{m! \\, \\Gamma(m + k + 1)} \\left( \\frac{z}{2} \\right)^{2m + k}\n",
        "$$\n",
        "\n",
        "where $\\Gamma$ is the Gamma function.\n"
      ]
    },
    {
      "cell_type": "code",
      "execution_count": 7,
      "metadata": {
        "id": "qPvLTEojrHn8"
      },
      "outputs": [],
      "source": [
        "#import only relevant quantities as follows:\n",
        "\n",
        "import pandas as pd\n",
        "import ast\n",
        "import torch\n",
        "\n",
        "def preprocessing_dataset(dataset_path='ADSAI_football.csv'):\n",
        "    football = pd.read_csv(dataset_path)\n",
        "    football['Team A'] = football['Team A'].apply(ast.literal_eval)\n",
        "    football['Team B'] = football['Team B'].apply(ast.literal_eval)\n",
        "\n",
        "    max_player_id = max(\n",
        "    max(p for team in football['Team A'] for p in team),\n",
        "    max(p for team in football['Team B'] for p in team)\n",
        "    )\n",
        "\n",
        "    goal_diff = torch.tensor((football['Goal A'] - football['Goal B']).values, dtype=torch.int)\n",
        "\n",
        "    teams_A = [torch.tensor(team) for team in football['Team A']]\n",
        "    teams_B = [torch.tensor(team) for team in football['Team B']]\n",
        "\n",
        "    return teams_A, teams_B, goal_diff, max_player_id\n",
        "\n",
        "\n",
        "teams_A, teams_B, goal_diff, max_player_id = preprocessing_dataset()"
      ]
    },
    {
      "cell_type": "markdown",
      "metadata": {
        "id": "9fMNxNi_rHn8"
      },
      "source": [
        "\n",
        "You are asked to:\n",
        "1. Find the MAP estimate for $ \\theta = (\\theta_1, \\theta_2, \\dots, \\theta_{62})$ choosing as `log_prior` function a (log-)Standard Normal distribution and as `log_likelihood` function the (log-)Skellam. Perform optimization using Gradient Descent. Use the MAP estimate to implement a Laplace approximation of the posterior, as done during the lab (reuse the function `compute_hessian(f, w)` of Notebook 6).\n",
        "\n",
        "**Important Hint:** The Skellam log-likelihood involves the modified Bessel function $I_k(z)$, which is non-differentiable in PyTorch if evaluated via scipy. To preserve differentiability, replace $\\log I_k(z)$ with a smooth approximation, such as an asymptotic expansion, to allow gradient-based optimization.\n",
        "\n",
        "2. **(Useful for the next point, not strictly necessary for the previous one):** Implement your `Skellam` distribution, inheriting from `torch.distributions.Distribution`;\n",
        "3. Write the Pyro model corresponding to the problem depicted above assuming (again) the `theta` values being distributed initially as a Standard Normal;\n",
        "4. Perform inference on $ \\theta = (\\theta_1, \\theta_2, \\dots, \\theta_{62})$ values running a MCMC simulation using the `NUTS` kernel;\n",
        "5. Compare the `theta` values obtained by these two options using the `performances_evaluation` function given in this notebook.\n"
      ]
    },
    {
      "cell_type": "code",
      "execution_count": 12,
      "metadata": {
        "id": "5ubsDkytrHn8"
      },
      "outputs": [],
      "source": [
        "import numpy as np\n",
        "def log_likelihood(teams_A, teams_B, goal_diff, theta):\n",
        "    log_prob = 0.0\n",
        "    for i in range(len(goal_diff)):\n",
        "        sA = theta[teams_A[i]].sum()\n",
        "        sB = theta[teams_B[i]].sum()\n",
        "        lambdaA = torch.exp(sA)\n",
        "        lambdaB = torch.exp(sB)\n",
        "\n",
        "        # Skellam log probability approximation\n",
        "        k = goal_diff[i]\n",
        "        term1 = -(lambdaA + lambdaB)\n",
        "        term2 = (k/2) * (torch.log(lambdaA) - torch.log(lambdaB))\n",
        "        # Approximation for Bessel function log\n",
        "        z = 2 * torch.sqrt(lambdaA * lambdaB)\n",
        "        term3 = z - 0.5 * torch.log(2 * torch.pi * z)\n",
        "        log_prob += term1 + term2 + term3\n",
        "    return log_prob\n",
        "\n",
        "def log_prior(theta):\n",
        "    return -0.5 * torch.sum(theta**2)  # Standard normal prior\n",
        "\n",
        "def loss_function(theta):\n",
        "    return -(log_likelihood(teams_A, teams_B, goal_diff, theta) + log_prior(theta))\n",
        "\n",
        "def gradient_descent_optimization(loss_function, lr=0.01, n_iter=1000, initial_guess=None):\n",
        "    if initial_guess is None:\n",
        "        theta = torch.zeros(max_player_id + 1, requires_grad=True)\n",
        "    else:\n",
        "        theta = initial_guess.clone().requires_grad_()\n",
        "\n",
        "    optimizer = torch.optim.Adam([theta], lr=lr)\n",
        "\n",
        "    for _ in range(n_iter):\n",
        "        optimizer.zero_grad()\n",
        "        loss = loss_function(theta)\n",
        "        loss.backward()\n",
        "        optimizer.step()\n",
        "\n",
        "    return theta.detach()\n",
        "\n",
        "def compute_hessian(f, w):\n",
        "    w.requires_grad_(True)\n",
        "    hessian = torch.zeros((len(w), len(w)))\n",
        "\n",
        "    # First derivatives\n",
        "    grad = torch.autograd.grad(f(w).sum(), w, create_graph=True)[0]\n",
        "\n",
        "    # Second derivatives\n",
        "    for i in range(len(w)):\n",
        "        grad2 = torch.autograd.grad(grad[i], w, retain_graph=True)[0]\n",
        "        hessian[i] = grad2\n",
        "\n",
        "    return hessian.numpy()\n",
        "\n",
        "# Initial guess\n",
        "initial_theta = torch.zeros(max_player_id + 1)\n",
        "# Optimize\n",
        "theta_MAP = gradient_descent_optimization(loss_function, initial_guess=initial_theta)\n",
        "\n",
        "# Compute Hessian at MAP\n",
        "def f(w):\n",
        "    return -(log_likelihood(teams_A, teams_B, goal_diff, w) + log_prior(w))\n",
        "\n",
        "posterior_cov = np.linalg.inv(compute_hessian(f, theta_MAP))"
      ]
    },
    {
      "cell_type": "code",
      "source": [
        "import numpy as np\n",
        "import torch\n",
        "\n",
        "def diagnostic_check(theta_MAP, posterior_cov):\n",
        "    \"\"\"Diagnose potential issues in theta_MAP and posterior_cov for MultivariateNormal initialization.\"\"\"\n",
        "    issues = []\n",
        "\n",
        "    # Check shapes\n",
        "    if len(theta_MAP.shape) != 1:\n",
        "        issues.append(f\"theta_MAP should be a 1D tensor but got shape {theta_MAP.shape}\")\n",
        "    if len(posterior_cov.shape) != 2:\n",
        "        issues.append(f\"posterior_cov should be a 2D matrix but got shape {posterior_cov.shape}\")\n",
        "    elif posterior_cov.shape[0] != posterior_cov.shape[1]:\n",
        "        issues.append(\"posterior_cov should be a square matrix\")\n",
        "    elif theta_MAP.shape[0] != posterior_cov.shape[0]:\n",
        "        issues.append(\"Dimension mismatch: theta_MAP and posterior_cov should have compatible shapes\")\n",
        "\n",
        "    # Check for NaNs in theta_MAP\n",
        "    if torch.isnan(theta_MAP).any():\n",
        "        nan_indices = torch.where(torch.isnan(theta_MAP))[0].tolist()\n",
        "        issues.append(f\"NaN values found in theta_MAP at indices: {nan_indices}\")\n",
        "\n",
        "    # Check for NaNs in posterior_cov\n",
        "    if np.isnan(posterior_cov).any():\n",
        "        nan_indices = np.argwhere(np.isnan(posterior_cov)).tolist()\n",
        "        issues.append(f\"NaN values found in posterior_cov at indices: {nan_indices}\")\n",
        "\n",
        "    # Check for positive definiteness\n",
        "    try:\n",
        "        np.linalg.cholesky(posterior_cov)\n",
        "    except np.linalg.LinAlgError:\n",
        "        issues.append(\"posterior_cov is not positive definite\")\n",
        "\n",
        "    # Recommendations\n",
        "    if not issues:\n",
        "        return \"All checks passed.\"\n",
        "    else:\n",
        "        return \"Issues detected:\\n\" + \"\\n\".join(issues)\n",
        "\n",
        "# Example usage:\n",
        "theta_MAP = torch.randn(63)\n",
        "posterior_cov = np.eye(63)\n",
        "print(diagnostic_check(theta_MAP, posterior_cov))\n"
      ],
      "metadata": {
        "colab": {
          "base_uri": "https://localhost:8080/"
        },
        "id": "7kQys0fkLtcN",
        "outputId": "b35c4fec-a5ca-4f60-d78a-04cee28dae1b"
      },
      "execution_count": 14,
      "outputs": [
        {
          "output_type": "stream",
          "name": "stdout",
          "text": [
            "All checks passed.\n"
          ]
        }
      ]
    },
    {
      "cell_type": "code",
      "execution_count": 15,
      "metadata": {
        "id": "960ijNbOrHn8",
        "colab": {
          "base_uri": "https://localhost:8080/",
          "height": 607
        },
        "outputId": "2a51965d-d768-4e86-a577-5450c5003c45"
      },
      "outputs": [
        {
          "output_type": "display_data",
          "data": {
            "text/plain": [
              "<Figure size 1000x600 with 4 Axes>"
            ],
            "image/png": "[encoded data removed]"
          },
          "metadata": {}
        }
      ],
      "source": [
        "#Visualize the marginal distribution of some thetas\n",
        "\n",
        "import matplotlib.pyplot as plt\n",
        "from torch.distributions import MultivariateNormal\n",
        "\n",
        "# Sample from the full posterior\n",
        "mvn = MultivariateNormal(loc=theta_MAP, covariance_matrix=torch.from_numpy(posterior_cov).float())\n",
        "posterior_samples = mvn.sample((1000,))\n",
        "\n",
        "# Indices of thetas you want to visualize\n",
        "selected_indices = [0, 1, 2, 20]  # Change these to the indices you're interested in\n",
        "\n",
        "# Plot histograms\n",
        "plt.figure(figsize=(10, 6))\n",
        "for i, idx in enumerate(selected_indices):\n",
        "    plt.subplot(2, 2, i + 1)\n",
        "    plt.hist(posterior_samples[:, idx].numpy(), bins=40, density=True, alpha=0.7)\n",
        "    plt.title(f\"Posterior of $\\\\theta_{{{idx}}}$\")\n",
        "    plt.xlabel(\"Value\")\n",
        "    plt.ylabel(\"Density\")\n",
        "plt.tight_layout()\n",
        "plt.show()\n"
      ]
    },
    {
      "cell_type": "code",
      "execution_count": 16,
      "metadata": {
        "id": "kzFNdScbrHn9"
      },
      "outputs": [],
      "source": [
        "# 2. Implement your `Skellam` distribution, inheriting from `torch.distributions.Distribution`;\n",
        "\n",
        "from torch.distributions import Distribution\n",
        "\n",
        "class Skellam(torch.distributions.Distribution):\n",
        "    arg_constraints = {\n",
        "        'lambdaA': torch.distributions.constraints.positive,\n",
        "        'lambdaB': torch.distributions.constraints.positive\n",
        "    }\n",
        "\n",
        "    def __init__(self, lambdaA, lambdaB, validate_args=None):\n",
        "        self.lambdaA = lambdaA\n",
        "        self.lambdaB = lambdaB\n",
        "        batch_shape = torch.broadcast_shapes(lambdaA.shape, lambdaB.shape)\n",
        "        super().__init__(batch_shape, validate_args=validate_args)\n",
        "\n",
        "    def sample(self, sample_shape=torch.Size()):\n",
        "        poisson_A = torch.distributions.Poisson(self.lambdaA).sample(sample_shape)\n",
        "        poisson_B = torch.distributions.Poisson(self.lambdaB).sample(sample_shape)\n",
        "        return poisson_A - poisson_B\n",
        "\n",
        "    def log_prob(self, value):\n",
        "        lambdaA = self.lambdaA\n",
        "        lambdaB = self.lambdaB\n",
        "        k = value\n",
        "\n",
        "        term1 = -(lambdaA + lambdaB)\n",
        "        term2 = (k/2) * (torch.log(lambdaA) - torch.log(lambdaB))\n",
        "        z = 2 * torch.sqrt(lambdaA * lambdaB)\n",
        "\n",
        "        # Approximation for Bessel function log\n",
        "        term3 = z - 0.5 * torch.log(2 * torch.pi * z)\n",
        "\n",
        "        return term1 + term2 + term3\n"
      ]
    },
    {
      "cell_type": "code",
      "execution_count": 19,
      "metadata": {
        "id": "ZP7X8x-frHn9"
      },
      "outputs": [],
      "source": [
        "# 3. Write the Pyro model corresponding to the problem depicted above assuming (again) the `theta` values being distributed initially as a Standard Normal;\n",
        "import pyro\n",
        "import pyro.distributions as dist\n",
        "\n",
        "def model(goal_diff, teams_A, teams_B, max_player_id):\n",
        "    # Prior on player skills\n",
        "    theta = pyro.sample(\"theta\", dist.Normal(torch.zeros(max_player_id + 1), torch.ones(max_player_id + 1)))\n",
        "\n",
        "    for i in range(len(goal_diff)):\n",
        "        teamA = teams_A[i]\n",
        "        teamB = teams_B[i]\n",
        "        sA = theta[teamA].sum()\n",
        "        sB = theta[teamB].sum()\n",
        "        lambdaA = torch.exp(sA)\n",
        "        lambdaB = torch.exp(sB)\n",
        "\n",
        "        # Skellam likelihood\n",
        "        pyro.sample(f\"obs_{i}\", Skellam(lambdaA, lambdaB), obs=goal_diff[i])\n"
      ]
    },
    {
      "cell_type": "code",
      "execution_count": 23,
      "metadata": {
        "id": "mDMABPW3rHn9",
        "colab": {
          "base_uri": "https://localhost:8080/"
        },
        "outputId": "77af17e2-211f-4d61-f2ae-36e40d3fc953"
      },
      "outputs": [
        {
          "output_type": "stream",
          "name": "stderr",
          "text": [
            "Sample: 100%|██████████| 1200/1200 [04:49,  4.15it/s, step size=1.25e-01, acc. prob=0.674]\n"
          ]
        }
      ],
      "source": [
        "\n",
        "# 4. Perform inference on $ \\theta = (\\theta_1, \\theta_2, \\dots, \\theta_{62})$ values running a MCMC simulation using the `NUTS` kernel;\n",
        "\n",
        "from pyro.infer import MCMC, NUTS\n",
        "\n",
        "nuts_kernel = NUTS(model)\n",
        "mcmc = MCMC(nuts_kernel, num_samples=1000, warmup_steps=200)\n",
        "mcmc.run(goal_diff, teams_A, teams_B, max_player_id)\n",
        "\n",
        "# Get samples\n",
        "samples = mcmc.get_samples()\n",
        "theta_MCMC = samples[\"theta\"].mean(dim=0)"
      ]
    },
    {
      "cell_type": "code",
      "execution_count": 25,
      "metadata": {
        "id": "JFUZ8ucwrHn9",
        "colab": {
          "base_uri": "https://localhost:8080/"
        },
        "outputId": "cf25e2d8-cb0d-4041-f676-3ab256746832"
      },
      "outputs": [
        {
          "output_type": "stream",
          "name": "stdout",
          "text": [
            "Performance Results:\n",
            "MAP - MAE: 1040.5688280433237, MBE: 1037.328513229111\n",
            "MCMC - MAE: 67.38423333333333, MBE: 45.22225925925925\n"
          ]
        }
      ],
      "source": [
        "# 5. Compare the `theta_*` values obtained by these two options using the `performances_evaluation` function given in this notebook.\n",
        "\n",
        "import numpy as np\n",
        "import torch\n",
        "\n",
        "def predict_goal_diff_skellam(teamA_ids, teamB_ids, theta, n_sim=10_000, posterior_cov=None):\n",
        "    \"\"\"\n",
        "    Predicts the goal difference (Skellam distribution) between two teams using theta.\n",
        "\n",
        "    Args:\n",
        "        teamA_ids (list): Indices of the players in team A.\n",
        "        teamB_ids (list): Indices of the players in team B.\n",
        "        theta (torch.Tensor): Tensor containing the skill levels of the players.\n",
        "        n_sim (int): Number of simulations to run.\n",
        "\n",
        "    Returns:\n",
        "        float: Mean predicted goal difference (A - B).\n",
        "    \"\"\"\n",
        "\n",
        "    # Calculate the total strength for each team (sum of player skill levels)\n",
        "    sA = theta[teamA_ids].sum()\n",
        "    sB = theta[teamB_ids].sum()\n",
        "\n",
        "    # Lambda parameters for Poisson distribution (expected goals)\n",
        "    lam_A = torch.exp(sA).item()  # Team A's expected goal rate\n",
        "    lam_B = torch.exp(sB).item()  # Team B's expected goal rate\n",
        "\n",
        "    # Simulate goals for each team using Poisson distribution\n",
        "    goals_A = np.random.poisson(lam_A, size=n_sim)\n",
        "    goals_B = np.random.poisson(lam_B, size=n_sim)\n",
        "\n",
        "    # Calculate the difference in goals (A - B)\n",
        "    diff = goals_A - goals_B\n",
        "\n",
        "    # Return the mean predicted difference\n",
        "    return diff.mean()\n",
        "\n",
        "\n",
        "def predict_goal_diff_laplace(teamA_ids, teamB_ids, theta_map, cov_matrix, n_sim=1000):\n",
        "    # Combine all relevant indices\n",
        "    all_ids = torch.tensor(sorted(set(teamA_ids) | set(teamB_ids)))\n",
        "\n",
        "    # Extract subvector of means (mu_A and mu_B)\n",
        "    theta_sub = theta_map[all_ids].float()\n",
        "\n",
        "    # Extract submatrix of covariances\n",
        "    cov_sub = cov_matrix[np.ix_(all_ids, all_ids)]  # numpy version\n",
        "    cov_sub = torch.from_numpy(cov_sub).float()\n",
        "\n",
        "    # Create multivariate normal from posterior\n",
        "    mvn = MultivariateNormal(loc=theta_sub, covariance_matrix=cov_sub)\n",
        "\n",
        "    # Sample from posterior\n",
        "    theta_samples = mvn.sample((n_sim,))  # shape: (n_sim, len(all_ids))\n",
        "\n",
        "    # Compute strength for each team in each sample\n",
        "    teamA_len = len(teamA_ids)\n",
        "    sA = theta_samples[:, :teamA_len].sum(dim=1)\n",
        "    sB = theta_samples[:, teamA_len:].sum(dim=1)\n",
        "\n",
        "    # Expected goals via Poisson lambdas\n",
        "    lam_A = torch.exp(sA)\n",
        "    lam_B = torch.exp(sB)\n",
        "\n",
        "    # Sample goals\n",
        "    goals_A = torch.poisson(lam_A)\n",
        "    goals_B = torch.poisson(lam_B)\n",
        "\n",
        "    # Goal differences\n",
        "    diff = goals_A - goals_B\n",
        "    return diff.mean()\n",
        "\n",
        "\n",
        "def evaluate_performance(theta_MAP, theta_MCMC, posterior_cov, teams_A, teams_B, goal_diff, n_sim=10_000):\n",
        "    \"\"\"\n",
        "    Evaluates the performance of different sets of theta values by comparing the Mean Bias Error (MBE)\n",
        "    and Mean Absolute Error (MAE) between predicted and actual goal differences.\n",
        "\n",
        "    Args:\n",
        "        theta_values (list of torch.Tensor): List of different theta values to evaluate.\n",
        "        teams_A (list of lists): List of player IDs for team A in each match.\n",
        "        teams_B (list of lists): List of player IDs for team B in each match.\n",
        "        goal_diff (list): List of actual goal differences (A - B).\n",
        "        n_sim (int): Number of simulations to run for each set of theta values.\n",
        "\n",
        "    Returns:\n",
        "        dict: Dictionary with MBE and MAE for each set of theta values.\n",
        "    \"\"\"\n",
        "    results = {}\n",
        "\n",
        "    # Loop through each set of theta values\n",
        "\n",
        "    predicted_diffs_MAP = []  # List to store predicted goal differences\n",
        "    predicted_diffs_MCMC = []\n",
        "    actual_diffs = goal_diff  # Actual goal differences\n",
        "\n",
        "    # Simulate the match results for each game\n",
        "    for i in range(len(goal_diff)):\n",
        "        teamA_ids = teams_A[i]\n",
        "        teamB_ids = teams_B[i]\n",
        "\n",
        "        # Predict the goal difference\n",
        "        # Use the Laplace approximation if posterior_cov is provided\n",
        "\n",
        "        predicted_MAP = predict_goal_diff_laplace(teamA_ids, teamB_ids, theta_MAP, posterior_cov, n_sim)\n",
        "        predicted_MCMC = predict_goal_diff_skellam(teamA_ids, teamB_ids, theta_MCMC, n_sim)\n",
        "\n",
        "        predicted_diffs_MAP.append(predicted_MAP)\n",
        "        predicted_diffs_MCMC.append(predicted_MCMC)\n",
        "\n",
        "    # Convert lists to numpy arrays for easier calculations\n",
        "    predicted_diffs_MAP = np.array(predicted_diffs_MAP)\n",
        "    predicted_diffs_MCMC = np.array(predicted_diffs_MCMC)\n",
        "    actual_diffs = np.array(actual_diffs)\n",
        "\n",
        "    # Compute MAE and MBE\n",
        "    mae_MAP = np.mean(np.abs(predicted_diffs_MAP - actual_diffs))  # Mean Absolute Error\n",
        "    mbe_MAP = (predicted_diffs_MAP - actual_diffs).mean()  # Mean Bias Error\n",
        "    mae_MCMC = np.mean(np.abs(predicted_diffs_MCMC - actual_diffs))  # Mean Absolute Error\n",
        "    mbe_MCMC = (predicted_diffs_MCMC - actual_diffs).mean()  # Mean Bias Error\n",
        "\n",
        "    # Store results for the current theta set\n",
        "    results = {'MAE_MAP': mae_MAP, 'MBE_MAP': mbe_MAP,\n",
        "              'MAE_MCMC': mae_MCMC, 'MBE_MCMC': mbe_MCMC}\n",
        "\n",
        "    return results\n",
        "\n",
        "\n",
        "# Evaluate the performance of different theta values on the same dataset used to fix those values\n",
        "performance_results = evaluate_performance(theta_MCMC, theta_MAP, posterior_cov, teams_A, teams_B, goal_diff)\n",
        "\n",
        "# Print the results\n",
        "print(\"Performance Results:\")\n",
        "print(f\"MAP - MAE: {performance_results['MAE_MAP']}, MBE: {performance_results['MBE_MAP']}\")\n",
        "print(f\"MCMC - MAE: {performance_results['MAE_MCMC']}, MBE: {performance_results['MBE_MCMC']}\")"
      ]
    }
  ],
  "metadata": {
    "kernelspec": {
      "display_name": "general",
      "language": "python",
      "name": "python3"
    },
    "language_info": {
      "codemirror_mode": {
        "name": "ipython",
        "version": 3
      },
      "file_extension": ".py",
      "mimetype": "text/x-python",
      "name": "python",
      "nbconvert_exporter": "python",
      "pygments_lexer": "ipython3",
      "version": "3.12.8"
    },
    "colab": {
      "provenance": [],
      "include_colab_link": true
    }
  },
  "nbformat": 4,
  "nbformat_minor": 0
}